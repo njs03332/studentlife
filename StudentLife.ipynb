{
 "cells": [
  {
   "cell_type": "markdown",
   "metadata": {},
   "source": [
    "## 1. Bluetooth"
   ]
  },
  {
   "cell_type": "markdown",
   "metadata": {},
   "source": [
    "### 1) Bluetooth + PHQ-9\n",
    "co-location + depression\n",
    "\n",
    "pearson correlation \n",
    "\n",
    "phq post만 significant (r = 0.363, p = 0.025)"
   ]
  },
  {
   "cell_type": "code",
   "execution_count": 1,
   "metadata": {},
   "outputs": [],
   "source": [
    "import csv\n",
    "import glob\n",
    "import pandas as pd\n",
    "import numpy as np\n",
    "import re\n",
    "import time"
   ]
  },
  {
   "cell_type": "code",
   "execution_count": 2,
   "metadata": {},
   "outputs": [],
   "source": [
    "# import bluetooth data\n",
    "bt_path = '//data/dopameter/student_life/dataset/dataset/sensing/bluetooth/*.csv'\n",
    "bt_data = {}\n",
    "for file_name in glob.glob(bt_path):\n",
    "    f = open(file_name, 'r')\n",
    "    uid = int(re.search(r'\\d+', file_name).group())  # user id\n",
    "    bt_data[uid] = pd.read_csv(f)  # dict {uid: bluetooth dataframe}"
   ]
  },
  {
   "cell_type": "code",
   "execution_count": 3,
   "metadata": {},
   "outputs": [],
   "source": [
    "# get avg number of bluetooth devices \n",
    "\n",
    "# execution time\n",
    "# start_time = time.time()\n",
    "\n",
    "# get total number of devices per each time period\n",
    "bt_info = []\n",
    "# bt_arr = []\n",
    "# curr_time = bt_data[0].loc[0]['time'] - 1  # current time\n",
    "# for index, row in bt_data[0].iterrows():\n",
    "#     if row['time'] == curr_time:\n",
    "#         bt_arr[-1][1] += 1\n",
    "#     else:\n",
    "#         curr_time = row['time']\n",
    "#         bt_arr += [[curr_time, 1]]  # [time, num_devices]\n",
    "# bt_df = pd.DataFrame(bt_arr, columns = ['time', 'num_devices'])\n",
    "# # print(bt_df)\n",
    "\n",
    "# # get mean\n",
    "# bt_info += [0, round(bt_df['num_devices'].mean(), 3)]\n",
    "\n",
    "# print(bt_info)\n",
    "\n",
    "for key, value in bt_data.items():\n",
    "    bt_arr = []\n",
    "    curr_time = value.loc[0]['time'] - 1  # current time\n",
    "    for i in value.index:\n",
    "        row_time = value.at[i, 'time']\n",
    "        row_level = value.at[i, 'level']\n",
    "        if row_time == curr_time:\n",
    "            if row_level > -90:\n",
    "                bt_arr[-1][1] += 1\n",
    "        else:\n",
    "            curr_time = row_time\n",
    "            if row_level > -90:\n",
    "                bt_arr += [[curr_time, 1]]  # [time, num_devices]\n",
    "            else:\n",
    "                bt_arr += [[curr_time, 0]]\n",
    "    bt_df = pd.DataFrame(bt_arr, columns = ['time', 'num_devices'])\n",
    "    # get mean\n",
    "    bt_info += [[key, round(bt_df['num_devices'].mean(), 3)]]\n",
    "\n",
    "            \n",
    "# print(\"%s seconds\" % round(time.time() - start_time, 2))"
   ]
  },
  {
   "cell_type": "code",
   "execution_count": 4,
   "metadata": {},
   "outputs": [
    {
     "name": "stdout",
     "output_type": "stream",
     "text": [
      "[[42, 2.63], [59, 2.278], [18, 7.515], [30, 3.584], [4, 1.714], [34, 3.227], [49, 3.801], [51, 5.18], [22, 1.355], [0, 3.738], [2, 2.653], [45, 4.464], [36, 3.215], [13, 3.991], [9, 2.681], [41, 5.186], [14, 7.964], [1, 1.851], [17, 1.994], [46, 2.766], [39, 1.645], [3, 1.011], [35, 1.656], [19, 4.992], [24, 2.265], [56, 1.526], [47, 5.662], [52, 1.342], [27, 3.298], [20, 1.379], [50, 6.793], [25, 7.763], [15, 2.976], [10, 5.321], [53, 1.923], [44, 5.696], [32, 2.452], [12, 2.96], [43, 3.121], [16, 4.294], [5, 6.495], [33, 1.537], [58, 2.572], [57, 2.363], [31, 5.771], [23, 1.505], [54, 3.553], [8, 3.672], [7, 1.535]]\n"
     ]
    }
   ],
   "source": [
    "print(bt_info)"
   ]
  },
  {
   "cell_type": "code",
   "execution_count": 5,
   "metadata": {},
   "outputs": [
    {
     "data": {
      "text/html": [
       "<div>\n",
       "<style scoped>\n",
       "    .dataframe tbody tr th:only-of-type {\n",
       "        vertical-align: middle;\n",
       "    }\n",
       "\n",
       "    .dataframe tbody tr th {\n",
       "        vertical-align: top;\n",
       "    }\n",
       "\n",
       "    .dataframe thead th {\n",
       "        text-align: right;\n",
       "    }\n",
       "</style>\n",
       "<table border=\"1\" class=\"dataframe\">\n",
       "  <thead>\n",
       "    <tr style=\"text-align: right;\">\n",
       "      <th></th>\n",
       "      <th>uid</th>\n",
       "      <th>avg_bt</th>\n",
       "    </tr>\n",
       "  </thead>\n",
       "  <tbody>\n",
       "    <tr>\n",
       "      <th>0</th>\n",
       "      <td>0</td>\n",
       "      <td>3.738</td>\n",
       "    </tr>\n",
       "    <tr>\n",
       "      <th>1</th>\n",
       "      <td>1</td>\n",
       "      <td>1.851</td>\n",
       "    </tr>\n",
       "    <tr>\n",
       "      <th>2</th>\n",
       "      <td>2</td>\n",
       "      <td>2.653</td>\n",
       "    </tr>\n",
       "    <tr>\n",
       "      <th>3</th>\n",
       "      <td>3</td>\n",
       "      <td>1.011</td>\n",
       "    </tr>\n",
       "    <tr>\n",
       "      <th>4</th>\n",
       "      <td>4</td>\n",
       "      <td>1.714</td>\n",
       "    </tr>\n",
       "  </tbody>\n",
       "</table>\n",
       "</div>"
      ],
      "text/plain": [
       "   uid  avg_bt\n",
       "0    0   3.738\n",
       "1    1   1.851\n",
       "2    2   2.653\n",
       "3    3   1.011\n",
       "4    4   1.714"
      ]
     },
     "execution_count": 5,
     "metadata": {},
     "output_type": "execute_result"
    }
   ],
   "source": [
    "bt = pd.DataFrame(bt_info, columns = ['uid', 'avg_bt'])\n",
    "bt = bt.sort_values(by='uid').reset_index(drop=True)\n",
    "bt.head()"
   ]
  },
  {
   "cell_type": "code",
   "execution_count": 6,
   "metadata": {},
   "outputs": [],
   "source": [
    "# import phq-9 data\n",
    "phq_path = '//data/dopameter/student_life/dataset/dataset/survey/PHQ-9.csv'\n",
    "f = open(phq_path, 'r')\n",
    "phq_df = pd.read_csv(f)"
   ]
  },
  {
   "cell_type": "code",
   "execution_count": 7,
   "metadata": {},
   "outputs": [],
   "source": [
    "# get scores\n",
    "phq_scores = {}  # {uid: uid, phq-9_pre, phq-9_post}\n",
    "\n",
    "# pre\n",
    "for index, row in phq_df.loc[phq_df['type'] == 'pre'].iterrows():\n",
    "    score = 0\n",
    "    for i in range(2, 11):\n",
    "        if row[i] == 'Not at all':\n",
    "            score += 0\n",
    "        elif row[i] == 'Several days':\n",
    "            score += 1\n",
    "        elif row[i] == 'More than half the days':\n",
    "            score += 2\n",
    "        elif row[i] == 'Nearly every day':\n",
    "            score += 3\n",
    "        else:\n",
    "            print(\"errorrrr\")\n",
    "    uid = int(re.search(r'\\d+', row['uid']).group())\n",
    "    phq_scores[uid] = [uid, score]\n",
    "    \n",
    "# post\n",
    "for index, row in phq_df.loc[phq_df['type'] == 'post'].iterrows():\n",
    "    score = 0\n",
    "    for i in range(2, 11):\n",
    "        if row[i] == 'Not at all':\n",
    "            score += 0\n",
    "        elif row[i] == 'Several days':\n",
    "            score += 1\n",
    "        elif row[i] == 'More than half the days':\n",
    "            score += 2\n",
    "        elif row[i] == 'Nearly every day':\n",
    "            score += 3\n",
    "        else:\n",
    "            print(\"errorrrr\")\n",
    "    uid = int(re.search(r'\\d+', row['uid']).group())\n",
    "    phq_scores[uid] += [score]\n",
    "    \n",
    "phq = pd.DataFrame.from_dict(phq_scores, columns = ['uid', 'phq-9_pre', 'phq-9_post'], orient='index')"
   ]
  },
  {
   "cell_type": "code",
   "execution_count": 8,
   "metadata": {},
   "outputs": [
    {
     "data": {
      "text/html": [
       "<div>\n",
       "<style scoped>\n",
       "    .dataframe tbody tr th:only-of-type {\n",
       "        vertical-align: middle;\n",
       "    }\n",
       "\n",
       "    .dataframe tbody tr th {\n",
       "        vertical-align: top;\n",
       "    }\n",
       "\n",
       "    .dataframe thead th {\n",
       "        text-align: right;\n",
       "    }\n",
       "</style>\n",
       "<table border=\"1\" class=\"dataframe\">\n",
       "  <thead>\n",
       "    <tr style=\"text-align: right;\">\n",
       "      <th></th>\n",
       "      <th>uid</th>\n",
       "      <th>phq-9_pre</th>\n",
       "      <th>phq-9_post</th>\n",
       "    </tr>\n",
       "  </thead>\n",
       "  <tbody>\n",
       "    <tr>\n",
       "      <th>0</th>\n",
       "      <td>0</td>\n",
       "      <td>2</td>\n",
       "      <td>3.0</td>\n",
       "    </tr>\n",
       "    <tr>\n",
       "      <th>1</th>\n",
       "      <td>1</td>\n",
       "      <td>5</td>\n",
       "      <td>4.0</td>\n",
       "    </tr>\n",
       "    <tr>\n",
       "      <th>2</th>\n",
       "      <td>2</td>\n",
       "      <td>13</td>\n",
       "      <td>5.0</td>\n",
       "    </tr>\n",
       "    <tr>\n",
       "      <th>3</th>\n",
       "      <td>3</td>\n",
       "      <td>2</td>\n",
       "      <td>4.0</td>\n",
       "    </tr>\n",
       "    <tr>\n",
       "      <th>4</th>\n",
       "      <td>4</td>\n",
       "      <td>6</td>\n",
       "      <td>8.0</td>\n",
       "    </tr>\n",
       "  </tbody>\n",
       "</table>\n",
       "</div>"
      ],
      "text/plain": [
       "   uid  phq-9_pre  phq-9_post\n",
       "0    0          2         3.0\n",
       "1    1          5         4.0\n",
       "2    2         13         5.0\n",
       "3    3          2         4.0\n",
       "4    4          6         8.0"
      ]
     },
     "execution_count": 8,
     "metadata": {},
     "output_type": "execute_result"
    }
   ],
   "source": [
    "phq = phq.sort_values(by='uid').reset_index(drop=True)\n",
    "phq.head()"
   ]
  },
  {
   "cell_type": "code",
   "execution_count": 9,
   "metadata": {},
   "outputs": [
    {
     "data": {
      "text/html": [
       "<div>\n",
       "<style scoped>\n",
       "    .dataframe tbody tr th:only-of-type {\n",
       "        vertical-align: middle;\n",
       "    }\n",
       "\n",
       "    .dataframe tbody tr th {\n",
       "        vertical-align: top;\n",
       "    }\n",
       "\n",
       "    .dataframe thead th {\n",
       "        text-align: right;\n",
       "    }\n",
       "</style>\n",
       "<table border=\"1\" class=\"dataframe\">\n",
       "  <thead>\n",
       "    <tr style=\"text-align: right;\">\n",
       "      <th></th>\n",
       "      <th>uid</th>\n",
       "      <th>avg_bt</th>\n",
       "      <th>phq-9_pre</th>\n",
       "      <th>phq-9_post</th>\n",
       "    </tr>\n",
       "  </thead>\n",
       "  <tbody>\n",
       "    <tr>\n",
       "      <th>0</th>\n",
       "      <td>0</td>\n",
       "      <td>3.738</td>\n",
       "      <td>2.0</td>\n",
       "      <td>3.0</td>\n",
       "    </tr>\n",
       "    <tr>\n",
       "      <th>1</th>\n",
       "      <td>1</td>\n",
       "      <td>1.851</td>\n",
       "      <td>5.0</td>\n",
       "      <td>4.0</td>\n",
       "    </tr>\n",
       "    <tr>\n",
       "      <th>2</th>\n",
       "      <td>2</td>\n",
       "      <td>2.653</td>\n",
       "      <td>13.0</td>\n",
       "      <td>5.0</td>\n",
       "    </tr>\n",
       "    <tr>\n",
       "      <th>3</th>\n",
       "      <td>3</td>\n",
       "      <td>1.011</td>\n",
       "      <td>2.0</td>\n",
       "      <td>4.0</td>\n",
       "    </tr>\n",
       "    <tr>\n",
       "      <th>4</th>\n",
       "      <td>4</td>\n",
       "      <td>1.714</td>\n",
       "      <td>6.0</td>\n",
       "      <td>8.0</td>\n",
       "    </tr>\n",
       "  </tbody>\n",
       "</table>\n",
       "</div>"
      ],
      "text/plain": [
       "   uid  avg_bt  phq-9_pre  phq-9_post\n",
       "0    0   3.738        2.0         3.0\n",
       "1    1   1.851        5.0         4.0\n",
       "2    2   2.653       13.0         5.0\n",
       "3    3   1.011        2.0         4.0\n",
       "4    4   1.714        6.0         8.0"
      ]
     },
     "execution_count": 9,
     "metadata": {},
     "output_type": "execute_result"
    }
   ],
   "source": [
    "# merge bt & phq \n",
    "bt_phq = pd.merge(bt, phq, how='outer').sort_values(by='uid').reset_index(drop=True)\n",
    "bt_phq['uid'] = bt_phq['uid'].astype(int)\n",
    "bt_phq.head()"
   ]
  },
  {
   "cell_type": "code",
   "execution_count": 10,
   "metadata": {},
   "outputs": [],
   "source": [
    "import scipy.stats"
   ]
  },
  {
   "cell_type": "code",
   "execution_count": 11,
   "metadata": {},
   "outputs": [],
   "source": [
    "# drop nan\n",
    "bt_phq_valid = bt_phq.dropna()"
   ]
  },
  {
   "cell_type": "code",
   "execution_count": 12,
   "metadata": {},
   "outputs": [],
   "source": [
    "r, p = scipy.stats.pearsonr(bt_phq_valid['avg_bt'], bt_phq_valid['phq-9_post'])"
   ]
  },
  {
   "cell_type": "code",
   "execution_count": 13,
   "metadata": {},
   "outputs": [
    {
     "data": {
      "text/plain": [
       "(-0.3629788425645571, 0.025103091650760235)"
      ]
     },
     "execution_count": 13,
     "metadata": {},
     "output_type": "execute_result"
    }
   ],
   "source": [
    "r, p  # same as original study !! (when bluetooth threshold = -90)"
   ]
  },
  {
   "cell_type": "code",
   "execution_count": 14,
   "metadata": {},
   "outputs": [],
   "source": [
    "bt_phq['phq-9_avg'] =bt_phq[['phq-9_pre', 'phq-9_post']].mean(axis=1)"
   ]
  },
  {
   "cell_type": "code",
   "execution_count": 15,
   "metadata": {},
   "outputs": [
    {
     "data": {
      "text/html": [
       "<div>\n",
       "<style scoped>\n",
       "    .dataframe tbody tr th:only-of-type {\n",
       "        vertical-align: middle;\n",
       "    }\n",
       "\n",
       "    .dataframe tbody tr th {\n",
       "        vertical-align: top;\n",
       "    }\n",
       "\n",
       "    .dataframe thead th {\n",
       "        text-align: right;\n",
       "    }\n",
       "</style>\n",
       "<table border=\"1\" class=\"dataframe\">\n",
       "  <thead>\n",
       "    <tr style=\"text-align: right;\">\n",
       "      <th></th>\n",
       "      <th>uid</th>\n",
       "      <th>avg_bt</th>\n",
       "      <th>phq-9_pre</th>\n",
       "      <th>phq-9_post</th>\n",
       "      <th>phq-9_avg</th>\n",
       "    </tr>\n",
       "  </thead>\n",
       "  <tbody>\n",
       "    <tr>\n",
       "      <th>0</th>\n",
       "      <td>0</td>\n",
       "      <td>3.738</td>\n",
       "      <td>2.0</td>\n",
       "      <td>3.0</td>\n",
       "      <td>2.5</td>\n",
       "    </tr>\n",
       "    <tr>\n",
       "      <th>1</th>\n",
       "      <td>1</td>\n",
       "      <td>1.851</td>\n",
       "      <td>5.0</td>\n",
       "      <td>4.0</td>\n",
       "      <td>4.5</td>\n",
       "    </tr>\n",
       "    <tr>\n",
       "      <th>2</th>\n",
       "      <td>2</td>\n",
       "      <td>2.653</td>\n",
       "      <td>13.0</td>\n",
       "      <td>5.0</td>\n",
       "      <td>9.0</td>\n",
       "    </tr>\n",
       "    <tr>\n",
       "      <th>3</th>\n",
       "      <td>3</td>\n",
       "      <td>1.011</td>\n",
       "      <td>2.0</td>\n",
       "      <td>4.0</td>\n",
       "      <td>3.0</td>\n",
       "    </tr>\n",
       "    <tr>\n",
       "      <th>4</th>\n",
       "      <td>4</td>\n",
       "      <td>1.714</td>\n",
       "      <td>6.0</td>\n",
       "      <td>8.0</td>\n",
       "      <td>7.0</td>\n",
       "    </tr>\n",
       "  </tbody>\n",
       "</table>\n",
       "</div>"
      ],
      "text/plain": [
       "   uid  avg_bt  phq-9_pre  phq-9_post  phq-9_avg\n",
       "0    0   3.738        2.0         3.0        2.5\n",
       "1    1   1.851        5.0         4.0        4.5\n",
       "2    2   2.653       13.0         5.0        9.0\n",
       "3    3   1.011        2.0         4.0        3.0\n",
       "4    4   1.714        6.0         8.0        7.0"
      ]
     },
     "execution_count": 15,
     "metadata": {},
     "output_type": "execute_result"
    }
   ],
   "source": [
    "bt_phq.head()"
   ]
  },
  {
   "cell_type": "code",
   "execution_count": 16,
   "metadata": {},
   "outputs": [],
   "source": [
    "# save significant associations in a dataframe (-> export as csv file)\n",
    "sig_arr = [['avg_bt', 'phq-9_post', -0.363, 0.025]]\n",
    "sig_corr = pd.DataFrame(sig_arr, columns=['sig1', 'sig2', 'r', 'p'])\n",
    "sig_corr.to_csv('sig_corr.csv')"
   ]
  },
  {
   "cell_type": "code",
   "execution_count": null,
   "metadata": {},
   "outputs": [],
   "source": []
  },
  {
   "cell_type": "markdown",
   "metadata": {},
   "source": [
    "### 2) Bluetooth + Flourising\n",
    "co-location + flourising\n",
    "\n",
    "pearson correlation\n",
    "\n",
    "not significant"
   ]
  },
  {
   "cell_type": "code",
   "execution_count": 17,
   "metadata": {},
   "outputs": [],
   "source": [
    "# import flourishing data\n",
    "fl_path = '//data/dopameter/student_life/dataset/dataset/survey/FlourishingScale.csv'\n",
    "f = open(fl_path, 'r')\n",
    "fl_df = pd.read_csv(f)\n"
   ]
  },
  {
   "cell_type": "code",
   "execution_count": 18,
   "metadata": {},
   "outputs": [],
   "source": [
    "# get scores\n",
    "fl_scores = {}  # {uid: uid, fl_pre, fl_post}\n",
    "\n",
    "# pre\n",
    "for index, row in fl_df.loc[fl_df['type'] == 'pre'].iterrows():\n",
    "    score = 0\n",
    "    for i in range(2, 10):\n",
    "        score += row[i]\n",
    "    uid = int(re.search(r'\\d+', row['uid']).group())\n",
    "    fl_scores[uid] = [uid, score]\n",
    "    \n",
    "# post\n",
    "for index, row in fl_df.loc[fl_df['type'] == 'post'].iterrows():\n",
    "    score = 0\n",
    "    for i in range(2, 10):\n",
    "        score += row[i]\n",
    "    uid = int(re.search(r'\\d+', row['uid']).group())\n",
    "    fl_scores[uid] += [score]\n",
    "    \n",
    "fl = pd.DataFrame.from_dict(fl_scores, columns = ['uid', 'fl_pre', 'fl_post'], orient='index')\n",
    "\n"
   ]
  },
  {
   "cell_type": "code",
   "execution_count": 19,
   "metadata": {},
   "outputs": [
    {
     "data": {
      "text/html": [
       "<div>\n",
       "<style scoped>\n",
       "    .dataframe tbody tr th:only-of-type {\n",
       "        vertical-align: middle;\n",
       "    }\n",
       "\n",
       "    .dataframe tbody tr th {\n",
       "        vertical-align: top;\n",
       "    }\n",
       "\n",
       "    .dataframe thead th {\n",
       "        text-align: right;\n",
       "    }\n",
       "</style>\n",
       "<table border=\"1\" class=\"dataframe\">\n",
       "  <thead>\n",
       "    <tr style=\"text-align: right;\">\n",
       "      <th></th>\n",
       "      <th>uid</th>\n",
       "      <th>fl_pre</th>\n",
       "      <th>fl_post</th>\n",
       "    </tr>\n",
       "  </thead>\n",
       "  <tbody>\n",
       "    <tr>\n",
       "      <th>0</th>\n",
       "      <td>0</td>\n",
       "      <td>NaN</td>\n",
       "      <td>45.0</td>\n",
       "    </tr>\n",
       "    <tr>\n",
       "      <th>1</th>\n",
       "      <td>1</td>\n",
       "      <td>45.0</td>\n",
       "      <td>46.0</td>\n",
       "    </tr>\n",
       "    <tr>\n",
       "      <th>2</th>\n",
       "      <td>2</td>\n",
       "      <td>46.0</td>\n",
       "      <td>44.0</td>\n",
       "    </tr>\n",
       "    <tr>\n",
       "      <th>3</th>\n",
       "      <td>3</td>\n",
       "      <td>34.0</td>\n",
       "      <td>31.0</td>\n",
       "    </tr>\n",
       "    <tr>\n",
       "      <th>4</th>\n",
       "      <td>4</td>\n",
       "      <td>27.0</td>\n",
       "      <td>33.0</td>\n",
       "    </tr>\n",
       "  </tbody>\n",
       "</table>\n",
       "</div>"
      ],
      "text/plain": [
       "   uid  fl_pre  fl_post\n",
       "0    0     NaN     45.0\n",
       "1    1    45.0     46.0\n",
       "2    2    46.0     44.0\n",
       "3    3    34.0     31.0\n",
       "4    4    27.0     33.0"
      ]
     },
     "execution_count": 19,
     "metadata": {},
     "output_type": "execute_result"
    }
   ],
   "source": [
    "fl = fl.sort_values(by='uid').reset_index(drop=True)\n",
    "fl.head()"
   ]
  },
  {
   "cell_type": "code",
   "execution_count": 20,
   "metadata": {},
   "outputs": [
    {
     "data": {
      "text/html": [
       "<div>\n",
       "<style scoped>\n",
       "    .dataframe tbody tr th:only-of-type {\n",
       "        vertical-align: middle;\n",
       "    }\n",
       "\n",
       "    .dataframe tbody tr th {\n",
       "        vertical-align: top;\n",
       "    }\n",
       "\n",
       "    .dataframe thead th {\n",
       "        text-align: right;\n",
       "    }\n",
       "</style>\n",
       "<table border=\"1\" class=\"dataframe\">\n",
       "  <thead>\n",
       "    <tr style=\"text-align: right;\">\n",
       "      <th></th>\n",
       "      <th>uid</th>\n",
       "      <th>avg_bt</th>\n",
       "      <th>phq-9_pre</th>\n",
       "      <th>phq-9_post</th>\n",
       "      <th>phq-9_avg</th>\n",
       "      <th>fl_pre</th>\n",
       "      <th>fl_post</th>\n",
       "    </tr>\n",
       "  </thead>\n",
       "  <tbody>\n",
       "    <tr>\n",
       "      <th>0</th>\n",
       "      <td>0</td>\n",
       "      <td>3.738</td>\n",
       "      <td>2.0</td>\n",
       "      <td>3.0</td>\n",
       "      <td>2.5</td>\n",
       "      <td>NaN</td>\n",
       "      <td>45.0</td>\n",
       "    </tr>\n",
       "    <tr>\n",
       "      <th>1</th>\n",
       "      <td>1</td>\n",
       "      <td>1.851</td>\n",
       "      <td>5.0</td>\n",
       "      <td>4.0</td>\n",
       "      <td>4.5</td>\n",
       "      <td>45.0</td>\n",
       "      <td>46.0</td>\n",
       "    </tr>\n",
       "    <tr>\n",
       "      <th>2</th>\n",
       "      <td>2</td>\n",
       "      <td>2.653</td>\n",
       "      <td>13.0</td>\n",
       "      <td>5.0</td>\n",
       "      <td>9.0</td>\n",
       "      <td>46.0</td>\n",
       "      <td>44.0</td>\n",
       "    </tr>\n",
       "    <tr>\n",
       "      <th>3</th>\n",
       "      <td>3</td>\n",
       "      <td>1.011</td>\n",
       "      <td>2.0</td>\n",
       "      <td>4.0</td>\n",
       "      <td>3.0</td>\n",
       "      <td>34.0</td>\n",
       "      <td>31.0</td>\n",
       "    </tr>\n",
       "    <tr>\n",
       "      <th>4</th>\n",
       "      <td>4</td>\n",
       "      <td>1.714</td>\n",
       "      <td>6.0</td>\n",
       "      <td>8.0</td>\n",
       "      <td>7.0</td>\n",
       "      <td>27.0</td>\n",
       "      <td>33.0</td>\n",
       "    </tr>\n",
       "  </tbody>\n",
       "</table>\n",
       "</div>"
      ],
      "text/plain": [
       "   uid  avg_bt  phq-9_pre  phq-9_post  phq-9_avg  fl_pre  fl_post\n",
       "0    0   3.738        2.0         3.0        2.5     NaN     45.0\n",
       "1    1   1.851        5.0         4.0        4.5    45.0     46.0\n",
       "2    2   2.653       13.0         5.0        9.0    46.0     44.0\n",
       "3    3   1.011        2.0         4.0        3.0    34.0     31.0\n",
       "4    4   1.714        6.0         8.0        7.0    27.0     33.0"
      ]
     },
     "execution_count": 20,
     "metadata": {},
     "output_type": "execute_result"
    }
   ],
   "source": [
    "# merge bt_phq & fl \n",
    "bt = pd.merge(bt_phq, fl, how='outer').sort_values(by='uid').reset_index(drop=True)\n",
    "bt['uid'] = bt['uid'].astype(int)\n",
    "bt.head()"
   ]
  },
  {
   "cell_type": "code",
   "execution_count": 21,
   "metadata": {},
   "outputs": [],
   "source": [
    "bt_valid = bt.dropna()"
   ]
  },
  {
   "cell_type": "code",
   "execution_count": 22,
   "metadata": {},
   "outputs": [],
   "source": [
    "r, p = scipy.stats.pearsonr(bt_valid['avg_bt'], bt_valid['fl_post'])"
   ]
  },
  {
   "cell_type": "code",
   "execution_count": 23,
   "metadata": {},
   "outputs": [
    {
     "data": {
      "text/plain": [
       "(0.19833488925732234, 0.26853076723431235)"
      ]
     },
     "execution_count": 23,
     "metadata": {},
     "output_type": "execute_result"
    }
   ],
   "source": [
    "r, p  # not significant"
   ]
  },
  {
   "cell_type": "code",
   "execution_count": 24,
   "metadata": {},
   "outputs": [
    {
     "data": {
      "text/plain": [
       "(0.12369335987604126, 0.49283482928771843)"
      ]
     },
     "execution_count": 24,
     "metadata": {},
     "output_type": "execute_result"
    }
   ],
   "source": [
    "r, p = scipy.stats.pearsonr(bt_valid['avg_bt'], bt_valid['fl_pre'])\n",
    "r, p"
   ]
  },
  {
   "cell_type": "code",
   "execution_count": null,
   "metadata": {},
   "outputs": [],
   "source": []
  },
  {
   "cell_type": "markdown",
   "metadata": {},
   "source": [
    "### 3) Bluetooth + Big Five\n",
    "co-location + personality\n",
    "\n",
    "pearson correlation\n",
    "\n",
    "Agreeableness (pre) 만 significant (r = 0.324, p = 0.047)"
   ]
  },
  {
   "cell_type": "code",
   "execution_count": 25,
   "metadata": {},
   "outputs": [],
   "source": [
    "# import Big Five data\n",
    "big5_path = '//data/dopameter/student_life/dataset/dataset/survey/BigFive.csv'\n",
    "f = open(big5_path, 'r')\n",
    "big5_df = pd.read_csv(f)"
   ]
  },
  {
   "cell_type": "code",
   "execution_count": 26,
   "metadata": {},
   "outputs": [
    {
     "name": "stdout",
     "output_type": "stream",
     "text": [
      "nan\n",
      "nan\n",
      "nan\n",
      "nan\n",
      "nan\n",
      "nan\n",
      "nan\n",
      "nan\n",
      "nan\n",
      "nan\n"
     ]
    }
   ],
   "source": [
    "# get scores\n",
    "big5_scores = {}  # {uid: uid, big5_pre, big5_post}\n",
    "\n",
    "reverse = [2, 6, 8, 9, 12, 18, 21, 23, 24, 27, 31, 34, 35, 37, 41, 43]\n",
    "# pre\n",
    "pre = big5_df.loc[big5_df['type'] == 'pre']\n",
    "for index in pre.index:\n",
    "    o, c, e, a, n = 0, 0, 0, 0, 0\n",
    "    for i in range(2, 46):\n",
    "        response = pre.iat[index, i]\n",
    "        to_add = 0\n",
    "        if response == 'Disagree Strongly':\n",
    "            to_add = 1\n",
    "        elif response == 'Disagree a little':\n",
    "            to_add = 2\n",
    "        elif response == 'Neither agree nor disagree':\n",
    "            to_add = 3\n",
    "        elif response == 'Agree a little':\n",
    "            to_add = 4\n",
    "        elif response == 'Agree strongly':\n",
    "            to_add = 5\n",
    "        else:\n",
    "            print(response)\n",
    "            to_add = 3  # add average value for missing data\n",
    "\n",
    "        if i-1 in reverse:\n",
    "            to_add = 6 - to_add\n",
    "            \n",
    "        if i == 42 or i == 45 or i % 5 == 1:\n",
    "            o += to_add\n",
    "        elif i % 5 == 2:\n",
    "            e += to_add\n",
    "        elif i % 5 == 3:\n",
    "            a += to_add\n",
    "        elif i % 5 == 4:\n",
    "            c += to_add\n",
    "        elif i % 5 == 0:\n",
    "            n += to_add\n",
    "\n",
    "    uid = int(re.search(r'\\d+', pre.at[index, 'uid']).group())\n",
    "    big5_scores[uid] = [uid, o, c, e, a, n]\n",
    "\n",
    "# post\n",
    "post = big5_df.loc[big5_df['type'] == 'post'].reset_index(drop=True)\n",
    "for index in post.index:\n",
    "    o, c, e, a, n = 0, 0, 0, 0, 0\n",
    "    for i in range(2, 46):\n",
    "        response = post.iloc[index, i]\n",
    "        to_add = 0\n",
    "        if response == 'Disagree Strongly':\n",
    "            to_add = 1\n",
    "        elif response == 'Disagree a little':\n",
    "            to_add = 2\n",
    "        elif response == 'Neither agree nor disagree':\n",
    "            to_add = 3\n",
    "        elif response == 'Agree a little':\n",
    "            to_add = 4\n",
    "        elif response == 'Agree strongly':\n",
    "            to_add = 5\n",
    "        else:\n",
    "            print(response)\n",
    "            to_add = 3  # add average value for missing data\n",
    "\n",
    "        if i-1 in reverse:\n",
    "            to_add = 6 - to_add\n",
    "            \n",
    "        if i == 42 or i == 45 or i % 5 == 1:\n",
    "            o += to_add\n",
    "        elif i % 5 == 2:\n",
    "            e += to_add\n",
    "        elif i % 5 == 3:\n",
    "            a += to_add\n",
    "        elif i % 5 == 4:\n",
    "            c += to_add\n",
    "        elif i % 5 == 0:\n",
    "            n += to_add\n",
    "\n",
    "    uid = int(re.search(r'\\d+', post.at[index, 'uid']).group())\n",
    "    if uid in big5_scores:\n",
    "        big5_scores[uid] += [o, c, e, a, n]\n",
    "    else:\n",
    "        big5_scores[uid] = [uid, None, None, None, None, None, o, c, e, a, n]\n",
    "    \n",
    "    \n",
    "big5 = pd.DataFrame.from_dict(big5_scores, columns = ['uid', \n",
    "                                                      'big5-o_pre', 'big5-c_pre', \n",
    "                                                      'big5-e_pre', 'big5-a_pre', \n",
    "                                                      'big5-n_pre', 'big5-o_post', \n",
    "                                                      'big5-c_post', 'big5-e_post', \n",
    "                                                      'big5-a_post', 'big5-n_post'\n",
    "                                                     ], \n",
    "                             orient='index'\n",
    "                             )"
   ]
  },
  {
   "cell_type": "code",
   "execution_count": 27,
   "metadata": {},
   "outputs": [
    {
     "data": {
      "text/html": [
       "<div>\n",
       "<style scoped>\n",
       "    .dataframe tbody tr th:only-of-type {\n",
       "        vertical-align: middle;\n",
       "    }\n",
       "\n",
       "    .dataframe tbody tr th {\n",
       "        vertical-align: top;\n",
       "    }\n",
       "\n",
       "    .dataframe thead th {\n",
       "        text-align: right;\n",
       "    }\n",
       "</style>\n",
       "<table border=\"1\" class=\"dataframe\">\n",
       "  <thead>\n",
       "    <tr style=\"text-align: right;\">\n",
       "      <th></th>\n",
       "      <th>uid</th>\n",
       "      <th>big5-o_pre</th>\n",
       "      <th>big5-c_pre</th>\n",
       "      <th>big5-e_pre</th>\n",
       "      <th>big5-a_pre</th>\n",
       "      <th>big5-n_pre</th>\n",
       "      <th>big5-o_post</th>\n",
       "      <th>big5-c_post</th>\n",
       "      <th>big5-e_post</th>\n",
       "      <th>big5-a_post</th>\n",
       "      <th>big5-n_post</th>\n",
       "    </tr>\n",
       "  </thead>\n",
       "  <tbody>\n",
       "    <tr>\n",
       "      <th>0</th>\n",
       "      <td>0</td>\n",
       "      <td>45.0</td>\n",
       "      <td>27.0</td>\n",
       "      <td>30.0</td>\n",
       "      <td>26.0</td>\n",
       "      <td>25.0</td>\n",
       "      <td>46.0</td>\n",
       "      <td>26.0</td>\n",
       "      <td>28.0</td>\n",
       "      <td>32.0</td>\n",
       "      <td>24.0</td>\n",
       "    </tr>\n",
       "    <tr>\n",
       "      <th>1</th>\n",
       "      <td>1</td>\n",
       "      <td>39.0</td>\n",
       "      <td>40.0</td>\n",
       "      <td>25.0</td>\n",
       "      <td>34.0</td>\n",
       "      <td>22.0</td>\n",
       "      <td>37.0</td>\n",
       "      <td>38.0</td>\n",
       "      <td>24.0</td>\n",
       "      <td>34.0</td>\n",
       "      <td>23.0</td>\n",
       "    </tr>\n",
       "    <tr>\n",
       "      <th>2</th>\n",
       "      <td>2</td>\n",
       "      <td>32.0</td>\n",
       "      <td>38.0</td>\n",
       "      <td>17.0</td>\n",
       "      <td>27.0</td>\n",
       "      <td>28.0</td>\n",
       "      <td>30.0</td>\n",
       "      <td>35.0</td>\n",
       "      <td>15.0</td>\n",
       "      <td>27.0</td>\n",
       "      <td>26.0</td>\n",
       "    </tr>\n",
       "    <tr>\n",
       "      <th>3</th>\n",
       "      <td>3</td>\n",
       "      <td>27.0</td>\n",
       "      <td>35.0</td>\n",
       "      <td>17.0</td>\n",
       "      <td>29.0</td>\n",
       "      <td>27.0</td>\n",
       "      <td>27.0</td>\n",
       "      <td>35.0</td>\n",
       "      <td>19.0</td>\n",
       "      <td>26.0</td>\n",
       "      <td>24.0</td>\n",
       "    </tr>\n",
       "    <tr>\n",
       "      <th>4</th>\n",
       "      <td>4</td>\n",
       "      <td>29.0</td>\n",
       "      <td>24.0</td>\n",
       "      <td>19.0</td>\n",
       "      <td>28.0</td>\n",
       "      <td>33.0</td>\n",
       "      <td>31.0</td>\n",
       "      <td>24.0</td>\n",
       "      <td>22.0</td>\n",
       "      <td>27.0</td>\n",
       "      <td>37.0</td>\n",
       "    </tr>\n",
       "  </tbody>\n",
       "</table>\n",
       "</div>"
      ],
      "text/plain": [
       "   uid  big5-o_pre  big5-c_pre  big5-e_pre  big5-a_pre  big5-n_pre  \\\n",
       "0    0        45.0        27.0        30.0        26.0        25.0   \n",
       "1    1        39.0        40.0        25.0        34.0        22.0   \n",
       "2    2        32.0        38.0        17.0        27.0        28.0   \n",
       "3    3        27.0        35.0        17.0        29.0        27.0   \n",
       "4    4        29.0        24.0        19.0        28.0        33.0   \n",
       "\n",
       "   big5-o_post  big5-c_post  big5-e_post  big5-a_post  big5-n_post  \n",
       "0         46.0         26.0         28.0         32.0         24.0  \n",
       "1         37.0         38.0         24.0         34.0         23.0  \n",
       "2         30.0         35.0         15.0         27.0         26.0  \n",
       "3         27.0         35.0         19.0         26.0         24.0  \n",
       "4         31.0         24.0         22.0         27.0         37.0  "
      ]
     },
     "execution_count": 27,
     "metadata": {},
     "output_type": "execute_result"
    }
   ],
   "source": [
    "big5.head()"
   ]
  },
  {
   "cell_type": "code",
   "execution_count": 28,
   "metadata": {},
   "outputs": [
    {
     "data": {
      "text/html": [
       "<div>\n",
       "<style scoped>\n",
       "    .dataframe tbody tr th:only-of-type {\n",
       "        vertical-align: middle;\n",
       "    }\n",
       "\n",
       "    .dataframe tbody tr th {\n",
       "        vertical-align: top;\n",
       "    }\n",
       "\n",
       "    .dataframe thead th {\n",
       "        text-align: right;\n",
       "    }\n",
       "</style>\n",
       "<table border=\"1\" class=\"dataframe\">\n",
       "  <thead>\n",
       "    <tr style=\"text-align: right;\">\n",
       "      <th></th>\n",
       "      <th>uid</th>\n",
       "      <th>avg_bt</th>\n",
       "      <th>phq-9_pre</th>\n",
       "      <th>phq-9_post</th>\n",
       "      <th>phq-9_avg</th>\n",
       "      <th>fl_pre</th>\n",
       "      <th>fl_post</th>\n",
       "      <th>big5-o_pre</th>\n",
       "      <th>big5-c_pre</th>\n",
       "      <th>big5-e_pre</th>\n",
       "      <th>big5-a_pre</th>\n",
       "      <th>big5-n_pre</th>\n",
       "      <th>big5-o_post</th>\n",
       "      <th>big5-c_post</th>\n",
       "      <th>big5-e_post</th>\n",
       "      <th>big5-a_post</th>\n",
       "      <th>big5-n_post</th>\n",
       "    </tr>\n",
       "  </thead>\n",
       "  <tbody>\n",
       "    <tr>\n",
       "      <th>0</th>\n",
       "      <td>0</td>\n",
       "      <td>3.738</td>\n",
       "      <td>2.0</td>\n",
       "      <td>3.0</td>\n",
       "      <td>2.5</td>\n",
       "      <td>NaN</td>\n",
       "      <td>45.0</td>\n",
       "      <td>45.0</td>\n",
       "      <td>27.0</td>\n",
       "      <td>30.0</td>\n",
       "      <td>26.0</td>\n",
       "      <td>25.0</td>\n",
       "      <td>46.0</td>\n",
       "      <td>26.0</td>\n",
       "      <td>28.0</td>\n",
       "      <td>32.0</td>\n",
       "      <td>24.0</td>\n",
       "    </tr>\n",
       "    <tr>\n",
       "      <th>1</th>\n",
       "      <td>1</td>\n",
       "      <td>1.851</td>\n",
       "      <td>5.0</td>\n",
       "      <td>4.0</td>\n",
       "      <td>4.5</td>\n",
       "      <td>45.0</td>\n",
       "      <td>46.0</td>\n",
       "      <td>39.0</td>\n",
       "      <td>40.0</td>\n",
       "      <td>25.0</td>\n",
       "      <td>34.0</td>\n",
       "      <td>22.0</td>\n",
       "      <td>37.0</td>\n",
       "      <td>38.0</td>\n",
       "      <td>24.0</td>\n",
       "      <td>34.0</td>\n",
       "      <td>23.0</td>\n",
       "    </tr>\n",
       "    <tr>\n",
       "      <th>2</th>\n",
       "      <td>2</td>\n",
       "      <td>2.653</td>\n",
       "      <td>13.0</td>\n",
       "      <td>5.0</td>\n",
       "      <td>9.0</td>\n",
       "      <td>46.0</td>\n",
       "      <td>44.0</td>\n",
       "      <td>32.0</td>\n",
       "      <td>38.0</td>\n",
       "      <td>17.0</td>\n",
       "      <td>27.0</td>\n",
       "      <td>28.0</td>\n",
       "      <td>30.0</td>\n",
       "      <td>35.0</td>\n",
       "      <td>15.0</td>\n",
       "      <td>27.0</td>\n",
       "      <td>26.0</td>\n",
       "    </tr>\n",
       "    <tr>\n",
       "      <th>3</th>\n",
       "      <td>3</td>\n",
       "      <td>1.011</td>\n",
       "      <td>2.0</td>\n",
       "      <td>4.0</td>\n",
       "      <td>3.0</td>\n",
       "      <td>34.0</td>\n",
       "      <td>31.0</td>\n",
       "      <td>27.0</td>\n",
       "      <td>35.0</td>\n",
       "      <td>17.0</td>\n",
       "      <td>29.0</td>\n",
       "      <td>27.0</td>\n",
       "      <td>27.0</td>\n",
       "      <td>35.0</td>\n",
       "      <td>19.0</td>\n",
       "      <td>26.0</td>\n",
       "      <td>24.0</td>\n",
       "    </tr>\n",
       "    <tr>\n",
       "      <th>4</th>\n",
       "      <td>4</td>\n",
       "      <td>1.714</td>\n",
       "      <td>6.0</td>\n",
       "      <td>8.0</td>\n",
       "      <td>7.0</td>\n",
       "      <td>27.0</td>\n",
       "      <td>33.0</td>\n",
       "      <td>29.0</td>\n",
       "      <td>24.0</td>\n",
       "      <td>19.0</td>\n",
       "      <td>28.0</td>\n",
       "      <td>33.0</td>\n",
       "      <td>31.0</td>\n",
       "      <td>24.0</td>\n",
       "      <td>22.0</td>\n",
       "      <td>27.0</td>\n",
       "      <td>37.0</td>\n",
       "    </tr>\n",
       "  </tbody>\n",
       "</table>\n",
       "</div>"
      ],
      "text/plain": [
       "   uid  avg_bt  phq-9_pre  phq-9_post  phq-9_avg  fl_pre  fl_post  big5-o_pre  \\\n",
       "0    0   3.738        2.0         3.0        2.5     NaN     45.0        45.0   \n",
       "1    1   1.851        5.0         4.0        4.5    45.0     46.0        39.0   \n",
       "2    2   2.653       13.0         5.0        9.0    46.0     44.0        32.0   \n",
       "3    3   1.011        2.0         4.0        3.0    34.0     31.0        27.0   \n",
       "4    4   1.714        6.0         8.0        7.0    27.0     33.0        29.0   \n",
       "\n",
       "   big5-c_pre  big5-e_pre  big5-a_pre  big5-n_pre  big5-o_post  big5-c_post  \\\n",
       "0        27.0        30.0        26.0        25.0         46.0         26.0   \n",
       "1        40.0        25.0        34.0        22.0         37.0         38.0   \n",
       "2        38.0        17.0        27.0        28.0         30.0         35.0   \n",
       "3        35.0        17.0        29.0        27.0         27.0         35.0   \n",
       "4        24.0        19.0        28.0        33.0         31.0         24.0   \n",
       "\n",
       "   big5-e_post  big5-a_post  big5-n_post  \n",
       "0         28.0         32.0         24.0  \n",
       "1         24.0         34.0         23.0  \n",
       "2         15.0         27.0         26.0  \n",
       "3         19.0         26.0         24.0  \n",
       "4         22.0         27.0         37.0  "
      ]
     },
     "execution_count": 28,
     "metadata": {},
     "output_type": "execute_result"
    }
   ],
   "source": [
    "# merge bt & big5 \n",
    "# bt = bt.drop(['big5-o_pre', 'big5-c_pre', 'big5-e_pre', 'big5-a_pre', 'big5-n_pre', 'big5-o_post', 'big5-c_post', 'big5-e_post', 'big5-a_post', 'big5-n_post'], axis=1)\n",
    "bt = pd.merge(bt, big5, how='outer').sort_values(by='uid').reset_index(drop=True)\n",
    "bt.head()"
   ]
  },
  {
   "cell_type": "code",
   "execution_count": 29,
   "metadata": {},
   "outputs": [],
   "source": [
    "bt_big5_valid = bt[['uid', 'avg_bt', 'big5-o_pre', 'big5-c_pre', 'big5-e_pre', 'big5-a_pre', 'big5-n_pre', 'big5-o_post', 'big5-c_post', 'big5-e_post', 'big5-a_post', 'big5-n_post']].dropna()"
   ]
  },
  {
   "cell_type": "code",
   "execution_count": 30,
   "metadata": {},
   "outputs": [],
   "source": [
    "r, p = scipy.stats.pearsonr(bt_big5_valid['avg_bt'], bt_big5_valid['big5-o_pre'])"
   ]
  },
  {
   "cell_type": "code",
   "execution_count": 31,
   "metadata": {},
   "outputs": [
    {
     "data": {
      "text/plain": [
       "(-0.11010865521581585, 0.5104822346066332)"
      ]
     },
     "execution_count": 31,
     "metadata": {},
     "output_type": "execute_result"
    }
   ],
   "source": [
    "r, p  # not significant"
   ]
  },
  {
   "cell_type": "code",
   "execution_count": 32,
   "metadata": {},
   "outputs": [],
   "source": [
    "r, p = scipy.stats.pearsonr(bt_big5_valid['avg_bt'], bt_big5_valid['big5-c_pre'])"
   ]
  },
  {
   "cell_type": "code",
   "execution_count": 33,
   "metadata": {},
   "outputs": [
    {
     "data": {
      "text/plain": [
       "(0.260066703239749, 0.11482418326616602)"
      ]
     },
     "execution_count": 33,
     "metadata": {},
     "output_type": "execute_result"
    }
   ],
   "source": [
    "r, p  # not significant"
   ]
  },
  {
   "cell_type": "code",
   "execution_count": 34,
   "metadata": {},
   "outputs": [],
   "source": [
    "r, p = scipy.stats.pearsonr(bt_big5_valid['avg_bt'], bt_big5_valid['big5-e_pre'])"
   ]
  },
  {
   "cell_type": "code",
   "execution_count": 35,
   "metadata": {},
   "outputs": [
    {
     "data": {
      "text/plain": [
       "(0.21315880431827158, 0.19881612076521585)"
      ]
     },
     "execution_count": 35,
     "metadata": {},
     "output_type": "execute_result"
    }
   ],
   "source": [
    "r, p  # not significant"
   ]
  },
  {
   "cell_type": "code",
   "execution_count": 36,
   "metadata": {},
   "outputs": [],
   "source": [
    "r, p = scipy.stats.pearsonr(bt_big5_valid['avg_bt'], bt_big5_valid['big5-a_pre'])"
   ]
  },
  {
   "cell_type": "code",
   "execution_count": 37,
   "metadata": {},
   "outputs": [
    {
     "data": {
      "text/plain": [
       "(-0.32398157031574937, 0.04721958084543573)"
      ]
     },
     "execution_count": 37,
     "metadata": {},
     "output_type": "execute_result"
    }
   ],
   "source": [
    "r, p  # significant"
   ]
  },
  {
   "cell_type": "code",
   "execution_count": 38,
   "metadata": {},
   "outputs": [],
   "source": [
    "r, p = scipy.stats.pearsonr(bt_big5_valid['avg_bt'], bt_big5_valid['big5-n_pre'])"
   ]
  },
  {
   "cell_type": "code",
   "execution_count": 39,
   "metadata": {},
   "outputs": [
    {
     "data": {
      "text/plain": [
       "(-0.09256713063022229, 0.58043494391738)"
      ]
     },
     "execution_count": 39,
     "metadata": {},
     "output_type": "execute_result"
    }
   ],
   "source": [
    "r, p  # not significant"
   ]
  },
  {
   "cell_type": "code",
   "execution_count": 40,
   "metadata": {},
   "outputs": [],
   "source": [
    "r, p = scipy.stats.pearsonr(bt_big5_valid['avg_bt'], bt_big5_valid['big5-o_post'])"
   ]
  },
  {
   "cell_type": "code",
   "execution_count": 41,
   "metadata": {},
   "outputs": [
    {
     "data": {
      "text/plain": [
       "(-0.049820086111971376, 0.7664382486498298)"
      ]
     },
     "execution_count": 41,
     "metadata": {},
     "output_type": "execute_result"
    }
   ],
   "source": [
    "r, p  # significant"
   ]
  },
  {
   "cell_type": "code",
   "execution_count": 42,
   "metadata": {},
   "outputs": [],
   "source": [
    "r, p = scipy.stats.pearsonr(bt_big5_valid['avg_bt'], bt_big5_valid['big5-c_post'])"
   ]
  },
  {
   "cell_type": "code",
   "execution_count": 43,
   "metadata": {},
   "outputs": [
    {
     "data": {
      "text/plain": [
       "(0.2708853608028628, 0.09997242656729413)"
      ]
     },
     "execution_count": 43,
     "metadata": {},
     "output_type": "execute_result"
    }
   ],
   "source": [
    "r, p  # not significant"
   ]
  },
  {
   "cell_type": "code",
   "execution_count": 44,
   "metadata": {},
   "outputs": [],
   "source": [
    "r, p = scipy.stats.pearsonr(bt_big5_valid['avg_bt'], bt_big5_valid['big5-e_post'])"
   ]
  },
  {
   "cell_type": "code",
   "execution_count": 45,
   "metadata": {},
   "outputs": [
    {
     "data": {
      "text/plain": [
       "(0.05299563249286259, 0.75200543074575)"
      ]
     },
     "execution_count": 45,
     "metadata": {},
     "output_type": "execute_result"
    }
   ],
   "source": [
    "r, p  # not significant"
   ]
  },
  {
   "cell_type": "code",
   "execution_count": 46,
   "metadata": {},
   "outputs": [],
   "source": [
    "r, p = scipy.stats.pearsonr(bt_big5_valid['avg_bt'], bt_big5_valid['big5-a_post'])"
   ]
  },
  {
   "cell_type": "code",
   "execution_count": 47,
   "metadata": {},
   "outputs": [
    {
     "data": {
      "text/plain": [
       "(-0.30733835452318137, 0.06051980513071529)"
      ]
     },
     "execution_count": 47,
     "metadata": {},
     "output_type": "execute_result"
    }
   ],
   "source": [
    "r, p  # not significant"
   ]
  },
  {
   "cell_type": "code",
   "execution_count": 48,
   "metadata": {},
   "outputs": [],
   "source": [
    "r, p = scipy.stats.pearsonr(bt_big5_valid['avg_bt'], bt_big5_valid['big5-n_post'])"
   ]
  },
  {
   "cell_type": "code",
   "execution_count": 49,
   "metadata": {},
   "outputs": [
    {
     "data": {
      "text/plain": [
       "(-0.18270620554112071, 0.272236381407248)"
      ]
     },
     "execution_count": 49,
     "metadata": {},
     "output_type": "execute_result"
    }
   ],
   "source": [
    "r, p  # not significant"
   ]
  },
  {
   "cell_type": "code",
   "execution_count": 50,
   "metadata": {},
   "outputs": [],
   "source": [
    "# save significant associations in a dataframe (-> export as csv file)\n",
    "sig_arr = [['avg_bt', 'big5-a_pre', -0.324, 0.047]]\n",
    "sig_corr = sig_corr.append(pd.DataFrame(sig_arr, columns=['sig1', 'sig2', 'r', 'p']))\n",
    "sig_corr.to_csv('sig_corr.csv')"
   ]
  },
  {
   "cell_type": "code",
   "execution_count": null,
   "metadata": {},
   "outputs": [],
   "source": []
  },
  {
   "cell_type": "markdown",
   "metadata": {},
   "source": [
    "### 4) Bluetooth + Loneliness\n",
    "co-location + loneliness\n",
    "\n",
    "pearson correlation\n",
    "\n",
    "not significant"
   ]
  },
  {
   "cell_type": "code",
   "execution_count": 51,
   "metadata": {},
   "outputs": [],
   "source": [
    "# import Big Five data\n",
    "path = '//data/dopameter/student_life/dataset/dataset/survey/LonelinessScale.csv'\n",
    "f = open(path, 'r')\n",
    "lon_df = pd.read_csv(f)"
   ]
  },
  {
   "cell_type": "code",
   "execution_count": 52,
   "metadata": {},
   "outputs": [],
   "source": [
    "# get scores\n",
    "lon_scores = {}  # {uid: uid, lon_pre, lon_post}\n",
    "\n",
    "# pre\n",
    "pre = lon_df.loc[lon_df['type'] == 'pre']\n",
    "for index in pre.index:\n",
    "    score = 0\n",
    "    for i in range(2, 22):\n",
    "        response = pre.iat[index, i]\n",
    "        if response == 'Often':\n",
    "            score += 3\n",
    "        elif response == 'Sometimes':\n",
    "            score += 2\n",
    "        elif response == 'Rarely':\n",
    "            score += 1\n",
    "        elif response == 'Never':\n",
    "            score += 0\n",
    "        else:\n",
    "            print(response)\n",
    "            score += 1.5  # add average value for missing data\n",
    "\n",
    "    uid = int(re.search(r'\\d+', pre.at[index, 'uid']).group())\n",
    "    lon_scores[uid] = [uid, score]\n",
    "\n",
    "# post\n",
    "post = lon_df.loc[lon_df['type'] == 'post'].reset_index(drop=True)\n",
    "for index in post.index:\n",
    "    score = 0\n",
    "    for i in range(2, 22):\n",
    "        response = post.iat[index, i]\n",
    "        if response == 'Often':\n",
    "            score += 3\n",
    "        elif response == 'Sometimes':\n",
    "            score += 2\n",
    "        elif response == 'Rarely':\n",
    "            score += 1\n",
    "        elif response == 'Never':\n",
    "            score += 0\n",
    "        else:\n",
    "            print(response)\n",
    "            score += 1.5  # add average value for missing data\n",
    "\n",
    "    uid = int(re.search(r'\\d+', post.at[index, 'uid']).group())\n",
    "    lon_scores[uid] += [score]\n",
    "    \n",
    "lon = pd.DataFrame.from_dict(lon_scores, columns = ['uid', 'lon_pre', 'lon_post'], orient='index')"
   ]
  },
  {
   "cell_type": "code",
   "execution_count": 53,
   "metadata": {},
   "outputs": [
    {
     "data": {
      "text/html": [
       "<div>\n",
       "<style scoped>\n",
       "    .dataframe tbody tr th:only-of-type {\n",
       "        vertical-align: middle;\n",
       "    }\n",
       "\n",
       "    .dataframe tbody tr th {\n",
       "        vertical-align: top;\n",
       "    }\n",
       "\n",
       "    .dataframe thead th {\n",
       "        text-align: right;\n",
       "    }\n",
       "</style>\n",
       "<table border=\"1\" class=\"dataframe\">\n",
       "  <thead>\n",
       "    <tr style=\"text-align: right;\">\n",
       "      <th></th>\n",
       "      <th>uid</th>\n",
       "      <th>lon_pre</th>\n",
       "      <th>lon_post</th>\n",
       "    </tr>\n",
       "  </thead>\n",
       "  <tbody>\n",
       "    <tr>\n",
       "      <th>0</th>\n",
       "      <td>0</td>\n",
       "      <td>31</td>\n",
       "      <td>33.0</td>\n",
       "    </tr>\n",
       "    <tr>\n",
       "      <th>1</th>\n",
       "      <td>1</td>\n",
       "      <td>34</td>\n",
       "      <td>39.0</td>\n",
       "    </tr>\n",
       "    <tr>\n",
       "      <th>2</th>\n",
       "      <td>2</td>\n",
       "      <td>33</td>\n",
       "      <td>31.0</td>\n",
       "    </tr>\n",
       "    <tr>\n",
       "      <th>3</th>\n",
       "      <td>3</td>\n",
       "      <td>33</td>\n",
       "      <td>25.0</td>\n",
       "    </tr>\n",
       "    <tr>\n",
       "      <th>4</th>\n",
       "      <td>4</td>\n",
       "      <td>31</td>\n",
       "      <td>36.0</td>\n",
       "    </tr>\n",
       "  </tbody>\n",
       "</table>\n",
       "</div>"
      ],
      "text/plain": [
       "   uid  lon_pre  lon_post\n",
       "0    0       31      33.0\n",
       "1    1       34      39.0\n",
       "2    2       33      31.0\n",
       "3    3       33      25.0\n",
       "4    4       31      36.0"
      ]
     },
     "execution_count": 53,
     "metadata": {},
     "output_type": "execute_result"
    }
   ],
   "source": [
    "lon.head()"
   ]
  },
  {
   "cell_type": "code",
   "execution_count": 54,
   "metadata": {},
   "outputs": [
    {
     "data": {
      "text/html": [
       "<div>\n",
       "<style scoped>\n",
       "    .dataframe tbody tr th:only-of-type {\n",
       "        vertical-align: middle;\n",
       "    }\n",
       "\n",
       "    .dataframe tbody tr th {\n",
       "        vertical-align: top;\n",
       "    }\n",
       "\n",
       "    .dataframe thead th {\n",
       "        text-align: right;\n",
       "    }\n",
       "</style>\n",
       "<table border=\"1\" class=\"dataframe\">\n",
       "  <thead>\n",
       "    <tr style=\"text-align: right;\">\n",
       "      <th></th>\n",
       "      <th>uid</th>\n",
       "      <th>avg_bt</th>\n",
       "      <th>phq-9_pre</th>\n",
       "      <th>phq-9_post</th>\n",
       "      <th>phq-9_avg</th>\n",
       "      <th>fl_pre</th>\n",
       "      <th>fl_post</th>\n",
       "      <th>big5-o_pre</th>\n",
       "      <th>big5-c_pre</th>\n",
       "      <th>big5-e_pre</th>\n",
       "      <th>big5-a_pre</th>\n",
       "      <th>big5-n_pre</th>\n",
       "      <th>big5-o_post</th>\n",
       "      <th>big5-c_post</th>\n",
       "      <th>big5-e_post</th>\n",
       "      <th>big5-a_post</th>\n",
       "      <th>big5-n_post</th>\n",
       "      <th>lon_pre</th>\n",
       "      <th>lon_post</th>\n",
       "    </tr>\n",
       "  </thead>\n",
       "  <tbody>\n",
       "    <tr>\n",
       "      <th>0</th>\n",
       "      <td>0</td>\n",
       "      <td>3.738</td>\n",
       "      <td>2.0</td>\n",
       "      <td>3.0</td>\n",
       "      <td>2.5</td>\n",
       "      <td>NaN</td>\n",
       "      <td>45.0</td>\n",
       "      <td>45.0</td>\n",
       "      <td>27.0</td>\n",
       "      <td>30.0</td>\n",
       "      <td>26.0</td>\n",
       "      <td>25.0</td>\n",
       "      <td>46.0</td>\n",
       "      <td>26.0</td>\n",
       "      <td>28.0</td>\n",
       "      <td>32.0</td>\n",
       "      <td>24.0</td>\n",
       "      <td>31.0</td>\n",
       "      <td>33.0</td>\n",
       "    </tr>\n",
       "    <tr>\n",
       "      <th>1</th>\n",
       "      <td>1</td>\n",
       "      <td>1.851</td>\n",
       "      <td>5.0</td>\n",
       "      <td>4.0</td>\n",
       "      <td>4.5</td>\n",
       "      <td>45.0</td>\n",
       "      <td>46.0</td>\n",
       "      <td>39.0</td>\n",
       "      <td>40.0</td>\n",
       "      <td>25.0</td>\n",
       "      <td>34.0</td>\n",
       "      <td>22.0</td>\n",
       "      <td>37.0</td>\n",
       "      <td>38.0</td>\n",
       "      <td>24.0</td>\n",
       "      <td>34.0</td>\n",
       "      <td>23.0</td>\n",
       "      <td>34.0</td>\n",
       "      <td>39.0</td>\n",
       "    </tr>\n",
       "    <tr>\n",
       "      <th>2</th>\n",
       "      <td>2</td>\n",
       "      <td>2.653</td>\n",
       "      <td>13.0</td>\n",
       "      <td>5.0</td>\n",
       "      <td>9.0</td>\n",
       "      <td>46.0</td>\n",
       "      <td>44.0</td>\n",
       "      <td>32.0</td>\n",
       "      <td>38.0</td>\n",
       "      <td>17.0</td>\n",
       "      <td>27.0</td>\n",
       "      <td>28.0</td>\n",
       "      <td>30.0</td>\n",
       "      <td>35.0</td>\n",
       "      <td>15.0</td>\n",
       "      <td>27.0</td>\n",
       "      <td>26.0</td>\n",
       "      <td>33.0</td>\n",
       "      <td>31.0</td>\n",
       "    </tr>\n",
       "    <tr>\n",
       "      <th>3</th>\n",
       "      <td>3</td>\n",
       "      <td>1.011</td>\n",
       "      <td>2.0</td>\n",
       "      <td>4.0</td>\n",
       "      <td>3.0</td>\n",
       "      <td>34.0</td>\n",
       "      <td>31.0</td>\n",
       "      <td>27.0</td>\n",
       "      <td>35.0</td>\n",
       "      <td>17.0</td>\n",
       "      <td>29.0</td>\n",
       "      <td>27.0</td>\n",
       "      <td>27.0</td>\n",
       "      <td>35.0</td>\n",
       "      <td>19.0</td>\n",
       "      <td>26.0</td>\n",
       "      <td>24.0</td>\n",
       "      <td>33.0</td>\n",
       "      <td>25.0</td>\n",
       "    </tr>\n",
       "    <tr>\n",
       "      <th>4</th>\n",
       "      <td>4</td>\n",
       "      <td>1.714</td>\n",
       "      <td>6.0</td>\n",
       "      <td>8.0</td>\n",
       "      <td>7.0</td>\n",
       "      <td>27.0</td>\n",
       "      <td>33.0</td>\n",
       "      <td>29.0</td>\n",
       "      <td>24.0</td>\n",
       "      <td>19.0</td>\n",
       "      <td>28.0</td>\n",
       "      <td>33.0</td>\n",
       "      <td>31.0</td>\n",
       "      <td>24.0</td>\n",
       "      <td>22.0</td>\n",
       "      <td>27.0</td>\n",
       "      <td>37.0</td>\n",
       "      <td>31.0</td>\n",
       "      <td>36.0</td>\n",
       "    </tr>\n",
       "  </tbody>\n",
       "</table>\n",
       "</div>"
      ],
      "text/plain": [
       "   uid  avg_bt  phq-9_pre  phq-9_post  phq-9_avg  fl_pre  fl_post  big5-o_pre  \\\n",
       "0    0   3.738        2.0         3.0        2.5     NaN     45.0        45.0   \n",
       "1    1   1.851        5.0         4.0        4.5    45.0     46.0        39.0   \n",
       "2    2   2.653       13.0         5.0        9.0    46.0     44.0        32.0   \n",
       "3    3   1.011        2.0         4.0        3.0    34.0     31.0        27.0   \n",
       "4    4   1.714        6.0         8.0        7.0    27.0     33.0        29.0   \n",
       "\n",
       "   big5-c_pre  big5-e_pre  big5-a_pre  big5-n_pre  big5-o_post  big5-c_post  \\\n",
       "0        27.0        30.0        26.0        25.0         46.0         26.0   \n",
       "1        40.0        25.0        34.0        22.0         37.0         38.0   \n",
       "2        38.0        17.0        27.0        28.0         30.0         35.0   \n",
       "3        35.0        17.0        29.0        27.0         27.0         35.0   \n",
       "4        24.0        19.0        28.0        33.0         31.0         24.0   \n",
       "\n",
       "   big5-e_post  big5-a_post  big5-n_post  lon_pre  lon_post  \n",
       "0         28.0         32.0         24.0     31.0      33.0  \n",
       "1         24.0         34.0         23.0     34.0      39.0  \n",
       "2         15.0         27.0         26.0     33.0      31.0  \n",
       "3         19.0         26.0         24.0     33.0      25.0  \n",
       "4         22.0         27.0         37.0     31.0      36.0  "
      ]
     },
     "execution_count": 54,
     "metadata": {},
     "output_type": "execute_result"
    }
   ],
   "source": [
    "# merge bt & lon \n",
    "# bt = bt.drop(['lon_pre', 'lon_post'], axis=1)\n",
    "bt = pd.merge(bt, lon, how='outer').sort_values(by='uid').reset_index(drop=True)\n",
    "bt.head()"
   ]
  },
  {
   "cell_type": "code",
   "execution_count": 55,
   "metadata": {},
   "outputs": [],
   "source": [
    "bt_lon_valid = bt[['uid', 'avg_bt', 'lon_pre', 'lon_post']].dropna()"
   ]
  },
  {
   "cell_type": "code",
   "execution_count": 56,
   "metadata": {},
   "outputs": [],
   "source": [
    "r, p = scipy.stats.pearsonr(bt_lon_valid['avg_bt'], bt_lon_valid['lon_pre'])"
   ]
  },
  {
   "cell_type": "code",
   "execution_count": 57,
   "metadata": {},
   "outputs": [
    {
     "data": {
      "text/plain": [
       "(-0.28771337782819695, 0.0842129083288769)"
      ]
     },
     "execution_count": 57,
     "metadata": {},
     "output_type": "execute_result"
    }
   ],
   "source": [
    "r, p  # significant"
   ]
  },
  {
   "cell_type": "code",
   "execution_count": 58,
   "metadata": {},
   "outputs": [],
   "source": [
    "r, p = scipy.stats.pearsonr(bt_lon_valid['avg_bt'], bt_lon_valid['lon_post'])"
   ]
  },
  {
   "cell_type": "code",
   "execution_count": 59,
   "metadata": {},
   "outputs": [
    {
     "data": {
      "text/plain": [
       "(-0.3121369307642529, 0.06000125882424857)"
      ]
     },
     "execution_count": 59,
     "metadata": {},
     "output_type": "execute_result"
    }
   ],
   "source": [
    "r, p  # not significant"
   ]
  },
  {
   "cell_type": "code",
   "execution_count": null,
   "metadata": {},
   "outputs": [],
   "source": []
  },
  {
   "cell_type": "markdown",
   "metadata": {},
   "source": [
    "### 5) Bluetooth + PANAS\n",
    "co-location + positive/negative affect\n",
    "\n",
    "pearson correlation\n",
    "\n",
    "not significant"
   ]
  },
  {
   "cell_type": "code",
   "execution_count": 60,
   "metadata": {},
   "outputs": [],
   "source": [
    "# import PANAS data\n",
    "path = '//data/dopameter/student_life/dataset/dataset/survey/panas.csv'\n",
    "f = open(path, 'r')\n",
    "panas_df = pd.read_csv(f)"
   ]
  },
  {
   "cell_type": "code",
   "execution_count": 61,
   "metadata": {},
   "outputs": [],
   "source": [
    "# get scores\n",
    "panas_scores = {}  # {uid: uid, pre, post}\n",
    "\n",
    "pos_items = [1,4,8,9,11,12,14,15,17]\n",
    "neg_items = [2,3,5,6,7,10,13,16,18]\n",
    "\n",
    "# pre\n",
    "pre = panas_df.loc[panas_df['type'] == 'pre']\n",
    "for index in pre.index:\n",
    "    pos, neg = 0, 0\n",
    "    to_add = 0\n",
    "    for i in range(2, 20):\n",
    "        to_add = pre.iat[index, i]\n",
    "        if pd.isna(to_add):\n",
    "            to_add = 3  # add average value for missing data\n",
    "            \n",
    "        if i-1 in pos_items:\n",
    "            pos += to_add\n",
    "        elif i-1 in neg_items:\n",
    "            neg += to_add\n",
    "        else:\n",
    "            print(\"errorrr\")\n",
    "    uid = int(re.search(r'\\d+', pre.at[index, 'uid']).group())\n",
    "    panas_scores[uid] = [uid, pos, neg]\n",
    "    \n",
    "# post\n",
    "post = panas_df.loc[panas_df['type'] == 'post'].reset_index(drop=True)\n",
    "for index in post.index:\n",
    "    pos, neg = 0, 0\n",
    "    to_add = 0\n",
    "    for i in range(2, 20):\n",
    "        to_add = post.iat[index, i]\n",
    "        if pd.isna(to_add):\n",
    "            to_add = 3  # add average value for missing data\n",
    "            \n",
    "        if i-1 in pos_items:\n",
    "            pos += to_add\n",
    "        elif i-1 in neg_items:\n",
    "            neg += to_add\n",
    "        else:\n",
    "            print(\"errorrr\")\n",
    "    uid = int(re.search(r'\\d+', post.at[index, 'uid']).group())\n",
    "    if uid in panas_scores:\n",
    "        panas_scores[uid] += [pos, neg]\n",
    "    else:\n",
    "        panas_scores[uid] = [uid, None, None, pos, neg]\n",
    "    \n",
    "panas = pd.DataFrame.from_dict(panas_scores, columns = ['uid', 'panas-pos_pre', 'panas-neg_pre', 'panas-pos_post', 'panas-neg_post'], orient='index')\n"
   ]
  },
  {
   "cell_type": "code",
   "execution_count": 62,
   "metadata": {},
   "outputs": [
    {
     "data": {
      "text/html": [
       "<div>\n",
       "<style scoped>\n",
       "    .dataframe tbody tr th:only-of-type {\n",
       "        vertical-align: middle;\n",
       "    }\n",
       "\n",
       "    .dataframe tbody tr th {\n",
       "        vertical-align: top;\n",
       "    }\n",
       "\n",
       "    .dataframe thead th {\n",
       "        text-align: right;\n",
       "    }\n",
       "</style>\n",
       "<table border=\"1\" class=\"dataframe\">\n",
       "  <thead>\n",
       "    <tr style=\"text-align: right;\">\n",
       "      <th></th>\n",
       "      <th>uid</th>\n",
       "      <th>panas-pos_pre</th>\n",
       "      <th>panas-neg_pre</th>\n",
       "      <th>panas-pos_post</th>\n",
       "      <th>panas-neg_post</th>\n",
       "    </tr>\n",
       "  </thead>\n",
       "  <tbody>\n",
       "    <tr>\n",
       "      <th>0</th>\n",
       "      <td>0</td>\n",
       "      <td>32.0</td>\n",
       "      <td>33.0</td>\n",
       "      <td>31.0</td>\n",
       "      <td>24.0</td>\n",
       "    </tr>\n",
       "    <tr>\n",
       "      <th>1</th>\n",
       "      <td>1</td>\n",
       "      <td>30.0</td>\n",
       "      <td>19.0</td>\n",
       "      <td>27.0</td>\n",
       "      <td>17.0</td>\n",
       "    </tr>\n",
       "    <tr>\n",
       "      <th>2</th>\n",
       "      <td>2</td>\n",
       "      <td>23.0</td>\n",
       "      <td>15.0</td>\n",
       "      <td>28.0</td>\n",
       "      <td>13.0</td>\n",
       "    </tr>\n",
       "    <tr>\n",
       "      <th>3</th>\n",
       "      <td>3</td>\n",
       "      <td>30.0</td>\n",
       "      <td>27.0</td>\n",
       "      <td>25.0</td>\n",
       "      <td>20.0</td>\n",
       "    </tr>\n",
       "    <tr>\n",
       "      <th>4</th>\n",
       "      <td>4</td>\n",
       "      <td>27.0</td>\n",
       "      <td>14.0</td>\n",
       "      <td>34.0</td>\n",
       "      <td>19.0</td>\n",
       "    </tr>\n",
       "  </tbody>\n",
       "</table>\n",
       "</div>"
      ],
      "text/plain": [
       "   uid  panas-pos_pre  panas-neg_pre  panas-pos_post  panas-neg_post\n",
       "0    0           32.0           33.0            31.0            24.0\n",
       "1    1           30.0           19.0            27.0            17.0\n",
       "2    2           23.0           15.0            28.0            13.0\n",
       "3    3           30.0           27.0            25.0            20.0\n",
       "4    4           27.0           14.0            34.0            19.0"
      ]
     },
     "execution_count": 62,
     "metadata": {},
     "output_type": "execute_result"
    }
   ],
   "source": [
    "panas.head()"
   ]
  },
  {
   "cell_type": "code",
   "execution_count": 63,
   "metadata": {},
   "outputs": [
    {
     "data": {
      "text/html": [
       "<div>\n",
       "<style scoped>\n",
       "    .dataframe tbody tr th:only-of-type {\n",
       "        vertical-align: middle;\n",
       "    }\n",
       "\n",
       "    .dataframe tbody tr th {\n",
       "        vertical-align: top;\n",
       "    }\n",
       "\n",
       "    .dataframe thead th {\n",
       "        text-align: right;\n",
       "    }\n",
       "</style>\n",
       "<table border=\"1\" class=\"dataframe\">\n",
       "  <thead>\n",
       "    <tr style=\"text-align: right;\">\n",
       "      <th></th>\n",
       "      <th>uid</th>\n",
       "      <th>avg_bt</th>\n",
       "      <th>phq-9_pre</th>\n",
       "      <th>phq-9_post</th>\n",
       "      <th>phq-9_avg</th>\n",
       "      <th>fl_pre</th>\n",
       "      <th>fl_post</th>\n",
       "      <th>big5-o_pre</th>\n",
       "      <th>big5-c_pre</th>\n",
       "      <th>big5-e_pre</th>\n",
       "      <th>...</th>\n",
       "      <th>big5-c_post</th>\n",
       "      <th>big5-e_post</th>\n",
       "      <th>big5-a_post</th>\n",
       "      <th>big5-n_post</th>\n",
       "      <th>lon_pre</th>\n",
       "      <th>lon_post</th>\n",
       "      <th>panas-pos_pre</th>\n",
       "      <th>panas-neg_pre</th>\n",
       "      <th>panas-pos_post</th>\n",
       "      <th>panas-neg_post</th>\n",
       "    </tr>\n",
       "  </thead>\n",
       "  <tbody>\n",
       "    <tr>\n",
       "      <th>0</th>\n",
       "      <td>0</td>\n",
       "      <td>3.738</td>\n",
       "      <td>2.0</td>\n",
       "      <td>3.0</td>\n",
       "      <td>2.5</td>\n",
       "      <td>NaN</td>\n",
       "      <td>45.0</td>\n",
       "      <td>45.0</td>\n",
       "      <td>27.0</td>\n",
       "      <td>30.0</td>\n",
       "      <td>...</td>\n",
       "      <td>26.0</td>\n",
       "      <td>28.0</td>\n",
       "      <td>32.0</td>\n",
       "      <td>24.0</td>\n",
       "      <td>31.0</td>\n",
       "      <td>33.0</td>\n",
       "      <td>32.0</td>\n",
       "      <td>33.0</td>\n",
       "      <td>31.0</td>\n",
       "      <td>24.0</td>\n",
       "    </tr>\n",
       "    <tr>\n",
       "      <th>1</th>\n",
       "      <td>1</td>\n",
       "      <td>1.851</td>\n",
       "      <td>5.0</td>\n",
       "      <td>4.0</td>\n",
       "      <td>4.5</td>\n",
       "      <td>45.0</td>\n",
       "      <td>46.0</td>\n",
       "      <td>39.0</td>\n",
       "      <td>40.0</td>\n",
       "      <td>25.0</td>\n",
       "      <td>...</td>\n",
       "      <td>38.0</td>\n",
       "      <td>24.0</td>\n",
       "      <td>34.0</td>\n",
       "      <td>23.0</td>\n",
       "      <td>34.0</td>\n",
       "      <td>39.0</td>\n",
       "      <td>30.0</td>\n",
       "      <td>19.0</td>\n",
       "      <td>27.0</td>\n",
       "      <td>17.0</td>\n",
       "    </tr>\n",
       "    <tr>\n",
       "      <th>2</th>\n",
       "      <td>2</td>\n",
       "      <td>2.653</td>\n",
       "      <td>13.0</td>\n",
       "      <td>5.0</td>\n",
       "      <td>9.0</td>\n",
       "      <td>46.0</td>\n",
       "      <td>44.0</td>\n",
       "      <td>32.0</td>\n",
       "      <td>38.0</td>\n",
       "      <td>17.0</td>\n",
       "      <td>...</td>\n",
       "      <td>35.0</td>\n",
       "      <td>15.0</td>\n",
       "      <td>27.0</td>\n",
       "      <td>26.0</td>\n",
       "      <td>33.0</td>\n",
       "      <td>31.0</td>\n",
       "      <td>23.0</td>\n",
       "      <td>15.0</td>\n",
       "      <td>28.0</td>\n",
       "      <td>13.0</td>\n",
       "    </tr>\n",
       "    <tr>\n",
       "      <th>3</th>\n",
       "      <td>3</td>\n",
       "      <td>1.011</td>\n",
       "      <td>2.0</td>\n",
       "      <td>4.0</td>\n",
       "      <td>3.0</td>\n",
       "      <td>34.0</td>\n",
       "      <td>31.0</td>\n",
       "      <td>27.0</td>\n",
       "      <td>35.0</td>\n",
       "      <td>17.0</td>\n",
       "      <td>...</td>\n",
       "      <td>35.0</td>\n",
       "      <td>19.0</td>\n",
       "      <td>26.0</td>\n",
       "      <td>24.0</td>\n",
       "      <td>33.0</td>\n",
       "      <td>25.0</td>\n",
       "      <td>30.0</td>\n",
       "      <td>27.0</td>\n",
       "      <td>25.0</td>\n",
       "      <td>20.0</td>\n",
       "    </tr>\n",
       "    <tr>\n",
       "      <th>4</th>\n",
       "      <td>4</td>\n",
       "      <td>1.714</td>\n",
       "      <td>6.0</td>\n",
       "      <td>8.0</td>\n",
       "      <td>7.0</td>\n",
       "      <td>27.0</td>\n",
       "      <td>33.0</td>\n",
       "      <td>29.0</td>\n",
       "      <td>24.0</td>\n",
       "      <td>19.0</td>\n",
       "      <td>...</td>\n",
       "      <td>24.0</td>\n",
       "      <td>22.0</td>\n",
       "      <td>27.0</td>\n",
       "      <td>37.0</td>\n",
       "      <td>31.0</td>\n",
       "      <td>36.0</td>\n",
       "      <td>27.0</td>\n",
       "      <td>14.0</td>\n",
       "      <td>34.0</td>\n",
       "      <td>19.0</td>\n",
       "    </tr>\n",
       "  </tbody>\n",
       "</table>\n",
       "<p>5 rows × 23 columns</p>\n",
       "</div>"
      ],
      "text/plain": [
       "   uid  avg_bt  phq-9_pre  phq-9_post  phq-9_avg  fl_pre  fl_post  big5-o_pre  \\\n",
       "0    0   3.738        2.0         3.0        2.5     NaN     45.0        45.0   \n",
       "1    1   1.851        5.0         4.0        4.5    45.0     46.0        39.0   \n",
       "2    2   2.653       13.0         5.0        9.0    46.0     44.0        32.0   \n",
       "3    3   1.011        2.0         4.0        3.0    34.0     31.0        27.0   \n",
       "4    4   1.714        6.0         8.0        7.0    27.0     33.0        29.0   \n",
       "\n",
       "   big5-c_pre  big5-e_pre  ...  big5-c_post  big5-e_post  big5-a_post  \\\n",
       "0        27.0        30.0  ...         26.0         28.0         32.0   \n",
       "1        40.0        25.0  ...         38.0         24.0         34.0   \n",
       "2        38.0        17.0  ...         35.0         15.0         27.0   \n",
       "3        35.0        17.0  ...         35.0         19.0         26.0   \n",
       "4        24.0        19.0  ...         24.0         22.0         27.0   \n",
       "\n",
       "   big5-n_post  lon_pre  lon_post  panas-pos_pre  panas-neg_pre  \\\n",
       "0         24.0     31.0      33.0           32.0           33.0   \n",
       "1         23.0     34.0      39.0           30.0           19.0   \n",
       "2         26.0     33.0      31.0           23.0           15.0   \n",
       "3         24.0     33.0      25.0           30.0           27.0   \n",
       "4         37.0     31.0      36.0           27.0           14.0   \n",
       "\n",
       "   panas-pos_post  panas-neg_post  \n",
       "0            31.0            24.0  \n",
       "1            27.0            17.0  \n",
       "2            28.0            13.0  \n",
       "3            25.0            20.0  \n",
       "4            34.0            19.0  \n",
       "\n",
       "[5 rows x 23 columns]"
      ]
     },
     "execution_count": 63,
     "metadata": {},
     "output_type": "execute_result"
    }
   ],
   "source": [
    "# merge bt & lon \n",
    "# bt = bt.drop(['panas-pos_pre', 'panas-neg_pre', 'panas-pos_post', 'panas-neg_post'], axis=1)\n",
    "bt = pd.merge(bt, panas, how='outer').sort_values(by='uid').reset_index(drop=True)\n",
    "bt.head()"
   ]
  },
  {
   "cell_type": "code",
   "execution_count": 64,
   "metadata": {},
   "outputs": [],
   "source": [
    "bt_panas_valid = bt[['uid', 'avg_bt', 'panas-pos_pre', 'panas-neg_pre', 'panas-pos_post', 'panas-neg_post']].dropna()"
   ]
  },
  {
   "cell_type": "code",
   "execution_count": 65,
   "metadata": {},
   "outputs": [
    {
     "data": {
      "text/plain": [
       "(0.0990742827113386, 0.5539897205228486)"
      ]
     },
     "execution_count": 65,
     "metadata": {},
     "output_type": "execute_result"
    }
   ],
   "source": [
    "r, p = scipy.stats.pearsonr(bt_panas_valid['avg_bt'], bt_panas_valid['panas-pos_pre'])\n",
    "r, p  # not significant"
   ]
  },
  {
   "cell_type": "code",
   "execution_count": 66,
   "metadata": {},
   "outputs": [
    {
     "data": {
      "text/plain": [
       "(0.28072331632448566, 0.08778348971330797)"
      ]
     },
     "execution_count": 66,
     "metadata": {},
     "output_type": "execute_result"
    }
   ],
   "source": [
    "r, p = scipy.stats.pearsonr(bt_panas_valid['avg_bt'], bt_panas_valid['panas-neg_pre'])\n",
    "r, p  # significant"
   ]
  },
  {
   "cell_type": "code",
   "execution_count": 67,
   "metadata": {},
   "outputs": [
    {
     "data": {
      "text/plain": [
       "(0.10678036162436687, 0.5234227873598007)"
      ]
     },
     "execution_count": 67,
     "metadata": {},
     "output_type": "execute_result"
    }
   ],
   "source": [
    "r, p = scipy.stats.pearsonr(bt_panas_valid['avg_bt'], bt_panas_valid['panas-pos_post'])\n",
    "r, p  # not significant"
   ]
  },
  {
   "cell_type": "code",
   "execution_count": 68,
   "metadata": {},
   "outputs": [
    {
     "data": {
      "text/plain": [
       "(-0.03796568759052274, 0.8209683502176397)"
      ]
     },
     "execution_count": 68,
     "metadata": {},
     "output_type": "execute_result"
    }
   ],
   "source": [
    "r, p = scipy.stats.pearsonr(bt_panas_valid['avg_bt'], bt_panas_valid['panas-neg_post'])\n",
    "r, p  # not significant"
   ]
  },
  {
   "cell_type": "code",
   "execution_count": null,
   "metadata": {},
   "outputs": [],
   "source": []
  },
  {
   "cell_type": "markdown",
   "metadata": {},
   "source": [
    "### 6) Bluetooth + Perceived Stress Scale\n",
    "co-location + scale\n",
    "\n",
    "pearson correlation\n",
    "\n",
    "not significant"
   ]
  },
  {
   "cell_type": "code",
   "execution_count": 69,
   "metadata": {},
   "outputs": [],
   "source": [
    "# import PSS data\n",
    "path = '//data/dopameter/student_life/dataset/dataset/survey/PerceivedStressScale.csv'\n",
    "f = open(path, 'r')\n",
    "pss_df = pd.read_csv(f)"
   ]
  },
  {
   "cell_type": "code",
   "execution_count": 70,
   "metadata": {},
   "outputs": [
    {
     "name": "stdout",
     "output_type": "stream",
     "text": [
      "nan\n",
      "nan\n"
     ]
    }
   ],
   "source": [
    "# get scores\n",
    "pss_scores = {}  # {uid: uid, pss_pre, pss_post}\n",
    "\n",
    "reverse = [4, 5, 7, 8]\n",
    "# pre\n",
    "pre = pss_df.loc[pss_df['type'] == 'pre']\n",
    "for index in pre.index:\n",
    "    score = 0\n",
    "    for i in range(2, 12):\n",
    "        to_add = 0\n",
    "        response = pre.iat[index, i]\n",
    "        if response == 'Very often':\n",
    "            to_add = 4\n",
    "        elif response == 'Fairly often':\n",
    "            to_add = 3\n",
    "        elif response == 'Sometime':\n",
    "            to_add = 2\n",
    "        elif response == 'Almost never':\n",
    "            to_add = 1\n",
    "        elif response == 'Never':\n",
    "            to_add = 0\n",
    "        else:\n",
    "            print(response)\n",
    "            to_add = 2  # add average value for missing data\n",
    "            \n",
    "        if i-1 in reverse:\n",
    "            to_add = 4 - to_add\n",
    "            \n",
    "        score += to_add\n",
    "\n",
    "    uid = int(re.search(r'\\d+', pre.at[index, 'uid']).group())\n",
    "    pss_scores[uid] = [uid, score]\n",
    "\n",
    "# post\n",
    "post = pss_df.loc[pss_df['type'] == 'post'].reset_index(drop=True)\n",
    "for index in post.index:\n",
    "    score = 0\n",
    "    for i in range(2, 12):\n",
    "        to_add = 0\n",
    "        response = post.iat[index, i]\n",
    "        if response == 'Very often':\n",
    "            to_add = 4\n",
    "        elif response == 'Fairly often':\n",
    "            to_add = 3\n",
    "        elif response == 'Sometime':\n",
    "            to_add = 2\n",
    "        elif response == 'Almost never':\n",
    "            to_add = 1\n",
    "        elif response == 'Never':\n",
    "            to_add = 0\n",
    "        else:\n",
    "            print(response)\n",
    "            to_add = 2  # add average value for missing data\n",
    "            \n",
    "        if i-1 in reverse:\n",
    "            to_add = 4 - to_add\n",
    "            \n",
    "        score += to_add\n",
    "\n",
    "    uid = int(re.search(r'\\d+', post.at[index, 'uid']).group())\n",
    "    pss_scores[uid] += [score]\n",
    "    \n",
    "pss = pd.DataFrame.from_dict(pss_scores, columns = ['uid', 'pss_pre', 'pss_post'], orient='index')"
   ]
  },
  {
   "cell_type": "code",
   "execution_count": 71,
   "metadata": {},
   "outputs": [
    {
     "data": {
      "text/html": [
       "<div>\n",
       "<style scoped>\n",
       "    .dataframe tbody tr th:only-of-type {\n",
       "        vertical-align: middle;\n",
       "    }\n",
       "\n",
       "    .dataframe tbody tr th {\n",
       "        vertical-align: top;\n",
       "    }\n",
       "\n",
       "    .dataframe thead th {\n",
       "        text-align: right;\n",
       "    }\n",
       "</style>\n",
       "<table border=\"1\" class=\"dataframe\">\n",
       "  <thead>\n",
       "    <tr style=\"text-align: right;\">\n",
       "      <th></th>\n",
       "      <th>uid</th>\n",
       "      <th>pss_pre</th>\n",
       "      <th>pss_post</th>\n",
       "    </tr>\n",
       "  </thead>\n",
       "  <tbody>\n",
       "    <tr>\n",
       "      <th>0</th>\n",
       "      <td>0</td>\n",
       "      <td>24</td>\n",
       "      <td>15.0</td>\n",
       "    </tr>\n",
       "    <tr>\n",
       "      <th>1</th>\n",
       "      <td>1</td>\n",
       "      <td>15</td>\n",
       "      <td>16.0</td>\n",
       "    </tr>\n",
       "    <tr>\n",
       "      <th>2</th>\n",
       "      <td>2</td>\n",
       "      <td>21</td>\n",
       "      <td>25.0</td>\n",
       "    </tr>\n",
       "    <tr>\n",
       "      <th>3</th>\n",
       "      <td>3</td>\n",
       "      <td>17</td>\n",
       "      <td>24.0</td>\n",
       "    </tr>\n",
       "    <tr>\n",
       "      <th>4</th>\n",
       "      <td>4</td>\n",
       "      <td>21</td>\n",
       "      <td>17.0</td>\n",
       "    </tr>\n",
       "  </tbody>\n",
       "</table>\n",
       "</div>"
      ],
      "text/plain": [
       "   uid  pss_pre  pss_post\n",
       "0    0       24      15.0\n",
       "1    1       15      16.0\n",
       "2    2       21      25.0\n",
       "3    3       17      24.0\n",
       "4    4       21      17.0"
      ]
     },
     "execution_count": 71,
     "metadata": {},
     "output_type": "execute_result"
    }
   ],
   "source": [
    "pss.head()"
   ]
  },
  {
   "cell_type": "code",
   "execution_count": 72,
   "metadata": {},
   "outputs": [
    {
     "data": {
      "text/html": [
       "<div>\n",
       "<style scoped>\n",
       "    .dataframe tbody tr th:only-of-type {\n",
       "        vertical-align: middle;\n",
       "    }\n",
       "\n",
       "    .dataframe tbody tr th {\n",
       "        vertical-align: top;\n",
       "    }\n",
       "\n",
       "    .dataframe thead th {\n",
       "        text-align: right;\n",
       "    }\n",
       "</style>\n",
       "<table border=\"1\" class=\"dataframe\">\n",
       "  <thead>\n",
       "    <tr style=\"text-align: right;\">\n",
       "      <th></th>\n",
       "      <th>uid</th>\n",
       "      <th>avg_bt</th>\n",
       "      <th>phq-9_pre</th>\n",
       "      <th>phq-9_post</th>\n",
       "      <th>phq-9_avg</th>\n",
       "      <th>fl_pre</th>\n",
       "      <th>fl_post</th>\n",
       "      <th>big5-o_pre</th>\n",
       "      <th>big5-c_pre</th>\n",
       "      <th>big5-e_pre</th>\n",
       "      <th>...</th>\n",
       "      <th>big5-a_post</th>\n",
       "      <th>big5-n_post</th>\n",
       "      <th>lon_pre</th>\n",
       "      <th>lon_post</th>\n",
       "      <th>panas-pos_pre</th>\n",
       "      <th>panas-neg_pre</th>\n",
       "      <th>panas-pos_post</th>\n",
       "      <th>panas-neg_post</th>\n",
       "      <th>pss_pre</th>\n",
       "      <th>pss_post</th>\n",
       "    </tr>\n",
       "  </thead>\n",
       "  <tbody>\n",
       "    <tr>\n",
       "      <th>0</th>\n",
       "      <td>0</td>\n",
       "      <td>3.738</td>\n",
       "      <td>2.0</td>\n",
       "      <td>3.0</td>\n",
       "      <td>2.5</td>\n",
       "      <td>NaN</td>\n",
       "      <td>45.0</td>\n",
       "      <td>45.0</td>\n",
       "      <td>27.0</td>\n",
       "      <td>30.0</td>\n",
       "      <td>...</td>\n",
       "      <td>32.0</td>\n",
       "      <td>24.0</td>\n",
       "      <td>31.0</td>\n",
       "      <td>33.0</td>\n",
       "      <td>32.0</td>\n",
       "      <td>33.0</td>\n",
       "      <td>31.0</td>\n",
       "      <td>24.0</td>\n",
       "      <td>24.0</td>\n",
       "      <td>15.0</td>\n",
       "    </tr>\n",
       "    <tr>\n",
       "      <th>1</th>\n",
       "      <td>1</td>\n",
       "      <td>1.851</td>\n",
       "      <td>5.0</td>\n",
       "      <td>4.0</td>\n",
       "      <td>4.5</td>\n",
       "      <td>45.0</td>\n",
       "      <td>46.0</td>\n",
       "      <td>39.0</td>\n",
       "      <td>40.0</td>\n",
       "      <td>25.0</td>\n",
       "      <td>...</td>\n",
       "      <td>34.0</td>\n",
       "      <td>23.0</td>\n",
       "      <td>34.0</td>\n",
       "      <td>39.0</td>\n",
       "      <td>30.0</td>\n",
       "      <td>19.0</td>\n",
       "      <td>27.0</td>\n",
       "      <td>17.0</td>\n",
       "      <td>15.0</td>\n",
       "      <td>16.0</td>\n",
       "    </tr>\n",
       "    <tr>\n",
       "      <th>2</th>\n",
       "      <td>2</td>\n",
       "      <td>2.653</td>\n",
       "      <td>13.0</td>\n",
       "      <td>5.0</td>\n",
       "      <td>9.0</td>\n",
       "      <td>46.0</td>\n",
       "      <td>44.0</td>\n",
       "      <td>32.0</td>\n",
       "      <td>38.0</td>\n",
       "      <td>17.0</td>\n",
       "      <td>...</td>\n",
       "      <td>27.0</td>\n",
       "      <td>26.0</td>\n",
       "      <td>33.0</td>\n",
       "      <td>31.0</td>\n",
       "      <td>23.0</td>\n",
       "      <td>15.0</td>\n",
       "      <td>28.0</td>\n",
       "      <td>13.0</td>\n",
       "      <td>21.0</td>\n",
       "      <td>25.0</td>\n",
       "    </tr>\n",
       "    <tr>\n",
       "      <th>3</th>\n",
       "      <td>3</td>\n",
       "      <td>1.011</td>\n",
       "      <td>2.0</td>\n",
       "      <td>4.0</td>\n",
       "      <td>3.0</td>\n",
       "      <td>34.0</td>\n",
       "      <td>31.0</td>\n",
       "      <td>27.0</td>\n",
       "      <td>35.0</td>\n",
       "      <td>17.0</td>\n",
       "      <td>...</td>\n",
       "      <td>26.0</td>\n",
       "      <td>24.0</td>\n",
       "      <td>33.0</td>\n",
       "      <td>25.0</td>\n",
       "      <td>30.0</td>\n",
       "      <td>27.0</td>\n",
       "      <td>25.0</td>\n",
       "      <td>20.0</td>\n",
       "      <td>17.0</td>\n",
       "      <td>24.0</td>\n",
       "    </tr>\n",
       "    <tr>\n",
       "      <th>4</th>\n",
       "      <td>4</td>\n",
       "      <td>1.714</td>\n",
       "      <td>6.0</td>\n",
       "      <td>8.0</td>\n",
       "      <td>7.0</td>\n",
       "      <td>27.0</td>\n",
       "      <td>33.0</td>\n",
       "      <td>29.0</td>\n",
       "      <td>24.0</td>\n",
       "      <td>19.0</td>\n",
       "      <td>...</td>\n",
       "      <td>27.0</td>\n",
       "      <td>37.0</td>\n",
       "      <td>31.0</td>\n",
       "      <td>36.0</td>\n",
       "      <td>27.0</td>\n",
       "      <td>14.0</td>\n",
       "      <td>34.0</td>\n",
       "      <td>19.0</td>\n",
       "      <td>21.0</td>\n",
       "      <td>17.0</td>\n",
       "    </tr>\n",
       "  </tbody>\n",
       "</table>\n",
       "<p>5 rows × 25 columns</p>\n",
       "</div>"
      ],
      "text/plain": [
       "   uid  avg_bt  phq-9_pre  phq-9_post  phq-9_avg  fl_pre  fl_post  big5-o_pre  \\\n",
       "0    0   3.738        2.0         3.0        2.5     NaN     45.0        45.0   \n",
       "1    1   1.851        5.0         4.0        4.5    45.0     46.0        39.0   \n",
       "2    2   2.653       13.0         5.0        9.0    46.0     44.0        32.0   \n",
       "3    3   1.011        2.0         4.0        3.0    34.0     31.0        27.0   \n",
       "4    4   1.714        6.0         8.0        7.0    27.0     33.0        29.0   \n",
       "\n",
       "   big5-c_pre  big5-e_pre  ...  big5-a_post  big5-n_post  lon_pre  lon_post  \\\n",
       "0        27.0        30.0  ...         32.0         24.0     31.0      33.0   \n",
       "1        40.0        25.0  ...         34.0         23.0     34.0      39.0   \n",
       "2        38.0        17.0  ...         27.0         26.0     33.0      31.0   \n",
       "3        35.0        17.0  ...         26.0         24.0     33.0      25.0   \n",
       "4        24.0        19.0  ...         27.0         37.0     31.0      36.0   \n",
       "\n",
       "   panas-pos_pre  panas-neg_pre  panas-pos_post  panas-neg_post  pss_pre  \\\n",
       "0           32.0           33.0            31.0            24.0     24.0   \n",
       "1           30.0           19.0            27.0            17.0     15.0   \n",
       "2           23.0           15.0            28.0            13.0     21.0   \n",
       "3           30.0           27.0            25.0            20.0     17.0   \n",
       "4           27.0           14.0            34.0            19.0     21.0   \n",
       "\n",
       "   pss_post  \n",
       "0      15.0  \n",
       "1      16.0  \n",
       "2      25.0  \n",
       "3      24.0  \n",
       "4      17.0  \n",
       "\n",
       "[5 rows x 25 columns]"
      ]
     },
     "execution_count": 72,
     "metadata": {},
     "output_type": "execute_result"
    }
   ],
   "source": [
    "# merge\n",
    "# bt = bt.drop(['panas-pos_pre', 'panas-neg_pre', 'panas-pos_post', 'panas-neg_post'], axis=1)\n",
    "bt = pd.merge(bt, pss, how='outer').sort_values(by='uid').reset_index(drop=True)\n",
    "bt.head()"
   ]
  },
  {
   "cell_type": "code",
   "execution_count": 73,
   "metadata": {},
   "outputs": [],
   "source": [
    "bt_pss_valid = bt[['uid', 'avg_bt', 'pss_pre', 'pss_post']].dropna()"
   ]
  },
  {
   "cell_type": "code",
   "execution_count": 74,
   "metadata": {},
   "outputs": [
    {
     "data": {
      "text/plain": [
       "(-0.1287485155447949, 0.4347237728729937)"
      ]
     },
     "execution_count": 74,
     "metadata": {},
     "output_type": "execute_result"
    }
   ],
   "source": [
    "r, p = scipy.stats.pearsonr(bt_pss_valid['avg_bt'], bt_pss_valid['pss_pre'])\n",
    "r, p  # not significant"
   ]
  },
  {
   "cell_type": "code",
   "execution_count": 75,
   "metadata": {},
   "outputs": [
    {
     "data": {
      "text/plain": [
       "(-0.1583441376174915, 0.3356588920726596)"
      ]
     },
     "execution_count": 75,
     "metadata": {},
     "output_type": "execute_result"
    }
   ],
   "source": [
    "r, p = scipy.stats.pearsonr(bt_pss_valid['avg_bt'], bt_pss_valid['pss_post'])\n",
    "r, p  # not significant"
   ]
  },
  {
   "cell_type": "code",
   "execution_count": null,
   "metadata": {},
   "outputs": [],
   "source": []
  },
  {
   "cell_type": "markdown",
   "metadata": {},
   "source": [
    "### 7) Bluetooth + GPA\n",
    "co-location + GPA\n",
    "\n",
    "pearson correlation\n",
    "\n",
    "spring term GPA만 significant (r = 0.242, p = 0.290)"
   ]
  },
  {
   "cell_type": "code",
   "execution_count": 76,
   "metadata": {},
   "outputs": [],
   "source": [
    "# import gpa data\n",
    "gpa_path = '//data/dopameter/student_life/dataset/dataset/education/grades.csv'\n",
    "f = open(gpa_path, 'r')\n",
    "gpa_df = pd.read_csv(f, names=['uid', 'gpa_all', 'gpa_13s', 'cs_65'], header=0)"
   ]
  },
  {
   "cell_type": "code",
   "execution_count": 77,
   "metadata": {},
   "outputs": [
    {
     "data": {
      "text/html": [
       "<div>\n",
       "<style scoped>\n",
       "    .dataframe tbody tr th:only-of-type {\n",
       "        vertical-align: middle;\n",
       "    }\n",
       "\n",
       "    .dataframe tbody tr th {\n",
       "        vertical-align: top;\n",
       "    }\n",
       "\n",
       "    .dataframe thead th {\n",
       "        text-align: right;\n",
       "    }\n",
       "</style>\n",
       "<table border=\"1\" class=\"dataframe\">\n",
       "  <thead>\n",
       "    <tr style=\"text-align: right;\">\n",
       "      <th></th>\n",
       "      <th>uid</th>\n",
       "      <th>gpa_all</th>\n",
       "      <th>gpa_13s</th>\n",
       "      <th>cs_65</th>\n",
       "    </tr>\n",
       "  </thead>\n",
       "  <tbody>\n",
       "    <tr>\n",
       "      <th>0</th>\n",
       "      <td>1</td>\n",
       "      <td>2.863</td>\n",
       "      <td>1.777778</td>\n",
       "      <td>3.0</td>\n",
       "    </tr>\n",
       "    <tr>\n",
       "      <th>1</th>\n",
       "      <td>2</td>\n",
       "      <td>3.505</td>\n",
       "      <td>4.000000</td>\n",
       "      <td>4.0</td>\n",
       "    </tr>\n",
       "    <tr>\n",
       "      <th>2</th>\n",
       "      <td>4</td>\n",
       "      <td>3.029</td>\n",
       "      <td>3.500000</td>\n",
       "      <td>4.0</td>\n",
       "    </tr>\n",
       "    <tr>\n",
       "      <th>3</th>\n",
       "      <td>5</td>\n",
       "      <td>3.679</td>\n",
       "      <td>3.777778</td>\n",
       "      <td>4.0</td>\n",
       "    </tr>\n",
       "    <tr>\n",
       "      <th>4</th>\n",
       "      <td>7</td>\n",
       "      <td>3.474</td>\n",
       "      <td>4.000000</td>\n",
       "      <td>4.0</td>\n",
       "    </tr>\n",
       "  </tbody>\n",
       "</table>\n",
       "</div>"
      ],
      "text/plain": [
       "  uid  gpa_all   gpa_13s  cs_65\n",
       "0   1    2.863  1.777778    3.0\n",
       "1   2    3.505  4.000000    4.0\n",
       "2   4    3.029  3.500000    4.0\n",
       "3   5    3.679  3.777778    4.0\n",
       "4   7    3.474  4.000000    4.0"
      ]
     },
     "execution_count": 77,
     "metadata": {},
     "output_type": "execute_result"
    }
   ],
   "source": [
    "# change uid to int\n",
    "for index, row in gpa_df.iterrows():\n",
    "    gpa_df.loc[index, 'uid'] = int(re.search(r'\\d+', row['uid']).group())\n",
    "\n",
    "gpa_df.head()"
   ]
  },
  {
   "cell_type": "code",
   "execution_count": 78,
   "metadata": {},
   "outputs": [
    {
     "data": {
      "text/html": [
       "<div>\n",
       "<style scoped>\n",
       "    .dataframe tbody tr th:only-of-type {\n",
       "        vertical-align: middle;\n",
       "    }\n",
       "\n",
       "    .dataframe tbody tr th {\n",
       "        vertical-align: top;\n",
       "    }\n",
       "\n",
       "    .dataframe thead th {\n",
       "        text-align: right;\n",
       "    }\n",
       "</style>\n",
       "<table border=\"1\" class=\"dataframe\">\n",
       "  <thead>\n",
       "    <tr style=\"text-align: right;\">\n",
       "      <th></th>\n",
       "      <th>uid</th>\n",
       "      <th>avg_bt</th>\n",
       "      <th>phq-9_pre</th>\n",
       "      <th>phq-9_post</th>\n",
       "      <th>phq-9_avg</th>\n",
       "      <th>fl_pre</th>\n",
       "      <th>fl_post</th>\n",
       "      <th>big5-o_pre</th>\n",
       "      <th>big5-c_pre</th>\n",
       "      <th>big5-e_pre</th>\n",
       "      <th>...</th>\n",
       "      <th>lon_post</th>\n",
       "      <th>panas-pos_pre</th>\n",
       "      <th>panas-neg_pre</th>\n",
       "      <th>panas-pos_post</th>\n",
       "      <th>panas-neg_post</th>\n",
       "      <th>pss_pre</th>\n",
       "      <th>pss_post</th>\n",
       "      <th>gpa_all</th>\n",
       "      <th>gpa_13s</th>\n",
       "      <th>cs_65</th>\n",
       "    </tr>\n",
       "  </thead>\n",
       "  <tbody>\n",
       "    <tr>\n",
       "      <th>0</th>\n",
       "      <td>0</td>\n",
       "      <td>3.738</td>\n",
       "      <td>2.0</td>\n",
       "      <td>3.0</td>\n",
       "      <td>2.5</td>\n",
       "      <td>NaN</td>\n",
       "      <td>45.0</td>\n",
       "      <td>45.0</td>\n",
       "      <td>27.0</td>\n",
       "      <td>30.0</td>\n",
       "      <td>...</td>\n",
       "      <td>33.0</td>\n",
       "      <td>32.0</td>\n",
       "      <td>33.0</td>\n",
       "      <td>31.0</td>\n",
       "      <td>24.0</td>\n",
       "      <td>24.0</td>\n",
       "      <td>15.0</td>\n",
       "      <td>NaN</td>\n",
       "      <td>NaN</td>\n",
       "      <td>NaN</td>\n",
       "    </tr>\n",
       "    <tr>\n",
       "      <th>1</th>\n",
       "      <td>1</td>\n",
       "      <td>1.851</td>\n",
       "      <td>5.0</td>\n",
       "      <td>4.0</td>\n",
       "      <td>4.5</td>\n",
       "      <td>45.0</td>\n",
       "      <td>46.0</td>\n",
       "      <td>39.0</td>\n",
       "      <td>40.0</td>\n",
       "      <td>25.0</td>\n",
       "      <td>...</td>\n",
       "      <td>39.0</td>\n",
       "      <td>30.0</td>\n",
       "      <td>19.0</td>\n",
       "      <td>27.0</td>\n",
       "      <td>17.0</td>\n",
       "      <td>15.0</td>\n",
       "      <td>16.0</td>\n",
       "      <td>2.863</td>\n",
       "      <td>1.777778</td>\n",
       "      <td>3.0</td>\n",
       "    </tr>\n",
       "    <tr>\n",
       "      <th>2</th>\n",
       "      <td>2</td>\n",
       "      <td>2.653</td>\n",
       "      <td>13.0</td>\n",
       "      <td>5.0</td>\n",
       "      <td>9.0</td>\n",
       "      <td>46.0</td>\n",
       "      <td>44.0</td>\n",
       "      <td>32.0</td>\n",
       "      <td>38.0</td>\n",
       "      <td>17.0</td>\n",
       "      <td>...</td>\n",
       "      <td>31.0</td>\n",
       "      <td>23.0</td>\n",
       "      <td>15.0</td>\n",
       "      <td>28.0</td>\n",
       "      <td>13.0</td>\n",
       "      <td>21.0</td>\n",
       "      <td>25.0</td>\n",
       "      <td>3.505</td>\n",
       "      <td>4.000000</td>\n",
       "      <td>4.0</td>\n",
       "    </tr>\n",
       "    <tr>\n",
       "      <th>3</th>\n",
       "      <td>3</td>\n",
       "      <td>1.011</td>\n",
       "      <td>2.0</td>\n",
       "      <td>4.0</td>\n",
       "      <td>3.0</td>\n",
       "      <td>34.0</td>\n",
       "      <td>31.0</td>\n",
       "      <td>27.0</td>\n",
       "      <td>35.0</td>\n",
       "      <td>17.0</td>\n",
       "      <td>...</td>\n",
       "      <td>25.0</td>\n",
       "      <td>30.0</td>\n",
       "      <td>27.0</td>\n",
       "      <td>25.0</td>\n",
       "      <td>20.0</td>\n",
       "      <td>17.0</td>\n",
       "      <td>24.0</td>\n",
       "      <td>NaN</td>\n",
       "      <td>NaN</td>\n",
       "      <td>NaN</td>\n",
       "    </tr>\n",
       "    <tr>\n",
       "      <th>4</th>\n",
       "      <td>4</td>\n",
       "      <td>1.714</td>\n",
       "      <td>6.0</td>\n",
       "      <td>8.0</td>\n",
       "      <td>7.0</td>\n",
       "      <td>27.0</td>\n",
       "      <td>33.0</td>\n",
       "      <td>29.0</td>\n",
       "      <td>24.0</td>\n",
       "      <td>19.0</td>\n",
       "      <td>...</td>\n",
       "      <td>36.0</td>\n",
       "      <td>27.0</td>\n",
       "      <td>14.0</td>\n",
       "      <td>34.0</td>\n",
       "      <td>19.0</td>\n",
       "      <td>21.0</td>\n",
       "      <td>17.0</td>\n",
       "      <td>3.029</td>\n",
       "      <td>3.500000</td>\n",
       "      <td>4.0</td>\n",
       "    </tr>\n",
       "  </tbody>\n",
       "</table>\n",
       "<p>5 rows × 28 columns</p>\n",
       "</div>"
      ],
      "text/plain": [
       "   uid  avg_bt  phq-9_pre  phq-9_post  phq-9_avg  fl_pre  fl_post  big5-o_pre  \\\n",
       "0    0   3.738        2.0         3.0        2.5     NaN     45.0        45.0   \n",
       "1    1   1.851        5.0         4.0        4.5    45.0     46.0        39.0   \n",
       "2    2   2.653       13.0         5.0        9.0    46.0     44.0        32.0   \n",
       "3    3   1.011        2.0         4.0        3.0    34.0     31.0        27.0   \n",
       "4    4   1.714        6.0         8.0        7.0    27.0     33.0        29.0   \n",
       "\n",
       "   big5-c_pre  big5-e_pre  ...  lon_post  panas-pos_pre  panas-neg_pre  \\\n",
       "0        27.0        30.0  ...      33.0           32.0           33.0   \n",
       "1        40.0        25.0  ...      39.0           30.0           19.0   \n",
       "2        38.0        17.0  ...      31.0           23.0           15.0   \n",
       "3        35.0        17.0  ...      25.0           30.0           27.0   \n",
       "4        24.0        19.0  ...      36.0           27.0           14.0   \n",
       "\n",
       "   panas-pos_post  panas-neg_post  pss_pre  pss_post  gpa_all   gpa_13s  cs_65  \n",
       "0            31.0            24.0     24.0      15.0      NaN       NaN    NaN  \n",
       "1            27.0            17.0     15.0      16.0    2.863  1.777778    3.0  \n",
       "2            28.0            13.0     21.0      25.0    3.505  4.000000    4.0  \n",
       "3            25.0            20.0     17.0      24.0      NaN       NaN    NaN  \n",
       "4            34.0            19.0     21.0      17.0    3.029  3.500000    4.0  \n",
       "\n",
       "[5 rows x 28 columns]"
      ]
     },
     "execution_count": 78,
     "metadata": {},
     "output_type": "execute_result"
    }
   ],
   "source": [
    "# merge bt_phq & gpa \n",
    "bt = pd.merge(bt, gpa_df, how='outer').sort_values(by='uid').reset_index(drop=True)\n",
    "bt['uid'] = bt['uid'].astype(int)\n",
    "bt.head()"
   ]
  },
  {
   "cell_type": "code",
   "execution_count": 79,
   "metadata": {},
   "outputs": [],
   "source": [
    "bt_valid = bt.dropna()"
   ]
  },
  {
   "cell_type": "code",
   "execution_count": 80,
   "metadata": {},
   "outputs": [],
   "source": [
    "r, p = scipy.stats.pearsonr(bt_valid['avg_bt'], bt_valid['gpa_all'])"
   ]
  },
  {
   "cell_type": "code",
   "execution_count": 81,
   "metadata": {},
   "outputs": [
    {
     "data": {
      "text/plain": [
       "(0.3771585531965868, 0.10115176064324082)"
      ]
     },
     "execution_count": 81,
     "metadata": {},
     "output_type": "execute_result"
    }
   ],
   "source": [
    "r, p  # not significant"
   ]
  },
  {
   "cell_type": "code",
   "execution_count": 82,
   "metadata": {},
   "outputs": [],
   "source": [
    "r, p = scipy.stats.pearsonr(bt_valid['avg_bt'], bt_valid['gpa_13s'])"
   ]
  },
  {
   "cell_type": "code",
   "execution_count": 83,
   "metadata": {},
   "outputs": [
    {
     "data": {
      "text/plain": [
       "(0.4467736010431869, 0.0482844550172856)"
      ]
     },
     "execution_count": 83,
     "metadata": {},
     "output_type": "execute_result"
    }
   ],
   "source": [
    "r, p  # significant (when bluetooth threshold = -90)"
   ]
  },
  {
   "cell_type": "code",
   "execution_count": 84,
   "metadata": {},
   "outputs": [],
   "source": [
    "r, p = scipy.stats.pearsonr(bt_valid['avg_bt'], bt_valid['cs_65'])"
   ]
  },
  {
   "cell_type": "code",
   "execution_count": 85,
   "metadata": {},
   "outputs": [
    {
     "data": {
      "text/plain": [
       "(0.21889587112695916, 0.35381576639725704)"
      ]
     },
     "execution_count": 85,
     "metadata": {},
     "output_type": "execute_result"
    }
   ],
   "source": [
    "r, p"
   ]
  },
  {
   "cell_type": "code",
   "execution_count": 86,
   "metadata": {},
   "outputs": [],
   "source": [
    "# save significant associations in a dataframe (-> export as csv file)\n",
    "sig_arr = [['avg_bt', 'gpa_13s', 0.447, 0.048]]\n",
    "sig_corr = sig_corr.append(pd.DataFrame(sig_arr, columns=['sig1', 'sig2', 'r', 'p']))\n",
    "sig_corr.to_csv('sig_corr.csv')"
   ]
  },
  {
   "cell_type": "code",
   "execution_count": null,
   "metadata": {},
   "outputs": [],
   "source": []
  },
  {
   "cell_type": "markdown",
   "metadata": {},
   "source": [
    "## 2. GPS\n",
    "### 1) distance traveled across the day"
   ]
  },
  {
   "cell_type": "code",
   "execution_count": 87,
   "metadata": {},
   "outputs": [],
   "source": [
    "# import gps data\n",
    "gps_path = '//data/dopameter/student_life/dataset/dataset/sensing/gps/*.csv'\n",
    "gps_data = {}\n",
    "for file_name in glob.glob(gps_path):\n",
    "    f = open(file_name, 'r')\n",
    "    uid = int(re.search(r'\\d+', file_name).group())  # user id\n",
    "    gps_data[uid] = pd.read_csv(f, index_col=False)  # dict {uid: gps dataframe}"
   ]
  },
  {
   "cell_type": "code",
   "execution_count": 88,
   "metadata": {},
   "outputs": [],
   "source": [
    "import datetime\n",
    "\n",
    "def convert_datetime(unixtime):\n",
    "    \"\"\"Convert unixtime to datetime\"\"\"\n",
    "    date = datetime.datetime.fromtimestamp(unixtime)\n",
    "    return date"
   ]
  },
  {
   "cell_type": "code",
   "execution_count": 89,
   "metadata": {},
   "outputs": [],
   "source": [
    "import math\n",
    "\n",
    "def calculate_distance(p1, p2):\n",
    "    return math.sqrt( ((p1[0]-p2[0])**2)+((p1[1]-p2[1])**2)+((p1[2]-p2[2])**2) )"
   ]
  },
  {
   "cell_type": "code",
   "execution_count": 90,
   "metadata": {},
   "outputs": [],
   "source": [
    "# get avg number traveled distance per day\n",
    "\n",
    "import scipy\n",
    "\n",
    "# curr_date = None\n",
    "# days_distance = {}\n",
    "# prev_location = [None, None, None]  # [lat, long, alt]\n",
    "# for i in gps_data[0].index:\n",
    "#     row_datetime = convert_datetime(gps_data[0].at[i, 'time'])\n",
    "#     row_lat = gps_data[0].at[i, 'latitude']\n",
    "#     row_long = gps_data[0].at[i, 'longitude']\n",
    "#     row_alt = gps_data[0].at[i, 'altitude']\n",
    "#     row_location = [row_lat, row_long, row_alt]\n",
    "# #     print(row_datetime.date().strftime('%Y-%m-%d'))\n",
    "          \n",
    "#     if row_datetime.date() == curr_date:\n",
    "#         days_distance[curr_date] += calculate_distance(prev_location, row_location)\n",
    "#     else:\n",
    "#         curr_date = row_datetime.date()\n",
    "#         days_distance[curr_date] = 0\n",
    "#     prev_location = [row_lat, row_long, row_alt]\n",
    "\n",
    "# for date in days_distance:\n",
    "#     days_distance[date] = round(days_distance[date], 3)\n",
    "\n",
    "user_distance = {}  # {uid: day distance df}\n",
    "distance_info = {} # {uid: avg distance per day}\n",
    "# get total distance for each day\n",
    "for key, value in gps_data.items():\n",
    "    curr_date = None\n",
    "    days_distance = {}\n",
    "    prev_location = [None, None, None]  # [lat, long, alt]\n",
    "    for i in value.index:\n",
    "        row_datetime = convert_datetime(value.at[i, 'time'])\n",
    "        row_lat = value.at[i, 'latitude']\n",
    "        row_long = value.at[i, 'longitude']\n",
    "        row_alt = value.at[i, 'altitude']\n",
    "        row_location = [row_lat, row_long, row_alt]\n",
    "    #     print(row_datetime.date().strftime('%Y-%m-%d'))\n",
    "\n",
    "        if row_datetime.date() == curr_date:\n",
    "            days_distance[curr_date] += calculate_distance(prev_location, row_location)\n",
    "        else:\n",
    "            curr_date = row_datetime.date()\n",
    "            days_distance[curr_date] = 0\n",
    "        prev_location = [row_lat, row_long, row_alt]\n",
    "\n",
    "    for date in days_distance:\n",
    "        days_distance[date] = round(days_distance[date], 3)\n",
    "    \n",
    "    days_distance_df = pd.DataFrame.from_dict(days_distance, columns = ['distance'], orient='index')\n",
    "\n",
    "    user_distance[key] = days_distance_df\n",
    "    \n",
    "    # get mean distance per day\n",
    "    distance_info[key] = [round(days_distance_df['distance'].mean(), 3)]\n",
    "\n",
    "distance = pd.DataFrame.from_dict(distance_info, columns = ['avg_dist'], orient='index')\n"
   ]
  },
  {
   "cell_type": "code",
   "execution_count": 91,
   "metadata": {},
   "outputs": [],
   "source": [
    "distance = distance.reset_index().rename(columns={'index': 'uid'})\n",
    "distance = distance.sort_values(by='uid').reset_index(drop=True)"
   ]
  },
  {
   "cell_type": "code",
   "execution_count": 92,
   "metadata": {},
   "outputs": [
    {
     "data": {
      "text/html": [
       "<div>\n",
       "<style scoped>\n",
       "    .dataframe tbody tr th:only-of-type {\n",
       "        vertical-align: middle;\n",
       "    }\n",
       "\n",
       "    .dataframe tbody tr th {\n",
       "        vertical-align: top;\n",
       "    }\n",
       "\n",
       "    .dataframe thead th {\n",
       "        text-align: right;\n",
       "    }\n",
       "</style>\n",
       "<table border=\"1\" class=\"dataframe\">\n",
       "  <thead>\n",
       "    <tr style=\"text-align: right;\">\n",
       "      <th></th>\n",
       "      <th>uid</th>\n",
       "      <th>avg_dist</th>\n",
       "    </tr>\n",
       "  </thead>\n",
       "  <tbody>\n",
       "    <tr>\n",
       "      <th>0</th>\n",
       "      <td>0</td>\n",
       "      <td>808.349</td>\n",
       "    </tr>\n",
       "    <tr>\n",
       "      <th>1</th>\n",
       "      <td>1</td>\n",
       "      <td>1505.468</td>\n",
       "    </tr>\n",
       "    <tr>\n",
       "      <th>2</th>\n",
       "      <td>2</td>\n",
       "      <td>852.401</td>\n",
       "    </tr>\n",
       "    <tr>\n",
       "      <th>3</th>\n",
       "      <td>3</td>\n",
       "      <td>486.413</td>\n",
       "    </tr>\n",
       "    <tr>\n",
       "      <th>4</th>\n",
       "      <td>4</td>\n",
       "      <td>324.165</td>\n",
       "    </tr>\n",
       "  </tbody>\n",
       "</table>\n",
       "</div>"
      ],
      "text/plain": [
       "   uid  avg_dist\n",
       "0    0   808.349\n",
       "1    1  1505.468\n",
       "2    2   852.401\n",
       "3    3   486.413\n",
       "4    4   324.165"
      ]
     },
     "execution_count": 92,
     "metadata": {},
     "output_type": "execute_result"
    }
   ],
   "source": [
    "distance.head()"
   ]
  },
  {
   "cell_type": "markdown",
   "metadata": {},
   "source": [
    "#### 1.1) travel distance + phq\n",
    "not significant"
   ]
  },
  {
   "cell_type": "code",
   "execution_count": 93,
   "metadata": {},
   "outputs": [],
   "source": [
    "df = bt"
   ]
  },
  {
   "cell_type": "code",
   "execution_count": 94,
   "metadata": {},
   "outputs": [
    {
     "data": {
      "text/html": [
       "<div>\n",
       "<style scoped>\n",
       "    .dataframe tbody tr th:only-of-type {\n",
       "        vertical-align: middle;\n",
       "    }\n",
       "\n",
       "    .dataframe tbody tr th {\n",
       "        vertical-align: top;\n",
       "    }\n",
       "\n",
       "    .dataframe thead th {\n",
       "        text-align: right;\n",
       "    }\n",
       "</style>\n",
       "<table border=\"1\" class=\"dataframe\">\n",
       "  <thead>\n",
       "    <tr style=\"text-align: right;\">\n",
       "      <th></th>\n",
       "      <th>uid</th>\n",
       "      <th>avg_bt</th>\n",
       "      <th>phq-9_pre</th>\n",
       "      <th>phq-9_post</th>\n",
       "      <th>phq-9_avg</th>\n",
       "      <th>fl_pre</th>\n",
       "      <th>fl_post</th>\n",
       "      <th>big5-o_pre</th>\n",
       "      <th>big5-c_pre</th>\n",
       "      <th>big5-e_pre</th>\n",
       "      <th>...</th>\n",
       "      <th>panas-pos_pre</th>\n",
       "      <th>panas-neg_pre</th>\n",
       "      <th>panas-pos_post</th>\n",
       "      <th>panas-neg_post</th>\n",
       "      <th>pss_pre</th>\n",
       "      <th>pss_post</th>\n",
       "      <th>gpa_all</th>\n",
       "      <th>gpa_13s</th>\n",
       "      <th>cs_65</th>\n",
       "      <th>avg_dist</th>\n",
       "    </tr>\n",
       "  </thead>\n",
       "  <tbody>\n",
       "    <tr>\n",
       "      <th>0</th>\n",
       "      <td>0</td>\n",
       "      <td>3.738</td>\n",
       "      <td>2.0</td>\n",
       "      <td>3.0</td>\n",
       "      <td>2.5</td>\n",
       "      <td>NaN</td>\n",
       "      <td>45.0</td>\n",
       "      <td>45.0</td>\n",
       "      <td>27.0</td>\n",
       "      <td>30.0</td>\n",
       "      <td>...</td>\n",
       "      <td>32.0</td>\n",
       "      <td>33.0</td>\n",
       "      <td>31.0</td>\n",
       "      <td>24.0</td>\n",
       "      <td>24.0</td>\n",
       "      <td>15.0</td>\n",
       "      <td>NaN</td>\n",
       "      <td>NaN</td>\n",
       "      <td>NaN</td>\n",
       "      <td>808.349</td>\n",
       "    </tr>\n",
       "    <tr>\n",
       "      <th>1</th>\n",
       "      <td>1</td>\n",
       "      <td>1.851</td>\n",
       "      <td>5.0</td>\n",
       "      <td>4.0</td>\n",
       "      <td>4.5</td>\n",
       "      <td>45.0</td>\n",
       "      <td>46.0</td>\n",
       "      <td>39.0</td>\n",
       "      <td>40.0</td>\n",
       "      <td>25.0</td>\n",
       "      <td>...</td>\n",
       "      <td>30.0</td>\n",
       "      <td>19.0</td>\n",
       "      <td>27.0</td>\n",
       "      <td>17.0</td>\n",
       "      <td>15.0</td>\n",
       "      <td>16.0</td>\n",
       "      <td>2.863</td>\n",
       "      <td>1.777778</td>\n",
       "      <td>3.0</td>\n",
       "      <td>1505.468</td>\n",
       "    </tr>\n",
       "    <tr>\n",
       "      <th>2</th>\n",
       "      <td>2</td>\n",
       "      <td>2.653</td>\n",
       "      <td>13.0</td>\n",
       "      <td>5.0</td>\n",
       "      <td>9.0</td>\n",
       "      <td>46.0</td>\n",
       "      <td>44.0</td>\n",
       "      <td>32.0</td>\n",
       "      <td>38.0</td>\n",
       "      <td>17.0</td>\n",
       "      <td>...</td>\n",
       "      <td>23.0</td>\n",
       "      <td>15.0</td>\n",
       "      <td>28.0</td>\n",
       "      <td>13.0</td>\n",
       "      <td>21.0</td>\n",
       "      <td>25.0</td>\n",
       "      <td>3.505</td>\n",
       "      <td>4.000000</td>\n",
       "      <td>4.0</td>\n",
       "      <td>852.401</td>\n",
       "    </tr>\n",
       "    <tr>\n",
       "      <th>3</th>\n",
       "      <td>3</td>\n",
       "      <td>1.011</td>\n",
       "      <td>2.0</td>\n",
       "      <td>4.0</td>\n",
       "      <td>3.0</td>\n",
       "      <td>34.0</td>\n",
       "      <td>31.0</td>\n",
       "      <td>27.0</td>\n",
       "      <td>35.0</td>\n",
       "      <td>17.0</td>\n",
       "      <td>...</td>\n",
       "      <td>30.0</td>\n",
       "      <td>27.0</td>\n",
       "      <td>25.0</td>\n",
       "      <td>20.0</td>\n",
       "      <td>17.0</td>\n",
       "      <td>24.0</td>\n",
       "      <td>NaN</td>\n",
       "      <td>NaN</td>\n",
       "      <td>NaN</td>\n",
       "      <td>486.413</td>\n",
       "    </tr>\n",
       "    <tr>\n",
       "      <th>4</th>\n",
       "      <td>4</td>\n",
       "      <td>1.714</td>\n",
       "      <td>6.0</td>\n",
       "      <td>8.0</td>\n",
       "      <td>7.0</td>\n",
       "      <td>27.0</td>\n",
       "      <td>33.0</td>\n",
       "      <td>29.0</td>\n",
       "      <td>24.0</td>\n",
       "      <td>19.0</td>\n",
       "      <td>...</td>\n",
       "      <td>27.0</td>\n",
       "      <td>14.0</td>\n",
       "      <td>34.0</td>\n",
       "      <td>19.0</td>\n",
       "      <td>21.0</td>\n",
       "      <td>17.0</td>\n",
       "      <td>3.029</td>\n",
       "      <td>3.500000</td>\n",
       "      <td>4.0</td>\n",
       "      <td>324.165</td>\n",
       "    </tr>\n",
       "  </tbody>\n",
       "</table>\n",
       "<p>5 rows × 29 columns</p>\n",
       "</div>"
      ],
      "text/plain": [
       "   uid  avg_bt  phq-9_pre  phq-9_post  phq-9_avg  fl_pre  fl_post  big5-o_pre  \\\n",
       "0    0   3.738        2.0         3.0        2.5     NaN     45.0        45.0   \n",
       "1    1   1.851        5.0         4.0        4.5    45.0     46.0        39.0   \n",
       "2    2   2.653       13.0         5.0        9.0    46.0     44.0        32.0   \n",
       "3    3   1.011        2.0         4.0        3.0    34.0     31.0        27.0   \n",
       "4    4   1.714        6.0         8.0        7.0    27.0     33.0        29.0   \n",
       "\n",
       "   big5-c_pre  big5-e_pre  ...  panas-pos_pre  panas-neg_pre  panas-pos_post  \\\n",
       "0        27.0        30.0  ...           32.0           33.0            31.0   \n",
       "1        40.0        25.0  ...           30.0           19.0            27.0   \n",
       "2        38.0        17.0  ...           23.0           15.0            28.0   \n",
       "3        35.0        17.0  ...           30.0           27.0            25.0   \n",
       "4        24.0        19.0  ...           27.0           14.0            34.0   \n",
       "\n",
       "   panas-neg_post  pss_pre  pss_post  gpa_all   gpa_13s  cs_65  avg_dist  \n",
       "0            24.0     24.0      15.0      NaN       NaN    NaN   808.349  \n",
       "1            17.0     15.0      16.0    2.863  1.777778    3.0  1505.468  \n",
       "2            13.0     21.0      25.0    3.505  4.000000    4.0   852.401  \n",
       "3            20.0     17.0      24.0      NaN       NaN    NaN   486.413  \n",
       "4            19.0     21.0      17.0    3.029  3.500000    4.0   324.165  \n",
       "\n",
       "[5 rows x 29 columns]"
      ]
     },
     "execution_count": 94,
     "metadata": {},
     "output_type": "execute_result"
    }
   ],
   "source": [
    "# merge distance & rest data(df) \n",
    "df = pd.merge(df, distance, how='outer').sort_values(by='uid').reset_index(drop=True)\n",
    "df.head()"
   ]
  },
  {
   "cell_type": "code",
   "execution_count": 95,
   "metadata": {},
   "outputs": [],
   "source": [
    "dist_phq_valid = df[['uid', 'phq-9_pre', 'phq-9_post', 'avg_dist']].dropna()"
   ]
  },
  {
   "cell_type": "code",
   "execution_count": 96,
   "metadata": {},
   "outputs": [],
   "source": [
    "r, p = scipy.stats.pearsonr(dist_phq_valid['avg_dist'], dist_phq_valid['phq-9_pre'])"
   ]
  },
  {
   "cell_type": "code",
   "execution_count": 97,
   "metadata": {},
   "outputs": [
    {
     "data": {
      "text/plain": [
       "(0.18690340540897224, 0.26118338584346895)"
      ]
     },
     "execution_count": 97,
     "metadata": {},
     "output_type": "execute_result"
    }
   ],
   "source": [
    "r, p  # not significant"
   ]
  },
  {
   "cell_type": "code",
   "execution_count": 98,
   "metadata": {},
   "outputs": [],
   "source": [
    "r, p = scipy.stats.pearsonr(dist_phq_valid['avg_dist'], dist_phq_valid['phq-9_post'])"
   ]
  },
  {
   "cell_type": "code",
   "execution_count": 99,
   "metadata": {},
   "outputs": [
    {
     "data": {
      "text/plain": [
       "(0.25596673836067985, 0.12086699622601683)"
      ]
     },
     "execution_count": 99,
     "metadata": {},
     "output_type": "execute_result"
    }
   ],
   "source": [
    "r, p  # not significant"
   ]
  },
  {
   "cell_type": "markdown",
   "metadata": {},
   "source": [
    "#### 1.2) travel distance + flourishing\n",
    "not significant"
   ]
  },
  {
   "cell_type": "code",
   "execution_count": 100,
   "metadata": {},
   "outputs": [],
   "source": [
    "dist_fl_valid = df[['uid', 'fl_pre', 'fl_post', 'avg_dist']].dropna()"
   ]
  },
  {
   "cell_type": "code",
   "execution_count": 101,
   "metadata": {},
   "outputs": [],
   "source": [
    "r, p = scipy.stats.pearsonr(dist_fl_valid['avg_dist'], dist_fl_valid['fl_pre'])"
   ]
  },
  {
   "cell_type": "code",
   "execution_count": 102,
   "metadata": {},
   "outputs": [
    {
     "data": {
      "text/plain": [
       "(0.009968018819220317, 0.9553814141300503)"
      ]
     },
     "execution_count": 102,
     "metadata": {},
     "output_type": "execute_result"
    }
   ],
   "source": [
    "r, p  # not significant"
   ]
  },
  {
   "cell_type": "code",
   "execution_count": 103,
   "metadata": {},
   "outputs": [],
   "source": [
    "r, p = scipy.stats.pearsonr(dist_fl_valid['avg_dist'], dist_fl_valid['fl_post'])"
   ]
  },
  {
   "cell_type": "code",
   "execution_count": 104,
   "metadata": {},
   "outputs": [
    {
     "data": {
      "text/plain": [
       "(-0.00029740507624985386, 0.9986681023228025)"
      ]
     },
     "execution_count": 104,
     "metadata": {},
     "output_type": "execute_result"
    }
   ],
   "source": [
    "r, p  # not significant"
   ]
  },
  {
   "cell_type": "markdown",
   "metadata": {},
   "source": [
    "#### 1.3) travel distance + loneliness\n",
    "not significant"
   ]
  },
  {
   "cell_type": "code",
   "execution_count": 105,
   "metadata": {},
   "outputs": [],
   "source": [
    "dist_lon_valid = df[['uid', 'lon_pre', 'lon_post', 'avg_dist']].dropna()"
   ]
  },
  {
   "cell_type": "code",
   "execution_count": 106,
   "metadata": {},
   "outputs": [
    {
     "data": {
      "text/plain": [
       "(0.15041390881683792, 0.37421819047735805)"
      ]
     },
     "execution_count": 106,
     "metadata": {},
     "output_type": "execute_result"
    }
   ],
   "source": [
    "r, p = scipy.stats.pearsonr(dist_lon_valid['avg_dist'], dist_lon_valid['lon_pre'])\n",
    "r, p"
   ]
  },
  {
   "cell_type": "code",
   "execution_count": 107,
   "metadata": {},
   "outputs": [
    {
     "data": {
      "text/plain": [
       "(-0.10697465810834877, 0.528576742797115)"
      ]
     },
     "execution_count": 107,
     "metadata": {},
     "output_type": "execute_result"
    }
   ],
   "source": [
    "r, p = scipy.stats.pearsonr(dist_lon_valid['avg_dist'], dist_lon_valid['lon_post'])\n",
    "r, p"
   ]
  },
  {
   "cell_type": "code",
   "execution_count": null,
   "metadata": {},
   "outputs": [],
   "source": []
  },
  {
   "cell_type": "markdown",
   "metadata": {},
   "source": [
    "#### 1.4) travel distance + PANAS\n",
    "not significant"
   ]
  },
  {
   "cell_type": "code",
   "execution_count": 108,
   "metadata": {},
   "outputs": [],
   "source": [
    "dist_panas_valid = df[['uid', 'panas-pos_pre', 'panas-neg_pre', 'panas-pos_post', 'panas-neg_post', 'avg_dist']].dropna()"
   ]
  },
  {
   "cell_type": "code",
   "execution_count": 109,
   "metadata": {},
   "outputs": [
    {
     "data": {
      "text/plain": [
       "(0.15233463097629046, 0.3612272824354882)"
      ]
     },
     "execution_count": 109,
     "metadata": {},
     "output_type": "execute_result"
    }
   ],
   "source": [
    "r, p = scipy.stats.pearsonr(dist_panas_valid['avg_dist'], dist_panas_valid['panas-pos_pre'])\n",
    "r, p"
   ]
  },
  {
   "cell_type": "code",
   "execution_count": 110,
   "metadata": {},
   "outputs": [
    {
     "data": {
      "text/plain": [
       "(0.10915822199166697, 0.5141611469406951)"
      ]
     },
     "execution_count": 110,
     "metadata": {},
     "output_type": "execute_result"
    }
   ],
   "source": [
    "r, p = scipy.stats.pearsonr(dist_panas_valid['avg_dist'], dist_panas_valid['panas-neg_pre'])\n",
    "r, p"
   ]
  },
  {
   "cell_type": "code",
   "execution_count": 111,
   "metadata": {},
   "outputs": [
    {
     "data": {
      "text/plain": [
       "(-0.1085267094993062, 0.516612868923303)"
      ]
     },
     "execution_count": 111,
     "metadata": {},
     "output_type": "execute_result"
    }
   ],
   "source": [
    "r, p = scipy.stats.pearsonr(dist_panas_valid['avg_dist'], dist_panas_valid['panas-pos_post'])\n",
    "r, p"
   ]
  },
  {
   "cell_type": "code",
   "execution_count": 112,
   "metadata": {},
   "outputs": [
    {
     "data": {
      "text/plain": [
       "(0.07669002515768457, 0.6472169759365486)"
      ]
     },
     "execution_count": 112,
     "metadata": {},
     "output_type": "execute_result"
    }
   ],
   "source": [
    "r, p = scipy.stats.pearsonr(dist_panas_valid['avg_dist'], dist_panas_valid['panas-neg_post'])\n",
    "r, p"
   ]
  },
  {
   "cell_type": "code",
   "execution_count": null,
   "metadata": {},
   "outputs": [],
   "source": []
  },
  {
   "cell_type": "markdown",
   "metadata": {},
   "source": [
    "#### 1.5) travel distance + stress\n",
    "not significant"
   ]
  },
  {
   "cell_type": "code",
   "execution_count": 113,
   "metadata": {},
   "outputs": [],
   "source": [
    "dist_pss_valid = df[['uid', 'pss_pre', 'pss_post', 'avg_dist']].dropna()"
   ]
  },
  {
   "cell_type": "code",
   "execution_count": 114,
   "metadata": {},
   "outputs": [
    {
     "data": {
      "text/plain": [
       "(0.17464816982410478, 0.28760454249881445)"
      ]
     },
     "execution_count": 114,
     "metadata": {},
     "output_type": "execute_result"
    }
   ],
   "source": [
    "r, p = scipy.stats.pearsonr(dist_pss_valid['avg_dist'], dist_pss_valid['pss_pre'])\n",
    "r, p"
   ]
  },
  {
   "cell_type": "code",
   "execution_count": 115,
   "metadata": {},
   "outputs": [
    {
     "data": {
      "text/plain": [
       "(0.07176297987394019, 0.6641874423248492)"
      ]
     },
     "execution_count": 115,
     "metadata": {},
     "output_type": "execute_result"
    }
   ],
   "source": [
    "r, p = scipy.stats.pearsonr(dist_pss_valid['avg_dist'], dist_pss_valid['pss_post'])\n",
    "r, p"
   ]
  },
  {
   "cell_type": "code",
   "execution_count": null,
   "metadata": {},
   "outputs": [],
   "source": []
  },
  {
   "cell_type": "markdown",
   "metadata": {},
   "source": [
    "#### 1.6) travel distance + big five\n",
    "not significant"
   ]
  },
  {
   "cell_type": "code",
   "execution_count": 116,
   "metadata": {},
   "outputs": [],
   "source": [
    "dist_big5_valid = df[['uid', 'big5-o_pre', 'big5-c_pre', \n",
    "                              'big5-e_pre', 'big5-a_pre', \n",
    "                              'big5-n_pre', 'big5-o_post', \n",
    "                              'big5-c_post', 'big5-e_post', \n",
    "                              'big5-a_post', 'big5-n_post', 'avg_dist']].dropna()"
   ]
  },
  {
   "cell_type": "code",
   "execution_count": 117,
   "metadata": {},
   "outputs": [
    {
     "data": {
      "text/plain": [
       "(0.07625183263723082, 0.6491025323560117)"
      ]
     },
     "execution_count": 117,
     "metadata": {},
     "output_type": "execute_result"
    }
   ],
   "source": [
    "r, p = scipy.stats.pearsonr(dist_big5_valid['avg_dist'], dist_big5_valid['big5-o_pre'])\n",
    "r, p"
   ]
  },
  {
   "cell_type": "code",
   "execution_count": 118,
   "metadata": {},
   "outputs": [
    {
     "data": {
      "text/plain": [
       "(-0.08193469802976337, 0.6248198925993775)"
      ]
     },
     "execution_count": 118,
     "metadata": {},
     "output_type": "execute_result"
    }
   ],
   "source": [
    "r, p = scipy.stats.pearsonr(dist_big5_valid['avg_dist'], dist_big5_valid['big5-c_pre'])\n",
    "r, p"
   ]
  },
  {
   "cell_type": "code",
   "execution_count": 119,
   "metadata": {},
   "outputs": [
    {
     "data": {
      "text/plain": [
       "(-0.06576519914503444, 0.6948465233078931)"
      ]
     },
     "execution_count": 119,
     "metadata": {},
     "output_type": "execute_result"
    }
   ],
   "source": [
    "r, p = scipy.stats.pearsonr(dist_big5_valid['avg_dist'], dist_big5_valid['big5-e_pre'])\n",
    "r, p"
   ]
  },
  {
   "cell_type": "code",
   "execution_count": 120,
   "metadata": {},
   "outputs": [
    {
     "data": {
      "text/plain": [
       "(0.09270929214477643, 0.5798511970052201)"
      ]
     },
     "execution_count": 120,
     "metadata": {},
     "output_type": "execute_result"
    }
   ],
   "source": [
    "r, p = scipy.stats.pearsonr(dist_big5_valid['avg_dist'], dist_big5_valid['big5-a_pre'])\n",
    "r, p"
   ]
  },
  {
   "cell_type": "code",
   "execution_count": 121,
   "metadata": {},
   "outputs": [
    {
     "data": {
      "text/plain": [
       "(0.23844009994505103, 0.14940647142893917)"
      ]
     },
     "execution_count": 121,
     "metadata": {},
     "output_type": "execute_result"
    }
   ],
   "source": [
    "r, p = scipy.stats.pearsonr(dist_big5_valid['avg_dist'], dist_big5_valid['big5-n_pre'])\n",
    "r, p"
   ]
  },
  {
   "cell_type": "code",
   "execution_count": 122,
   "metadata": {},
   "outputs": [
    {
     "data": {
      "text/plain": [
       "(-0.008708007953332124, 0.9586183318186406)"
      ]
     },
     "execution_count": 122,
     "metadata": {},
     "output_type": "execute_result"
    }
   ],
   "source": [
    "r, p = scipy.stats.pearsonr(dist_big5_valid['avg_dist'], dist_big5_valid['big5-o_post'])\n",
    "r, p"
   ]
  },
  {
   "cell_type": "code",
   "execution_count": 123,
   "metadata": {},
   "outputs": [
    {
     "data": {
      "text/plain": [
       "(-0.03157563296161746, 0.8507277873337585)"
      ]
     },
     "execution_count": 123,
     "metadata": {},
     "output_type": "execute_result"
    }
   ],
   "source": [
    "r, p = scipy.stats.pearsonr(dist_big5_valid['avg_dist'], dist_big5_valid['big5-c_post'])\n",
    "r, p"
   ]
  },
  {
   "cell_type": "code",
   "execution_count": 124,
   "metadata": {},
   "outputs": [
    {
     "data": {
      "text/plain": [
       "(-0.08273878860676318, 0.6214145713298656)"
      ]
     },
     "execution_count": 124,
     "metadata": {},
     "output_type": "execute_result"
    }
   ],
   "source": [
    "r, p = scipy.stats.pearsonr(dist_big5_valid['avg_dist'], dist_big5_valid['big5-e_post'])\n",
    "r, p"
   ]
  },
  {
   "cell_type": "code",
   "execution_count": 125,
   "metadata": {},
   "outputs": [
    {
     "data": {
      "text/plain": [
       "(-0.0008203149458989804, 0.9961000886617819)"
      ]
     },
     "execution_count": 125,
     "metadata": {},
     "output_type": "execute_result"
    }
   ],
   "source": [
    "r, p = scipy.stats.pearsonr(dist_big5_valid['avg_dist'], dist_big5_valid['big5-a_post'])\n",
    "r, p"
   ]
  },
  {
   "cell_type": "code",
   "execution_count": 126,
   "metadata": {},
   "outputs": [
    {
     "data": {
      "text/plain": [
       "(0.28393527316911915, 0.08406318087171535)"
      ]
     },
     "execution_count": 126,
     "metadata": {},
     "output_type": "execute_result"
    }
   ],
   "source": [
    "r, p = scipy.stats.pearsonr(dist_big5_valid['avg_dist'], dist_big5_valid['big5-n_post'])\n",
    "r, p"
   ]
  },
  {
   "cell_type": "markdown",
   "metadata": {},
   "source": [
    "#### 1.7) travel distance + gpa\n",
    "spring GPA & CS65 GPA가 significant"
   ]
  },
  {
   "cell_type": "code",
   "execution_count": 127,
   "metadata": {},
   "outputs": [],
   "source": [
    "dist_gpa_valid = df[['uid', 'gpa_all', 'gpa_13s', 'cs_65', 'avg_dist']].dropna()"
   ]
  },
  {
   "cell_type": "code",
   "execution_count": 128,
   "metadata": {},
   "outputs": [
    {
     "data": {
      "text/plain": [
       "(-0.3118826617928208, 0.09338406039192966)"
      ]
     },
     "execution_count": 128,
     "metadata": {},
     "output_type": "execute_result"
    }
   ],
   "source": [
    "r, p = scipy.stats.pearsonr(dist_gpa_valid['avg_dist'], dist_gpa_valid['gpa_all'])\n",
    "r, p"
   ]
  },
  {
   "cell_type": "code",
   "execution_count": 129,
   "metadata": {},
   "outputs": [
    {
     "data": {
      "text/plain": [
       "(-0.5158971935134622, 0.0035217739063246375)"
      ]
     },
     "execution_count": 129,
     "metadata": {},
     "output_type": "execute_result"
    }
   ],
   "source": [
    "r, p = scipy.stats.pearsonr(dist_gpa_valid['avg_dist'], dist_gpa_valid['gpa_13s'])\n",
    "r, p  # significant"
   ]
  },
  {
   "cell_type": "code",
   "execution_count": 130,
   "metadata": {},
   "outputs": [
    {
     "data": {
      "text/plain": [
       "(-0.5152207480811889, 0.0035727605170424765)"
      ]
     },
     "execution_count": 130,
     "metadata": {},
     "output_type": "execute_result"
    }
   ],
   "source": [
    "r, p = scipy.stats.pearsonr(dist_gpa_valid['avg_dist'], dist_gpa_valid['cs_65'])\n",
    "r, p  #significant"
   ]
  },
  {
   "cell_type": "code",
   "execution_count": 131,
   "metadata": {},
   "outputs": [],
   "source": [
    "# save significant associations in a dataframe (-> export as csv file)\n",
    "sig_arr = [['avg_dist', 'gpa_13s', -0.516, 0.004]]\n",
    "sig_corr = sig_corr.append(pd.DataFrame(sig_arr, columns=['sig1', 'sig2', 'r', 'p']))\n",
    "sig_corr.to_csv('sig_corr.csv')"
   ]
  },
  {
   "cell_type": "code",
   "execution_count": 132,
   "metadata": {},
   "outputs": [],
   "source": [
    "# save significant associations in a dataframe (-> export as csv file)\n",
    "sig_arr = [['avg_dist', 'cs_65', -0.515, 0.004]]\n",
    "sig_corr = sig_corr.append(pd.DataFrame(sig_arr, columns=['sig1', 'sig2', 'r', 'p']))\n",
    "sig_corr.to_csv('sig_corr.csv')"
   ]
  },
  {
   "cell_type": "code",
   "execution_count": null,
   "metadata": {},
   "outputs": [],
   "source": []
  },
  {
   "cell_type": "markdown",
   "metadata": {},
   "source": [
    "### 2) Number of locations visited\n",
    "using DBSCAN\n",
    "\n",
    "location detected when 3 GPS samples (1 sample every 10 minutes) are within a radius of 30 meters"
   ]
  },
  {
   "cell_type": "markdown",
   "metadata": {},
   "source": [
    "#### visit same place twice -> counted as 2\n",
    "--> 하루에 얼마나 돌아다니냐"
   ]
  },
  {
   "cell_type": "code",
   "execution_count": 133,
   "metadata": {},
   "outputs": [],
   "source": [
    "from sklearn.cluster import DBSCAN\n",
    "import matplotlib.pyplot as plt\n",
    "import seaborn as sns"
   ]
  },
  {
   "cell_type": "code",
   "execution_count": 134,
   "metadata": {},
   "outputs": [],
   "source": [
    "# for uid in gps_data:\n",
    "#     for index in gps_data[uid].index:\n",
    "        \n",
    "\n",
    "# model = "
   ]
  },
  {
   "cell_type": "code",
   "execution_count": null,
   "metadata": {},
   "outputs": [],
   "source": []
  },
  {
   "cell_type": "code",
   "execution_count": null,
   "metadata": {},
   "outputs": [],
   "source": []
  },
  {
   "cell_type": "markdown",
   "metadata": {},
   "source": [
    "#### visit same place twice -> counted as 1\n",
    "--> 얼마나 다양한 장소를 가냐"
   ]
  },
  {
   "cell_type": "code",
   "execution_count": 135,
   "metadata": {},
   "outputs": [],
   "source": [
    "# modified from original source\n",
    "# https://yidatao.github.io/2016-12-23/geolife-dbscan/\n",
    "\n",
    "clusters = {}\n",
    "for uid in gps_data:\n",
    "    # represent GPS points as (lat, lon)\n",
    "    coords = gps_data[uid][['latitude', 'longitude']].dropna()\n",
    "    # earth's radius in km\n",
    "    kms_per_radian = 6371.0088\n",
    "    # define epsilon as 0.03 kilometers, converted to radians for use by haversine\n",
    "    epsilon = 0.03 / kms_per_radian\n",
    "\n",
    "    # eps is the max distance that points can be from each other to be considered in a cluster\n",
    "    # min_samples is the minimum cluster size (everything else is classified as noise)\n",
    "    db = DBSCAN(eps=epsilon, min_samples=3, algorithm='ball_tree', metric='haversine').fit(np.radians(coords))\n",
    "    cluster_labels = db.labels_\n",
    "    # get the number of clusters (ignore noisy samples which are given the label -1)\n",
    "    num_clusters = len(set(cluster_labels) - set([-1]))\n",
    "\n",
    "#     print ('Clustered ' + str(len(gps_data[uid])) + ' points to ' + str(num_clusters) + ' clusters')\n",
    "    clusters[uid] = [uid, num_clusters]\n",
    "    \n",
    "locations = pd.DataFrame.from_dict(clusters, columns = ['uid', 'locations'], orient='index')\n"
   ]
  },
  {
   "cell_type": "code",
   "execution_count": 136,
   "metadata": {},
   "outputs": [
    {
     "data": {
      "text/html": [
       "<div>\n",
       "<style scoped>\n",
       "    .dataframe tbody tr th:only-of-type {\n",
       "        vertical-align: middle;\n",
       "    }\n",
       "\n",
       "    .dataframe tbody tr th {\n",
       "        vertical-align: top;\n",
       "    }\n",
       "\n",
       "    .dataframe thead th {\n",
       "        text-align: right;\n",
       "    }\n",
       "</style>\n",
       "<table border=\"1\" class=\"dataframe\">\n",
       "  <thead>\n",
       "    <tr style=\"text-align: right;\">\n",
       "      <th></th>\n",
       "      <th>uid</th>\n",
       "      <th>locations</th>\n",
       "    </tr>\n",
       "  </thead>\n",
       "  <tbody>\n",
       "    <tr>\n",
       "      <th>0</th>\n",
       "      <td>0</td>\n",
       "      <td>67</td>\n",
       "    </tr>\n",
       "    <tr>\n",
       "      <th>1</th>\n",
       "      <td>1</td>\n",
       "      <td>21</td>\n",
       "    </tr>\n",
       "    <tr>\n",
       "      <th>2</th>\n",
       "      <td>2</td>\n",
       "      <td>31</td>\n",
       "    </tr>\n",
       "    <tr>\n",
       "      <th>3</th>\n",
       "      <td>3</td>\n",
       "      <td>4</td>\n",
       "    </tr>\n",
       "    <tr>\n",
       "      <th>4</th>\n",
       "      <td>4</td>\n",
       "      <td>20</td>\n",
       "    </tr>\n",
       "  </tbody>\n",
       "</table>\n",
       "</div>"
      ],
      "text/plain": [
       "   uid  locations\n",
       "0    0         67\n",
       "1    1         21\n",
       "2    2         31\n",
       "3    3          4\n",
       "4    4         20"
      ]
     },
     "execution_count": 136,
     "metadata": {},
     "output_type": "execute_result"
    }
   ],
   "source": [
    "locations = locations.sort_values(by='uid').reset_index(drop=True)\n",
    "locations.head()"
   ]
  },
  {
   "cell_type": "code",
   "execution_count": 137,
   "metadata": {},
   "outputs": [
    {
     "data": {
      "text/html": [
       "<div>\n",
       "<style scoped>\n",
       "    .dataframe tbody tr th:only-of-type {\n",
       "        vertical-align: middle;\n",
       "    }\n",
       "\n",
       "    .dataframe tbody tr th {\n",
       "        vertical-align: top;\n",
       "    }\n",
       "\n",
       "    .dataframe thead th {\n",
       "        text-align: right;\n",
       "    }\n",
       "</style>\n",
       "<table border=\"1\" class=\"dataframe\">\n",
       "  <thead>\n",
       "    <tr style=\"text-align: right;\">\n",
       "      <th></th>\n",
       "      <th>uid</th>\n",
       "      <th>avg_bt</th>\n",
       "      <th>phq-9_pre</th>\n",
       "      <th>phq-9_post</th>\n",
       "      <th>phq-9_avg</th>\n",
       "      <th>fl_pre</th>\n",
       "      <th>fl_post</th>\n",
       "      <th>big5-o_pre</th>\n",
       "      <th>big5-c_pre</th>\n",
       "      <th>big5-e_pre</th>\n",
       "      <th>...</th>\n",
       "      <th>panas-neg_pre</th>\n",
       "      <th>panas-pos_post</th>\n",
       "      <th>panas-neg_post</th>\n",
       "      <th>pss_pre</th>\n",
       "      <th>pss_post</th>\n",
       "      <th>gpa_all</th>\n",
       "      <th>gpa_13s</th>\n",
       "      <th>cs_65</th>\n",
       "      <th>avg_dist</th>\n",
       "      <th>locations</th>\n",
       "    </tr>\n",
       "  </thead>\n",
       "  <tbody>\n",
       "    <tr>\n",
       "      <th>0</th>\n",
       "      <td>0</td>\n",
       "      <td>3.738</td>\n",
       "      <td>2.0</td>\n",
       "      <td>3.0</td>\n",
       "      <td>2.5</td>\n",
       "      <td>NaN</td>\n",
       "      <td>45.0</td>\n",
       "      <td>45.0</td>\n",
       "      <td>27.0</td>\n",
       "      <td>30.0</td>\n",
       "      <td>...</td>\n",
       "      <td>33.0</td>\n",
       "      <td>31.0</td>\n",
       "      <td>24.0</td>\n",
       "      <td>24.0</td>\n",
       "      <td>15.0</td>\n",
       "      <td>NaN</td>\n",
       "      <td>NaN</td>\n",
       "      <td>NaN</td>\n",
       "      <td>808.349</td>\n",
       "      <td>67</td>\n",
       "    </tr>\n",
       "    <tr>\n",
       "      <th>1</th>\n",
       "      <td>1</td>\n",
       "      <td>1.851</td>\n",
       "      <td>5.0</td>\n",
       "      <td>4.0</td>\n",
       "      <td>4.5</td>\n",
       "      <td>45.0</td>\n",
       "      <td>46.0</td>\n",
       "      <td>39.0</td>\n",
       "      <td>40.0</td>\n",
       "      <td>25.0</td>\n",
       "      <td>...</td>\n",
       "      <td>19.0</td>\n",
       "      <td>27.0</td>\n",
       "      <td>17.0</td>\n",
       "      <td>15.0</td>\n",
       "      <td>16.0</td>\n",
       "      <td>2.863</td>\n",
       "      <td>1.777778</td>\n",
       "      <td>3.0</td>\n",
       "      <td>1505.468</td>\n",
       "      <td>21</td>\n",
       "    </tr>\n",
       "    <tr>\n",
       "      <th>2</th>\n",
       "      <td>2</td>\n",
       "      <td>2.653</td>\n",
       "      <td>13.0</td>\n",
       "      <td>5.0</td>\n",
       "      <td>9.0</td>\n",
       "      <td>46.0</td>\n",
       "      <td>44.0</td>\n",
       "      <td>32.0</td>\n",
       "      <td>38.0</td>\n",
       "      <td>17.0</td>\n",
       "      <td>...</td>\n",
       "      <td>15.0</td>\n",
       "      <td>28.0</td>\n",
       "      <td>13.0</td>\n",
       "      <td>21.0</td>\n",
       "      <td>25.0</td>\n",
       "      <td>3.505</td>\n",
       "      <td>4.000000</td>\n",
       "      <td>4.0</td>\n",
       "      <td>852.401</td>\n",
       "      <td>31</td>\n",
       "    </tr>\n",
       "    <tr>\n",
       "      <th>3</th>\n",
       "      <td>3</td>\n",
       "      <td>1.011</td>\n",
       "      <td>2.0</td>\n",
       "      <td>4.0</td>\n",
       "      <td>3.0</td>\n",
       "      <td>34.0</td>\n",
       "      <td>31.0</td>\n",
       "      <td>27.0</td>\n",
       "      <td>35.0</td>\n",
       "      <td>17.0</td>\n",
       "      <td>...</td>\n",
       "      <td>27.0</td>\n",
       "      <td>25.0</td>\n",
       "      <td>20.0</td>\n",
       "      <td>17.0</td>\n",
       "      <td>24.0</td>\n",
       "      <td>NaN</td>\n",
       "      <td>NaN</td>\n",
       "      <td>NaN</td>\n",
       "      <td>486.413</td>\n",
       "      <td>4</td>\n",
       "    </tr>\n",
       "    <tr>\n",
       "      <th>4</th>\n",
       "      <td>4</td>\n",
       "      <td>1.714</td>\n",
       "      <td>6.0</td>\n",
       "      <td>8.0</td>\n",
       "      <td>7.0</td>\n",
       "      <td>27.0</td>\n",
       "      <td>33.0</td>\n",
       "      <td>29.0</td>\n",
       "      <td>24.0</td>\n",
       "      <td>19.0</td>\n",
       "      <td>...</td>\n",
       "      <td>14.0</td>\n",
       "      <td>34.0</td>\n",
       "      <td>19.0</td>\n",
       "      <td>21.0</td>\n",
       "      <td>17.0</td>\n",
       "      <td>3.029</td>\n",
       "      <td>3.500000</td>\n",
       "      <td>4.0</td>\n",
       "      <td>324.165</td>\n",
       "      <td>20</td>\n",
       "    </tr>\n",
       "  </tbody>\n",
       "</table>\n",
       "<p>5 rows × 30 columns</p>\n",
       "</div>"
      ],
      "text/plain": [
       "   uid  avg_bt  phq-9_pre  phq-9_post  phq-9_avg  fl_pre  fl_post  big5-o_pre  \\\n",
       "0    0   3.738        2.0         3.0        2.5     NaN     45.0        45.0   \n",
       "1    1   1.851        5.0         4.0        4.5    45.0     46.0        39.0   \n",
       "2    2   2.653       13.0         5.0        9.0    46.0     44.0        32.0   \n",
       "3    3   1.011        2.0         4.0        3.0    34.0     31.0        27.0   \n",
       "4    4   1.714        6.0         8.0        7.0    27.0     33.0        29.0   \n",
       "\n",
       "   big5-c_pre  big5-e_pre  ...  panas-neg_pre  panas-pos_post  panas-neg_post  \\\n",
       "0        27.0        30.0  ...           33.0            31.0            24.0   \n",
       "1        40.0        25.0  ...           19.0            27.0            17.0   \n",
       "2        38.0        17.0  ...           15.0            28.0            13.0   \n",
       "3        35.0        17.0  ...           27.0            25.0            20.0   \n",
       "4        24.0        19.0  ...           14.0            34.0            19.0   \n",
       "\n",
       "   pss_pre  pss_post  gpa_all   gpa_13s  cs_65  avg_dist  locations  \n",
       "0     24.0      15.0      NaN       NaN    NaN   808.349         67  \n",
       "1     15.0      16.0    2.863  1.777778    3.0  1505.468         21  \n",
       "2     21.0      25.0    3.505  4.000000    4.0   852.401         31  \n",
       "3     17.0      24.0      NaN       NaN    NaN   486.413          4  \n",
       "4     21.0      17.0    3.029  3.500000    4.0   324.165         20  \n",
       "\n",
       "[5 rows x 30 columns]"
      ]
     },
     "execution_count": 137,
     "metadata": {},
     "output_type": "execute_result"
    }
   ],
   "source": [
    "# merge\n",
    "df = pd.merge(df, locations, how='outer').sort_values(by='uid').reset_index(drop=True)\n",
    "df.head()"
   ]
  },
  {
   "cell_type": "markdown",
   "metadata": {},
   "source": [
    "#### 2.1) locations + phq\n",
    "post만 significant (r = -0.335, 0,040)"
   ]
  },
  {
   "cell_type": "code",
   "execution_count": 138,
   "metadata": {},
   "outputs": [],
   "source": [
    "loc_phq_valid = df[['uid', 'locations', 'phq-9_pre', 'phq-9_post']].dropna()"
   ]
  },
  {
   "cell_type": "code",
   "execution_count": 139,
   "metadata": {},
   "outputs": [
    {
     "data": {
      "text/plain": [
       "(-0.25032822668774446, 0.12956249983214757)"
      ]
     },
     "execution_count": 139,
     "metadata": {},
     "output_type": "execute_result"
    }
   ],
   "source": [
    "r, p = scipy.stats.pearsonr(loc_phq_valid['locations'], loc_phq_valid['phq-9_pre'])\n",
    "r, p"
   ]
  },
  {
   "cell_type": "code",
   "execution_count": 140,
   "metadata": {},
   "outputs": [
    {
     "data": {
      "text/plain": [
       "(-0.334646076248185, 0.04001281634296382)"
      ]
     },
     "execution_count": 140,
     "metadata": {},
     "output_type": "execute_result"
    }
   ],
   "source": [
    "r, p = scipy.stats.pearsonr(loc_phq_valid['locations'], loc_phq_valid['phq-9_post'])\n",
    "r, p  # significant"
   ]
  },
  {
   "cell_type": "code",
   "execution_count": 141,
   "metadata": {},
   "outputs": [],
   "source": [
    "# save significant associations in a dataframe (-> export as csv file)\n",
    "sig_arr = [['locations', 'phq-9_post', -0.335, 0.040]]\n",
    "sig_corr = sig_corr.append(pd.DataFrame(sig_arr, columns=['sig1', 'sig2', 'r', 'p']))\n",
    "sig_corr.to_csv('sig_corr.csv')"
   ]
  },
  {
   "cell_type": "code",
   "execution_count": null,
   "metadata": {},
   "outputs": [],
   "source": []
  },
  {
   "cell_type": "markdown",
   "metadata": {},
   "source": [
    "#### 2.2) locations + flourishing\n",
    "not significant"
   ]
  },
  {
   "cell_type": "code",
   "execution_count": 142,
   "metadata": {},
   "outputs": [],
   "source": [
    "loc_fl_valid = df[['uid', 'locations', 'fl_pre', 'fl_post']].dropna()"
   ]
  },
  {
   "cell_type": "code",
   "execution_count": 143,
   "metadata": {},
   "outputs": [
    {
     "data": {
      "text/plain": [
       "(0.254445484358243, 0.1464489692646061)"
      ]
     },
     "execution_count": 143,
     "metadata": {},
     "output_type": "execute_result"
    }
   ],
   "source": [
    "r, p = scipy.stats.pearsonr(loc_fl_valid['locations'], loc_fl_valid['fl_pre'])\n",
    "r, p"
   ]
  },
  {
   "cell_type": "code",
   "execution_count": 144,
   "metadata": {},
   "outputs": [
    {
     "data": {
      "text/plain": [
       "(0.3080406392683191, 0.07633351680756804)"
      ]
     },
     "execution_count": 144,
     "metadata": {},
     "output_type": "execute_result"
    }
   ],
   "source": [
    "r, p = scipy.stats.pearsonr(loc_fl_valid['locations'], loc_fl_valid['fl_post'])\n",
    "r, p"
   ]
  },
  {
   "cell_type": "markdown",
   "metadata": {},
   "source": [
    "#### 2.3) locations + loneliness\n",
    "not significant"
   ]
  },
  {
   "cell_type": "code",
   "execution_count": 145,
   "metadata": {},
   "outputs": [],
   "source": [
    "loc_lon_valid = df[['uid', 'locations', 'lon_pre', 'lon_post']].dropna()"
   ]
  },
  {
   "cell_type": "code",
   "execution_count": 146,
   "metadata": {},
   "outputs": [
    {
     "data": {
      "text/plain": [
       "(-0.29426610440446854, 0.07707880519849686)"
      ]
     },
     "execution_count": 146,
     "metadata": {},
     "output_type": "execute_result"
    }
   ],
   "source": [
    "r, p = scipy.stats.pearsonr(loc_lon_valid['locations'], loc_lon_valid['lon_pre'])\n",
    "r, p"
   ]
  },
  {
   "cell_type": "code",
   "execution_count": 147,
   "metadata": {},
   "outputs": [
    {
     "data": {
      "text/plain": [
       "(-0.16090761509865928, 0.34140738420296435)"
      ]
     },
     "execution_count": 147,
     "metadata": {},
     "output_type": "execute_result"
    }
   ],
   "source": [
    "r, p = scipy.stats.pearsonr(loc_lon_valid['locations'], loc_lon_valid['lon_post'])\n",
    "r, p"
   ]
  },
  {
   "cell_type": "code",
   "execution_count": null,
   "metadata": {},
   "outputs": [],
   "source": []
  },
  {
   "cell_type": "markdown",
   "metadata": {},
   "source": [
    "#### 2.4) locations + PANAS\n",
    "not significant"
   ]
  },
  {
   "cell_type": "code",
   "execution_count": 148,
   "metadata": {},
   "outputs": [],
   "source": [
    "loc_panas_valid = df[['uid', 'locations', 'panas-pos_pre', 'panas-neg_pre', 'panas-pos_post', 'panas-neg_post']].dropna()"
   ]
  },
  {
   "cell_type": "code",
   "execution_count": 149,
   "metadata": {},
   "outputs": [
    {
     "data": {
      "text/plain": [
       "(0.1027154561783781, 0.5394428655855347)"
      ]
     },
     "execution_count": 149,
     "metadata": {},
     "output_type": "execute_result"
    }
   ],
   "source": [
    "r, p = scipy.stats.pearsonr(loc_panas_valid['locations'], loc_panas_valid['panas-pos_pre'])\n",
    "r, p"
   ]
  },
  {
   "cell_type": "code",
   "execution_count": 150,
   "metadata": {},
   "outputs": [
    {
     "data": {
      "text/plain": [
       "(-0.024092064677230133, 0.8858376282836163)"
      ]
     },
     "execution_count": 150,
     "metadata": {},
     "output_type": "execute_result"
    }
   ],
   "source": [
    "r, p = scipy.stats.pearsonr(loc_panas_valid['locations'], loc_panas_valid['panas-neg_pre'])\n",
    "r, p"
   ]
  },
  {
   "cell_type": "code",
   "execution_count": 151,
   "metadata": {},
   "outputs": [
    {
     "data": {
      "text/plain": [
       "(0.276483802216785, 0.09288713541084334)"
      ]
     },
     "execution_count": 151,
     "metadata": {},
     "output_type": "execute_result"
    }
   ],
   "source": [
    "r, p = scipy.stats.pearsonr(loc_panas_valid['locations'], loc_panas_valid['panas-pos_post'])\n",
    "r, p"
   ]
  },
  {
   "cell_type": "code",
   "execution_count": 152,
   "metadata": {},
   "outputs": [
    {
     "data": {
      "text/plain": [
       "(-0.11225569712077363, 0.5022203156137869)"
      ]
     },
     "execution_count": 152,
     "metadata": {},
     "output_type": "execute_result"
    }
   ],
   "source": [
    "r, p = scipy.stats.pearsonr(loc_panas_valid['locations'], loc_panas_valid['panas-neg_post'])\n",
    "r, p"
   ]
  },
  {
   "cell_type": "code",
   "execution_count": null,
   "metadata": {},
   "outputs": [],
   "source": []
  },
  {
   "cell_type": "markdown",
   "metadata": {},
   "source": [
    "#### 2.5) locations + stress\n",
    "not significant"
   ]
  },
  {
   "cell_type": "code",
   "execution_count": 153,
   "metadata": {},
   "outputs": [],
   "source": [
    "loc_pss_valid = df[['uid', 'locations', 'pss_pre', 'pss_post']].dropna()"
   ]
  },
  {
   "cell_type": "code",
   "execution_count": 154,
   "metadata": {},
   "outputs": [
    {
     "data": {
      "text/plain": [
       "(-0.08785916335640856, 0.5948235871965146)"
      ]
     },
     "execution_count": 154,
     "metadata": {},
     "output_type": "execute_result"
    }
   ],
   "source": [
    "r, p = scipy.stats.pearsonr(loc_pss_valid['locations'], loc_pss_valid['pss_pre'])\n",
    "r, p"
   ]
  },
  {
   "cell_type": "code",
   "execution_count": 155,
   "metadata": {},
   "outputs": [
    {
     "data": {
      "text/plain": [
       "(-0.16354798638952533, 0.3198113097104562)"
      ]
     },
     "execution_count": 155,
     "metadata": {},
     "output_type": "execute_result"
    }
   ],
   "source": [
    "r, p = scipy.stats.pearsonr(loc_pss_valid['locations'], loc_pss_valid['pss_post'])\n",
    "r, p"
   ]
  },
  {
   "cell_type": "code",
   "execution_count": null,
   "metadata": {},
   "outputs": [],
   "source": []
  },
  {
   "cell_type": "markdown",
   "metadata": {},
   "source": [
    "#### 2.6) locations + big five\n",
    "not significant"
   ]
  },
  {
   "cell_type": "code",
   "execution_count": 156,
   "metadata": {},
   "outputs": [],
   "source": [
    "loc_big5_valid = df[['uid', 'locations', 'big5-o_pre', 'big5-c_pre', \n",
    "                              'big5-e_pre', 'big5-a_pre', \n",
    "                              'big5-n_pre', 'big5-o_post', \n",
    "                              'big5-c_post', 'big5-e_post', \n",
    "                              'big5-a_post', 'big5-n_post']].dropna()"
   ]
  },
  {
   "cell_type": "code",
   "execution_count": 157,
   "metadata": {},
   "outputs": [
    {
     "data": {
      "text/plain": [
       "(0.31488680264927704, 0.054160234856770025)"
      ]
     },
     "execution_count": 157,
     "metadata": {},
     "output_type": "execute_result"
    }
   ],
   "source": [
    "r, p = scipy.stats.pearsonr(loc_big5_valid['locations'], loc_big5_valid['big5-o_pre'])\n",
    "r, p"
   ]
  },
  {
   "cell_type": "code",
   "execution_count": 158,
   "metadata": {},
   "outputs": [
    {
     "data": {
      "text/plain": [
       "(-0.00019497764057198975, 0.999073041091481)"
      ]
     },
     "execution_count": 158,
     "metadata": {},
     "output_type": "execute_result"
    }
   ],
   "source": [
    "r, p = scipy.stats.pearsonr(loc_big5_valid['locations'], loc_big5_valid['big5-c_pre'])\n",
    "r, p"
   ]
  },
  {
   "cell_type": "code",
   "execution_count": 159,
   "metadata": {},
   "outputs": [
    {
     "data": {
      "text/plain": [
       "(0.23307864087857708, 0.15904839959244754)"
      ]
     },
     "execution_count": 159,
     "metadata": {},
     "output_type": "execute_result"
    }
   ],
   "source": [
    "r, p = scipy.stats.pearsonr(loc_big5_valid['locations'], loc_big5_valid['big5-e_pre'])\n",
    "r, p"
   ]
  },
  {
   "cell_type": "code",
   "execution_count": 160,
   "metadata": {},
   "outputs": [
    {
     "data": {
      "text/plain": [
       "(0.11625322417296674, 0.4870201447259423)"
      ]
     },
     "execution_count": 160,
     "metadata": {},
     "output_type": "execute_result"
    }
   ],
   "source": [
    "r, p = scipy.stats.pearsonr(loc_big5_valid['locations'], loc_big5_valid['big5-a_pre'])\n",
    "r, p"
   ]
  },
  {
   "cell_type": "code",
   "execution_count": 161,
   "metadata": {},
   "outputs": [
    {
     "data": {
      "text/plain": [
       "(-0.2249082095605996, 0.17459674048133358)"
      ]
     },
     "execution_count": 161,
     "metadata": {},
     "output_type": "execute_result"
    }
   ],
   "source": [
    "r, p = scipy.stats.pearsonr(loc_big5_valid['locations'], loc_big5_valid['big5-n_pre'])\n",
    "r, p"
   ]
  },
  {
   "cell_type": "code",
   "execution_count": 162,
   "metadata": {},
   "outputs": [
    {
     "data": {
      "text/plain": [
       "(0.2505784580517133, 0.1291670036119806)"
      ]
     },
     "execution_count": 162,
     "metadata": {},
     "output_type": "execute_result"
    }
   ],
   "source": [
    "r, p = scipy.stats.pearsonr(loc_big5_valid['locations'], loc_big5_valid['big5-o_post'])\n",
    "r, p"
   ]
  },
  {
   "cell_type": "code",
   "execution_count": 163,
   "metadata": {},
   "outputs": [
    {
     "data": {
      "text/plain": [
       "(0.001415219073398822, 0.993271867903872)"
      ]
     },
     "execution_count": 163,
     "metadata": {},
     "output_type": "execute_result"
    }
   ],
   "source": [
    "r, p = scipy.stats.pearsonr(loc_big5_valid['locations'], loc_big5_valid['big5-c_post'])\n",
    "r, p"
   ]
  },
  {
   "cell_type": "code",
   "execution_count": 164,
   "metadata": {},
   "outputs": [
    {
     "data": {
      "text/plain": [
       "(0.19057505560315338, 0.25176147851234426)"
      ]
     },
     "execution_count": 164,
     "metadata": {},
     "output_type": "execute_result"
    }
   ],
   "source": [
    "r, p = scipy.stats.pearsonr(loc_big5_valid['locations'], loc_big5_valid['big5-e_post'])\n",
    "r, p"
   ]
  },
  {
   "cell_type": "code",
   "execution_count": 165,
   "metadata": {},
   "outputs": [
    {
     "data": {
      "text/plain": [
       "(0.2793623878692929, 0.08939763586018983)"
      ]
     },
     "execution_count": 165,
     "metadata": {},
     "output_type": "execute_result"
    }
   ],
   "source": [
    "r, p = scipy.stats.pearsonr(loc_big5_valid['locations'], loc_big5_valid['big5-a_post'])\n",
    "r, p"
   ]
  },
  {
   "cell_type": "code",
   "execution_count": 166,
   "metadata": {},
   "outputs": [
    {
     "data": {
      "text/plain": [
       "(-0.26723707789386303, 0.10480700162458116)"
      ]
     },
     "execution_count": 166,
     "metadata": {},
     "output_type": "execute_result"
    }
   ],
   "source": [
    "r, p = scipy.stats.pearsonr(loc_big5_valid['locations'], loc_big5_valid['big5-n_post'])\n",
    "r, p"
   ]
  },
  {
   "cell_type": "code",
   "execution_count": null,
   "metadata": {},
   "outputs": [],
   "source": []
  },
  {
   "cell_type": "markdown",
   "metadata": {},
   "source": [
    "#### 2.7) locations + GPA\n",
    "not significant"
   ]
  },
  {
   "cell_type": "code",
   "execution_count": 167,
   "metadata": {},
   "outputs": [],
   "source": [
    "loc_gpa_valid = df[['uid', 'locations', 'gpa_all', 'gpa_13s', 'cs_65']].dropna()"
   ]
  },
  {
   "cell_type": "code",
   "execution_count": 168,
   "metadata": {},
   "outputs": [
    {
     "data": {
      "text/plain": [
       "(0.08163145618035367, 0.6680452852078987)"
      ]
     },
     "execution_count": 168,
     "metadata": {},
     "output_type": "execute_result"
    }
   ],
   "source": [
    "r, p = scipy.stats.pearsonr(loc_gpa_valid['locations'], loc_gpa_valid['gpa_all'])\n",
    "r, p"
   ]
  },
  {
   "cell_type": "code",
   "execution_count": 169,
   "metadata": {},
   "outputs": [
    {
     "data": {
      "text/plain": [
       "(-0.11462297801223567, 0.5464206660162654)"
      ]
     },
     "execution_count": 169,
     "metadata": {},
     "output_type": "execute_result"
    }
   ],
   "source": [
    "r, p = scipy.stats.pearsonr(loc_gpa_valid['locations'], loc_gpa_valid['gpa_13s'])\n",
    "r, p"
   ]
  },
  {
   "cell_type": "code",
   "execution_count": 170,
   "metadata": {},
   "outputs": [
    {
     "data": {
      "text/plain": [
       "(-0.0405314924603681, 0.8315967430212979)"
      ]
     },
     "execution_count": 170,
     "metadata": {},
     "output_type": "execute_result"
    }
   ],
   "source": [
    "r, p = scipy.stats.pearsonr(loc_gpa_valid['locations'], loc_gpa_valid['cs_65'])\n",
    "r, p"
   ]
  },
  {
   "cell_type": "markdown",
   "metadata": {},
   "source": [
    "### 3) Semantic Location"
   ]
  },
  {
   "cell_type": "code",
   "execution_count": null,
   "metadata": {},
   "outputs": [],
   "source": []
  },
  {
   "cell_type": "code",
   "execution_count": null,
   "metadata": {},
   "outputs": [],
   "source": []
  },
  {
   "cell_type": "code",
   "execution_count": null,
   "metadata": {},
   "outputs": [],
   "source": []
  },
  {
   "cell_type": "code",
   "execution_count": null,
   "metadata": {},
   "outputs": [],
   "source": []
  },
  {
   "cell_type": "code",
   "execution_count": null,
   "metadata": {},
   "outputs": [],
   "source": []
  },
  {
   "cell_type": "markdown",
   "metadata": {},
   "source": [
    "## 3. App Usage"
   ]
  },
  {
   "cell_type": "code",
   "execution_count": 171,
   "metadata": {},
   "outputs": [],
   "source": [
    "# import app usage data\n",
    "path = '//data/dopameter/student_life/dataset/dataset/app_usage/*.csv'\n",
    "app_data = {}\n",
    "for file_name in glob.glob(path):\n",
    "    f = open(file_name, 'r')\n",
    "    uid = int(re.search(r'\\d+', file_name).group())  # user id\n",
    "    app_data[uid] = pd.read_csv(f)  # dict {uid: light dataframe}"
   ]
  },
  {
   "cell_type": "markdown",
   "metadata": {},
   "source": [
    "### 1) # of running activities"
   ]
  },
  {
   "cell_type": "code",
   "execution_count": 172,
   "metadata": {},
   "outputs": [],
   "source": [
    "user_running = {}  # {uid: num running/activity df}\n",
    "running_info = {}  # {uid: mean num running/activity}\n",
    "# get total num activities, num running for each day\n",
    "for key, value in app_data.items():\n",
    "    curr_timestamp = None\n",
    "    num_act_run = {}\n",
    "    \n",
    "    for i in value.index:\n",
    "        row_num_activities = value.at[i, 'RUNNING_TASKS_numActivities']\n",
    "        row_num_running = value.at[i, 'RUNNING_TASKS_numRunning']\n",
    "        row_timestamp = value.at[i, 'timestamp']\n",
    "        \n",
    "        if row_timestamp == curr_timestamp:\n",
    "            num_act_run[row_timestamp][0] += row_num_activities\n",
    "            num_act_run[row_timestamp][1] += row_num_running\n",
    "        else:\n",
    "            curr_timestamp = row_timestamp\n",
    "            num_act_run[row_timestamp] = [row_num_activities, row_num_running]\n",
    "\n",
    "    running_df = pd.DataFrame.from_dict(num_act_run, columns = ['num_activities', 'num_running'], orient='index')\n",
    "    \n",
    "    user_running[key] = running_df\n",
    "    \n",
    "    # get mean num activities, num running per day\n",
    "    running_info[key] = [round(running_df['num_activities'].mean(), 3), round(running_df['num_running'].mean(), 3)]\n",
    "\n",
    "running = pd.DataFrame.from_dict(running_info, columns = ['avg_num_activities', 'avg_num_running'], orient='index')\n"
   ]
  },
  {
   "cell_type": "code",
   "execution_count": 173,
   "metadata": {},
   "outputs": [],
   "source": [
    "running = running.reset_index().rename(columns={'index': 'uid'})\n",
    "running = running.sort_values(by='uid').reset_index(drop=True)"
   ]
  },
  {
   "cell_type": "code",
   "execution_count": 174,
   "metadata": {},
   "outputs": [
    {
     "data": {
      "text/html": [
       "<div>\n",
       "<style scoped>\n",
       "    .dataframe tbody tr th:only-of-type {\n",
       "        vertical-align: middle;\n",
       "    }\n",
       "\n",
       "    .dataframe tbody tr th {\n",
       "        vertical-align: top;\n",
       "    }\n",
       "\n",
       "    .dataframe thead th {\n",
       "        text-align: right;\n",
       "    }\n",
       "</style>\n",
       "<table border=\"1\" class=\"dataframe\">\n",
       "  <thead>\n",
       "    <tr style=\"text-align: right;\">\n",
       "      <th></th>\n",
       "      <th>uid</th>\n",
       "      <th>avg_bt</th>\n",
       "      <th>phq-9_pre</th>\n",
       "      <th>phq-9_post</th>\n",
       "      <th>phq-9_avg</th>\n",
       "      <th>fl_pre</th>\n",
       "      <th>fl_post</th>\n",
       "      <th>big5-o_pre</th>\n",
       "      <th>big5-c_pre</th>\n",
       "      <th>big5-e_pre</th>\n",
       "      <th>...</th>\n",
       "      <th>panas-neg_post</th>\n",
       "      <th>pss_pre</th>\n",
       "      <th>pss_post</th>\n",
       "      <th>gpa_all</th>\n",
       "      <th>gpa_13s</th>\n",
       "      <th>cs_65</th>\n",
       "      <th>avg_dist</th>\n",
       "      <th>locations</th>\n",
       "      <th>avg_num_activities</th>\n",
       "      <th>avg_num_running</th>\n",
       "    </tr>\n",
       "  </thead>\n",
       "  <tbody>\n",
       "    <tr>\n",
       "      <th>0</th>\n",
       "      <td>0</td>\n",
       "      <td>3.738</td>\n",
       "      <td>2.0</td>\n",
       "      <td>3.0</td>\n",
       "      <td>2.5</td>\n",
       "      <td>NaN</td>\n",
       "      <td>45.0</td>\n",
       "      <td>45.0</td>\n",
       "      <td>27.0</td>\n",
       "      <td>30.0</td>\n",
       "      <td>...</td>\n",
       "      <td>24.0</td>\n",
       "      <td>24.0</td>\n",
       "      <td>15.0</td>\n",
       "      <td>NaN</td>\n",
       "      <td>NaN</td>\n",
       "      <td>NaN</td>\n",
       "      <td>808.349</td>\n",
       "      <td>67</td>\n",
       "      <td>14.426</td>\n",
       "      <td>11.397</td>\n",
       "    </tr>\n",
       "    <tr>\n",
       "      <th>1</th>\n",
       "      <td>1</td>\n",
       "      <td>1.851</td>\n",
       "      <td>5.0</td>\n",
       "      <td>4.0</td>\n",
       "      <td>4.5</td>\n",
       "      <td>45.0</td>\n",
       "      <td>46.0</td>\n",
       "      <td>39.0</td>\n",
       "      <td>40.0</td>\n",
       "      <td>25.0</td>\n",
       "      <td>...</td>\n",
       "      <td>17.0</td>\n",
       "      <td>15.0</td>\n",
       "      <td>16.0</td>\n",
       "      <td>2.863</td>\n",
       "      <td>1.777778</td>\n",
       "      <td>3.0</td>\n",
       "      <td>1505.468</td>\n",
       "      <td>21</td>\n",
       "      <td>9.082</td>\n",
       "      <td>8.044</td>\n",
       "    </tr>\n",
       "    <tr>\n",
       "      <th>2</th>\n",
       "      <td>2</td>\n",
       "      <td>2.653</td>\n",
       "      <td>13.0</td>\n",
       "      <td>5.0</td>\n",
       "      <td>9.0</td>\n",
       "      <td>46.0</td>\n",
       "      <td>44.0</td>\n",
       "      <td>32.0</td>\n",
       "      <td>38.0</td>\n",
       "      <td>17.0</td>\n",
       "      <td>...</td>\n",
       "      <td>13.0</td>\n",
       "      <td>21.0</td>\n",
       "      <td>25.0</td>\n",
       "      <td>3.505</td>\n",
       "      <td>4.000000</td>\n",
       "      <td>4.0</td>\n",
       "      <td>852.401</td>\n",
       "      <td>31</td>\n",
       "      <td>14.952</td>\n",
       "      <td>11.330</td>\n",
       "    </tr>\n",
       "    <tr>\n",
       "      <th>3</th>\n",
       "      <td>3</td>\n",
       "      <td>1.011</td>\n",
       "      <td>2.0</td>\n",
       "      <td>4.0</td>\n",
       "      <td>3.0</td>\n",
       "      <td>34.0</td>\n",
       "      <td>31.0</td>\n",
       "      <td>27.0</td>\n",
       "      <td>35.0</td>\n",
       "      <td>17.0</td>\n",
       "      <td>...</td>\n",
       "      <td>20.0</td>\n",
       "      <td>17.0</td>\n",
       "      <td>24.0</td>\n",
       "      <td>NaN</td>\n",
       "      <td>NaN</td>\n",
       "      <td>NaN</td>\n",
       "      <td>486.413</td>\n",
       "      <td>4</td>\n",
       "      <td>9.108</td>\n",
       "      <td>8.461</td>\n",
       "    </tr>\n",
       "    <tr>\n",
       "      <th>4</th>\n",
       "      <td>4</td>\n",
       "      <td>1.714</td>\n",
       "      <td>6.0</td>\n",
       "      <td>8.0</td>\n",
       "      <td>7.0</td>\n",
       "      <td>27.0</td>\n",
       "      <td>33.0</td>\n",
       "      <td>29.0</td>\n",
       "      <td>24.0</td>\n",
       "      <td>19.0</td>\n",
       "      <td>...</td>\n",
       "      <td>19.0</td>\n",
       "      <td>21.0</td>\n",
       "      <td>17.0</td>\n",
       "      <td>3.029</td>\n",
       "      <td>3.500000</td>\n",
       "      <td>4.0</td>\n",
       "      <td>324.165</td>\n",
       "      <td>20</td>\n",
       "      <td>10.487</td>\n",
       "      <td>7.742</td>\n",
       "    </tr>\n",
       "  </tbody>\n",
       "</table>\n",
       "<p>5 rows × 32 columns</p>\n",
       "</div>"
      ],
      "text/plain": [
       "   uid  avg_bt  phq-9_pre  phq-9_post  phq-9_avg  fl_pre  fl_post  big5-o_pre  \\\n",
       "0    0   3.738        2.0         3.0        2.5     NaN     45.0        45.0   \n",
       "1    1   1.851        5.0         4.0        4.5    45.0     46.0        39.0   \n",
       "2    2   2.653       13.0         5.0        9.0    46.0     44.0        32.0   \n",
       "3    3   1.011        2.0         4.0        3.0    34.0     31.0        27.0   \n",
       "4    4   1.714        6.0         8.0        7.0    27.0     33.0        29.0   \n",
       "\n",
       "   big5-c_pre  big5-e_pre  ...  panas-neg_post  pss_pre  pss_post  gpa_all  \\\n",
       "0        27.0        30.0  ...            24.0     24.0      15.0      NaN   \n",
       "1        40.0        25.0  ...            17.0     15.0      16.0    2.863   \n",
       "2        38.0        17.0  ...            13.0     21.0      25.0    3.505   \n",
       "3        35.0        17.0  ...            20.0     17.0      24.0      NaN   \n",
       "4        24.0        19.0  ...            19.0     21.0      17.0    3.029   \n",
       "\n",
       "    gpa_13s  cs_65  avg_dist  locations  avg_num_activities  avg_num_running  \n",
       "0       NaN    NaN   808.349         67              14.426           11.397  \n",
       "1  1.777778    3.0  1505.468         21               9.082            8.044  \n",
       "2  4.000000    4.0   852.401         31              14.952           11.330  \n",
       "3       NaN    NaN   486.413          4               9.108            8.461  \n",
       "4  3.500000    4.0   324.165         20              10.487            7.742  \n",
       "\n",
       "[5 rows x 32 columns]"
      ]
     },
     "execution_count": 174,
     "metadata": {},
     "output_type": "execute_result"
    }
   ],
   "source": [
    "# merge\n",
    "df = pd.merge(df, running, how='outer').sort_values(by='uid').reset_index(drop=True)\n",
    "df.head()"
   ]
  },
  {
   "cell_type": "markdown",
   "metadata": {},
   "source": [
    "#### 1.1) # running + phq\n",
    "activities-pre, activities-post, running-pre가 significant\n",
    "\n",
    "(r=0.623, p<.001) (r=0.459, p=0.004) (r=0.365, p=0.024)"
   ]
  },
  {
   "cell_type": "code",
   "execution_count": 175,
   "metadata": {},
   "outputs": [],
   "source": [
    "run_phq_valid = df[['uid', 'avg_num_activities', 'avg_num_running', 'phq-9_pre', 'phq-9_post']].dropna()"
   ]
  },
  {
   "cell_type": "code",
   "execution_count": 176,
   "metadata": {},
   "outputs": [
    {
     "data": {
      "text/plain": [
       "(0.6226040613269249, 2.993547650148479e-05)"
      ]
     },
     "execution_count": 176,
     "metadata": {},
     "output_type": "execute_result"
    }
   ],
   "source": [
    "r, p = scipy.stats.pearsonr(run_phq_valid['avg_num_activities'], run_phq_valid['phq-9_pre'])\n",
    "r, p  # significant"
   ]
  },
  {
   "cell_type": "code",
   "execution_count": 177,
   "metadata": {},
   "outputs": [
    {
     "data": {
      "text/plain": [
       "(0.45859893012820496, 0.003782550520628265)"
      ]
     },
     "execution_count": 177,
     "metadata": {},
     "output_type": "execute_result"
    }
   ],
   "source": [
    "r, p = scipy.stats.pearsonr(run_phq_valid['avg_num_activities'], run_phq_valid['phq-9_post'])\n",
    "r, p  # significant"
   ]
  },
  {
   "cell_type": "code",
   "execution_count": 178,
   "metadata": {},
   "outputs": [
    {
     "data": {
      "text/plain": [
       "(0.3650705939105718, 0.024215813074969807)"
      ]
     },
     "execution_count": 178,
     "metadata": {},
     "output_type": "execute_result"
    }
   ],
   "source": [
    "r, p = scipy.stats.pearsonr(run_phq_valid['avg_num_running'], run_phq_valid['phq-9_pre'])\n",
    "r, p  # significant"
   ]
  },
  {
   "cell_type": "code",
   "execution_count": 179,
   "metadata": {},
   "outputs": [
    {
     "data": {
      "text/plain": [
       "(0.1360127940556198, 0.4155160640324699)"
      ]
     },
     "execution_count": 179,
     "metadata": {},
     "output_type": "execute_result"
    }
   ],
   "source": [
    "r, p = scipy.stats.pearsonr(run_phq_valid['avg_num_running'], run_phq_valid['phq-9_post'])\n",
    "r, p"
   ]
  },
  {
   "cell_type": "code",
   "execution_count": 180,
   "metadata": {},
   "outputs": [],
   "source": [
    "# save significant associations in a dataframe (-> export as csv file)\n",
    "sig_arr = [['avg_num_activities', 'phq-9_pre', 0.623, 0.000]]\n",
    "sig_arr += [['avg_num_activities', 'phq-9_post', 0.459, 0.004]]\n",
    "sig_arr += [['avg_num_running', 'phq-9_pre', 0.459, 0.004]]\n",
    "sig_corr = sig_corr.append(pd.DataFrame(sig_arr, columns=['sig1', 'sig2', 'r', 'p']))\n",
    "sig_corr.to_csv('sig_corr.csv')"
   ]
  },
  {
   "cell_type": "code",
   "execution_count": null,
   "metadata": {},
   "outputs": [],
   "source": []
  },
  {
   "cell_type": "markdown",
   "metadata": {},
   "source": [
    "#### 1.2) # running + flourishing\n",
    "not significant"
   ]
  },
  {
   "cell_type": "code",
   "execution_count": 181,
   "metadata": {},
   "outputs": [],
   "source": [
    "run_fl_valid = df[['uid', 'avg_num_activities', 'avg_num_running', 'fl_pre', 'fl_post']].dropna()"
   ]
  },
  {
   "cell_type": "code",
   "execution_count": 182,
   "metadata": {},
   "outputs": [
    {
     "data": {
      "text/plain": [
       "(-0.2804798904449437, 0.10811337169356515)"
      ]
     },
     "execution_count": 182,
     "metadata": {},
     "output_type": "execute_result"
    }
   ],
   "source": [
    "r, p = scipy.stats.pearsonr(run_fl_valid['avg_num_activities'], run_fl_valid['fl_pre'])\n",
    "r, p"
   ]
  },
  {
   "cell_type": "code",
   "execution_count": 183,
   "metadata": {},
   "outputs": [
    {
     "data": {
      "text/plain": [
       "(-0.12893708516517208, 0.4673812952049468)"
      ]
     },
     "execution_count": 183,
     "metadata": {},
     "output_type": "execute_result"
    }
   ],
   "source": [
    "r, p = scipy.stats.pearsonr(run_fl_valid['avg_num_activities'], run_fl_valid['fl_post'])\n",
    "r, p"
   ]
  },
  {
   "cell_type": "code",
   "execution_count": 184,
   "metadata": {},
   "outputs": [
    {
     "data": {
      "text/plain": [
       "(-0.1623502286136546, 0.3589572767811694)"
      ]
     },
     "execution_count": 184,
     "metadata": {},
     "output_type": "execute_result"
    }
   ],
   "source": [
    "r, p = scipy.stats.pearsonr(run_fl_valid['avg_num_running'], run_fl_valid['fl_pre'])\n",
    "r, p"
   ]
  },
  {
   "cell_type": "code",
   "execution_count": 185,
   "metadata": {},
   "outputs": [
    {
     "data": {
      "text/plain": [
       "(0.08031596394120599, 0.6516061105704756)"
      ]
     },
     "execution_count": 185,
     "metadata": {},
     "output_type": "execute_result"
    }
   ],
   "source": [
    "r, p = scipy.stats.pearsonr(run_fl_valid['avg_num_running'], run_fl_valid['fl_post'])\n",
    "r, p"
   ]
  },
  {
   "cell_type": "markdown",
   "metadata": {},
   "source": [
    "#### 1.3) # runing + loneliness\n",
    "activities-post만 significant (r=0.350, p=0.034)"
   ]
  },
  {
   "cell_type": "code",
   "execution_count": 186,
   "metadata": {},
   "outputs": [],
   "source": [
    "run_lon_valid = df[['uid', 'avg_num_activities', 'avg_num_running', 'lon_pre', 'lon_post']].dropna()"
   ]
  },
  {
   "cell_type": "code",
   "execution_count": 187,
   "metadata": {},
   "outputs": [
    {
     "data": {
      "text/plain": [
       "(0.20731154123149764, 0.21825782791828244)"
      ]
     },
     "execution_count": 187,
     "metadata": {},
     "output_type": "execute_result"
    }
   ],
   "source": [
    "r, p = scipy.stats.pearsonr(run_lon_valid['avg_num_activities'], run_lon_valid['lon_pre'])\n",
    "r, p"
   ]
  },
  {
   "cell_type": "code",
   "execution_count": 188,
   "metadata": {},
   "outputs": [
    {
     "data": {
      "text/plain": [
       "(0.34999034698118264, 0.03371062718933465)"
      ]
     },
     "execution_count": 188,
     "metadata": {},
     "output_type": "execute_result"
    }
   ],
   "source": [
    "r, p = scipy.stats.pearsonr(run_lon_valid['avg_num_activities'], run_lon_valid['lon_post'])\n",
    "r, p  # significant"
   ]
  },
  {
   "cell_type": "code",
   "execution_count": 189,
   "metadata": {},
   "outputs": [],
   "source": [
    "# save significant associations in a dataframe (-> export as csv file)\n",
    "sig_arr = [['avg_num_activities', 'lon_post', 0.350, 0.034]]\n",
    "sig_corr = sig_corr.append(pd.DataFrame(sig_arr, columns=['sig1', 'sig2', 'r', 'p']))\n",
    "sig_corr.to_csv('sig_corr.csv')"
   ]
  },
  {
   "cell_type": "code",
   "execution_count": 190,
   "metadata": {},
   "outputs": [
    {
     "data": {
      "text/plain": [
       "(0.1094312517237718, 0.5190966758306733)"
      ]
     },
     "execution_count": 190,
     "metadata": {},
     "output_type": "execute_result"
    }
   ],
   "source": [
    "r, p = scipy.stats.pearsonr(run_lon_valid['avg_num_running'], run_lon_valid['lon_pre'])\n",
    "r, p"
   ]
  },
  {
   "cell_type": "code",
   "execution_count": 191,
   "metadata": {},
   "outputs": [
    {
     "data": {
      "text/plain": [
       "(0.22924312438403768, 0.17230739406323736)"
      ]
     },
     "execution_count": 191,
     "metadata": {},
     "output_type": "execute_result"
    }
   ],
   "source": [
    "r, p = scipy.stats.pearsonr(run_lon_valid['avg_num_running'], run_lon_valid['lon_post'])\n",
    "r, p"
   ]
  },
  {
   "cell_type": "markdown",
   "metadata": {},
   "source": [
    "#### 1.4) # running + PANAS\n",
    "not significant"
   ]
  },
  {
   "cell_type": "code",
   "execution_count": 192,
   "metadata": {},
   "outputs": [],
   "source": [
    "run_panas_valid = df[['uid', 'avg_num_activities', 'avg_num_running', 'panas-pos_pre', \n",
    "                      'panas-neg_pre', 'panas-pos_post', 'panas-neg_post']].dropna()"
   ]
  },
  {
   "cell_type": "code",
   "execution_count": 193,
   "metadata": {},
   "outputs": [
    {
     "data": {
      "text/plain": [
       "(-0.26427290353936267, 0.10886422498885646)"
      ]
     },
     "execution_count": 193,
     "metadata": {},
     "output_type": "execute_result"
    }
   ],
   "source": [
    "r, p = scipy.stats.pearsonr(run_panas_valid['avg_num_activities'], run_panas_valid['panas-pos_pre'])\n",
    "r, p"
   ]
  },
  {
   "cell_type": "code",
   "execution_count": 194,
   "metadata": {},
   "outputs": [
    {
     "data": {
      "text/plain": [
       "(0.22830192361295737, 0.16801167970233075)"
      ]
     },
     "execution_count": 194,
     "metadata": {},
     "output_type": "execute_result"
    }
   ],
   "source": [
    "r, p = scipy.stats.pearsonr(run_panas_valid['avg_num_activities'], run_panas_valid['panas-neg_pre'])\n",
    "r, p"
   ]
  },
  {
   "cell_type": "code",
   "execution_count": 195,
   "metadata": {},
   "outputs": [
    {
     "data": {
      "text/plain": [
       "(-0.1007938239553216, 0.5470971097621141)"
      ]
     },
     "execution_count": 195,
     "metadata": {},
     "output_type": "execute_result"
    }
   ],
   "source": [
    "r, p = scipy.stats.pearsonr(run_panas_valid['avg_num_activities'], run_panas_valid['panas-pos_post'])\n",
    "r, p"
   ]
  },
  {
   "cell_type": "code",
   "execution_count": 196,
   "metadata": {},
   "outputs": [
    {
     "data": {
      "text/plain": [
       "(0.29032204735623374, 0.07702967954531244)"
      ]
     },
     "execution_count": 196,
     "metadata": {},
     "output_type": "execute_result"
    }
   ],
   "source": [
    "r, p = scipy.stats.pearsonr(run_panas_valid['avg_num_activities'], run_panas_valid['panas-neg_post'])\n",
    "r, p"
   ]
  },
  {
   "cell_type": "code",
   "execution_count": 197,
   "metadata": {},
   "outputs": [
    {
     "data": {
      "text/plain": [
       "(-0.12856348256046907, 0.441747938299362)"
      ]
     },
     "execution_count": 197,
     "metadata": {},
     "output_type": "execute_result"
    }
   ],
   "source": [
    "r, p = scipy.stats.pearsonr(run_panas_valid['avg_num_running'], run_panas_valid['panas-pos_pre'])\n",
    "r, p"
   ]
  },
  {
   "cell_type": "code",
   "execution_count": 198,
   "metadata": {},
   "outputs": [
    {
     "data": {
      "text/plain": [
       "(0.046154654698376055, 0.7831943156508508)"
      ]
     },
     "execution_count": 198,
     "metadata": {},
     "output_type": "execute_result"
    }
   ],
   "source": [
    "r, p = scipy.stats.pearsonr(run_panas_valid['avg_num_running'], run_panas_valid['panas-neg_pre'])\n",
    "r, p"
   ]
  },
  {
   "cell_type": "code",
   "execution_count": 199,
   "metadata": {},
   "outputs": [
    {
     "data": {
      "text/plain": [
       "(-0.11800541276067711, 0.48043349132435437)"
      ]
     },
     "execution_count": 199,
     "metadata": {},
     "output_type": "execute_result"
    }
   ],
   "source": [
    "r, p = scipy.stats.pearsonr(run_panas_valid['avg_num_running'], run_panas_valid['panas-pos_post'])\n",
    "r, p"
   ]
  },
  {
   "cell_type": "code",
   "execution_count": 200,
   "metadata": {},
   "outputs": [
    {
     "data": {
      "text/plain": [
       "(0.2554907832702279, 0.12158363822419578)"
      ]
     },
     "execution_count": 200,
     "metadata": {},
     "output_type": "execute_result"
    }
   ],
   "source": [
    "r, p = scipy.stats.pearsonr(run_panas_valid['avg_num_running'], run_panas_valid['panas-neg_post'])\n",
    "r, p"
   ]
  },
  {
   "cell_type": "markdown",
   "metadata": {},
   "source": [
    "#### 1.5) # running + stress\n",
    "activities-pre, activities-post가 significant\n",
    "\n",
    "(r=0.416, p=0.008) (r=0.366, p=0.022)"
   ]
  },
  {
   "cell_type": "code",
   "execution_count": 201,
   "metadata": {},
   "outputs": [],
   "source": [
    "run_pss_valid = df[['uid', 'avg_num_activities', 'avg_num_running',\n",
    "                    'pss_pre', 'pss_post']].dropna()"
   ]
  },
  {
   "cell_type": "code",
   "execution_count": 202,
   "metadata": {},
   "outputs": [
    {
     "data": {
      "text/plain": [
       "(0.41590845862718023, 0.008455065333554857)"
      ]
     },
     "execution_count": 202,
     "metadata": {},
     "output_type": "execute_result"
    }
   ],
   "source": [
    "r, p = scipy.stats.pearsonr(run_pss_valid['avg_num_activities'], run_pss_valid['pss_pre'])\n",
    "r, p  # significant"
   ]
  },
  {
   "cell_type": "code",
   "execution_count": 203,
   "metadata": {},
   "outputs": [
    {
     "data": {
      "text/plain": [
       "(0.3663369009430329, 0.021806331355711053)"
      ]
     },
     "execution_count": 203,
     "metadata": {},
     "output_type": "execute_result"
    }
   ],
   "source": [
    "r, p = scipy.stats.pearsonr(run_pss_valid['avg_num_activities'], run_pss_valid['pss_post'])\n",
    "r, p  # significant"
   ]
  },
  {
   "cell_type": "code",
   "execution_count": 204,
   "metadata": {},
   "outputs": [
    {
     "data": {
      "text/plain": [
       "(0.2907412826859032, 0.07255536580900547)"
      ]
     },
     "execution_count": 204,
     "metadata": {},
     "output_type": "execute_result"
    }
   ],
   "source": [
    "r, p = scipy.stats.pearsonr(run_pss_valid['avg_num_running'], run_pss_valid['pss_pre'])\n",
    "r, p"
   ]
  },
  {
   "cell_type": "code",
   "execution_count": 205,
   "metadata": {},
   "outputs": [
    {
     "data": {
      "text/plain": [
       "(0.28255334266801, 0.08136055579072544)"
      ]
     },
     "execution_count": 205,
     "metadata": {},
     "output_type": "execute_result"
    }
   ],
   "source": [
    "r, p = scipy.stats.pearsonr(run_pss_valid['avg_num_running'], run_pss_valid['pss_post'])\n",
    "r, p"
   ]
  },
  {
   "cell_type": "code",
   "execution_count": 206,
   "metadata": {},
   "outputs": [],
   "source": [
    "# save significant associations in a dataframe (-> export as csv file)\n",
    "sig_arr = [['avg_num_activities', 'pss_pre', 0.416, 0.008]]\n",
    "sig_arr += [['avg_num_activities', 'pss_post', 0.366, 0.022]]\n",
    "sig_corr = sig_corr.append(pd.DataFrame(sig_arr, columns=['sig1', 'sig2', 'r', 'p']))\n",
    "sig_corr = sig_corr.reset_index(drop=True)\n",
    "sig_corr.to_csv('sig_corr.csv')"
   ]
  },
  {
   "cell_type": "markdown",
   "metadata": {},
   "source": [
    "#### 1.6) # running + big five\n",
    "not significant"
   ]
  },
  {
   "cell_type": "code",
   "execution_count": 207,
   "metadata": {},
   "outputs": [],
   "source": [
    "run_big5_valid = df[['uid', 'avg_num_activities', 'avg_num_running', \n",
    "                              'big5-o_pre', 'big5-c_pre', \n",
    "                              'big5-e_pre', 'big5-a_pre', \n",
    "                              'big5-n_pre', 'big5-o_post', \n",
    "                              'big5-c_post', 'big5-e_post', \n",
    "                              'big5-a_post', 'big5-n_post']].dropna()"
   ]
  },
  {
   "cell_type": "code",
   "execution_count": 208,
   "metadata": {},
   "outputs": [
    {
     "data": {
      "text/plain": [
       "(0.1778656117393432, 0.2853589579826848)"
      ]
     },
     "execution_count": 208,
     "metadata": {},
     "output_type": "execute_result"
    }
   ],
   "source": [
    "r, p = scipy.stats.pearsonr(run_big5_valid['avg_num_activities'], run_big5_valid['big5-o_pre'])\n",
    "r, p"
   ]
  },
  {
   "cell_type": "code",
   "execution_count": 209,
   "metadata": {},
   "outputs": [
    {
     "data": {
      "text/plain": [
       "(-0.276199038172959, 0.09323794450752114)"
      ]
     },
     "execution_count": 209,
     "metadata": {},
     "output_type": "execute_result"
    }
   ],
   "source": [
    "r, p = scipy.stats.pearsonr(run_big5_valid['avg_num_activities'], run_big5_valid['big5-c_pre'])\n",
    "r, p"
   ]
  },
  {
   "cell_type": "code",
   "execution_count": 210,
   "metadata": {},
   "outputs": [
    {
     "data": {
      "text/plain": [
       "(0.024189670345790348, 0.8853781691739276)"
      ]
     },
     "execution_count": 210,
     "metadata": {},
     "output_type": "execute_result"
    }
   ],
   "source": [
    "r, p = scipy.stats.pearsonr(run_big5_valid['avg_num_activities'], run_big5_valid['big5-e_pre'])\n",
    "r, p"
   ]
  },
  {
   "cell_type": "code",
   "execution_count": 211,
   "metadata": {},
   "outputs": [
    {
     "data": {
      "text/plain": [
       "(-0.2120516465735584, 0.2012137888240153)"
      ]
     },
     "execution_count": 211,
     "metadata": {},
     "output_type": "execute_result"
    }
   ],
   "source": [
    "r, p = scipy.stats.pearsonr(run_big5_valid['avg_num_activities'], run_big5_valid['big5-a_pre'])\n",
    "r, p"
   ]
  },
  {
   "cell_type": "code",
   "execution_count": 212,
   "metadata": {},
   "outputs": [
    {
     "data": {
      "text/plain": [
       "(0.16406671508509277, 0.3249774503029454)"
      ]
     },
     "execution_count": 212,
     "metadata": {},
     "output_type": "execute_result"
    }
   ],
   "source": [
    "r, p = scipy.stats.pearsonr(run_big5_valid['avg_num_activities'], run_big5_valid['big5-n_pre'])\n",
    "r, p"
   ]
  },
  {
   "cell_type": "code",
   "execution_count": 213,
   "metadata": {},
   "outputs": [
    {
     "data": {
      "text/plain": [
       "(0.1945855933257481, 0.2417324418231729)"
      ]
     },
     "execution_count": 213,
     "metadata": {},
     "output_type": "execute_result"
    }
   ],
   "source": [
    "r, p = scipy.stats.pearsonr(run_big5_valid['avg_num_activities'], run_big5_valid['big5-o_post'])\n",
    "r, p"
   ]
  },
  {
   "cell_type": "code",
   "execution_count": 214,
   "metadata": {},
   "outputs": [
    {
     "data": {
      "text/plain": [
       "(-0.2502844309676262, 0.12963181241750638)"
      ]
     },
     "execution_count": 214,
     "metadata": {},
     "output_type": "execute_result"
    }
   ],
   "source": [
    "r, p = scipy.stats.pearsonr(run_big5_valid['avg_num_activities'], run_big5_valid['big5-c_post'])\n",
    "r, p"
   ]
  },
  {
   "cell_type": "code",
   "execution_count": 215,
   "metadata": {},
   "outputs": [
    {
     "data": {
      "text/plain": [
       "(0.05129458289616867, 0.7597266973238297)"
      ]
     },
     "execution_count": 215,
     "metadata": {},
     "output_type": "execute_result"
    }
   ],
   "source": [
    "r, p = scipy.stats.pearsonr(run_big5_valid['avg_num_activities'], run_big5_valid['big5-e_post'])\n",
    "r, p"
   ]
  },
  {
   "cell_type": "code",
   "execution_count": 216,
   "metadata": {},
   "outputs": [
    {
     "data": {
      "text/plain": [
       "(-0.07503475602090087, 0.6543509299817675)"
      ]
     },
     "execution_count": 216,
     "metadata": {},
     "output_type": "execute_result"
    }
   ],
   "source": [
    "r, p = scipy.stats.pearsonr(run_big5_valid['avg_num_activities'], run_big5_valid['big5-a_post'])\n",
    "r, p"
   ]
  },
  {
   "cell_type": "code",
   "execution_count": 217,
   "metadata": {},
   "outputs": [
    {
     "data": {
      "text/plain": [
       "(0.1961872329127654, 0.23780357312278302)"
      ]
     },
     "execution_count": 217,
     "metadata": {},
     "output_type": "execute_result"
    }
   ],
   "source": [
    "r, p = scipy.stats.pearsonr(run_big5_valid['avg_num_activities'], run_big5_valid['big5-n_post'])\n",
    "r, p"
   ]
  },
  {
   "cell_type": "code",
   "execution_count": 218,
   "metadata": {},
   "outputs": [
    {
     "data": {
      "text/plain": [
       "(-0.06613329634069862, 0.6932215088249785)"
      ]
     },
     "execution_count": 218,
     "metadata": {},
     "output_type": "execute_result"
    }
   ],
   "source": [
    "r, p = scipy.stats.pearsonr(run_big5_valid['avg_num_running'], run_big5_valid['big5-o_pre'])\n",
    "r, p"
   ]
  },
  {
   "cell_type": "code",
   "execution_count": 219,
   "metadata": {},
   "outputs": [
    {
     "data": {
      "text/plain": [
       "(0.06506173641568767, 0.6979557866511938)"
      ]
     },
     "execution_count": 219,
     "metadata": {},
     "output_type": "execute_result"
    }
   ],
   "source": [
    "r, p = scipy.stats.pearsonr(run_big5_valid['avg_num_running'], run_big5_valid['big5-c_pre'])\n",
    "r, p"
   ]
  },
  {
   "cell_type": "code",
   "execution_count": 220,
   "metadata": {},
   "outputs": [
    {
     "data": {
      "text/plain": [
       "(0.009079154006769431, 0.9568562075194302)"
      ]
     },
     "execution_count": 220,
     "metadata": {},
     "output_type": "execute_result"
    }
   ],
   "source": [
    "r, p = scipy.stats.pearsonr(run_big5_valid['avg_num_running'], run_big5_valid['big5-e_pre'])\n",
    "r, p"
   ]
  },
  {
   "cell_type": "code",
   "execution_count": 221,
   "metadata": {},
   "outputs": [
    {
     "data": {
      "text/plain": [
       "(-0.2857482858965752, 0.08201786218609364)"
      ]
     },
     "execution_count": 221,
     "metadata": {},
     "output_type": "execute_result"
    }
   ],
   "source": [
    "r, p = scipy.stats.pearsonr(run_big5_valid['avg_num_running'], run_big5_valid['big5-a_pre'])\n",
    "r, p"
   ]
  },
  {
   "cell_type": "code",
   "execution_count": 222,
   "metadata": {},
   "outputs": [
    {
     "data": {
      "text/plain": [
       "(0.06485296324633928, 0.6988794894057411)"
      ]
     },
     "execution_count": 222,
     "metadata": {},
     "output_type": "execute_result"
    }
   ],
   "source": [
    "r, p = scipy.stats.pearsonr(run_big5_valid['avg_num_running'], run_big5_valid['big5-n_pre'])\n",
    "r, p"
   ]
  },
  {
   "cell_type": "code",
   "execution_count": 223,
   "metadata": {},
   "outputs": [
    {
     "data": {
      "text/plain": [
       "(0.015488816063965079, 0.9264633462622406)"
      ]
     },
     "execution_count": 223,
     "metadata": {},
     "output_type": "execute_result"
    }
   ],
   "source": [
    "r, p = scipy.stats.pearsonr(run_big5_valid['avg_num_running'], run_big5_valid['big5-o_post'])\n",
    "r, p"
   ]
  },
  {
   "cell_type": "code",
   "execution_count": 224,
   "metadata": {},
   "outputs": [
    {
     "data": {
      "text/plain": [
       "(0.013092759531952986, 0.937815058039863)"
      ]
     },
     "execution_count": 224,
     "metadata": {},
     "output_type": "execute_result"
    }
   ],
   "source": [
    "r, p = scipy.stats.pearsonr(run_big5_valid['avg_num_running'], run_big5_valid['big5-c_post'])\n",
    "r, p"
   ]
  },
  {
   "cell_type": "code",
   "execution_count": 225,
   "metadata": {},
   "outputs": [
    {
     "data": {
      "text/plain": [
       "(-0.0976490301358509, 0.5597333741507309)"
      ]
     },
     "execution_count": 225,
     "metadata": {},
     "output_type": "execute_result"
    }
   ],
   "source": [
    "r, p = scipy.stats.pearsonr(run_big5_valid['avg_num_running'], run_big5_valid['big5-e_post'])\n",
    "r, p"
   ]
  },
  {
   "cell_type": "code",
   "execution_count": 226,
   "metadata": {},
   "outputs": [
    {
     "data": {
      "text/plain": [
       "(-0.19166130616597973, 0.2490181064490336)"
      ]
     },
     "execution_count": 226,
     "metadata": {},
     "output_type": "execute_result"
    }
   ],
   "source": [
    "r, p = scipy.stats.pearsonr(run_big5_valid['avg_num_running'], run_big5_valid['big5-a_post'])\n",
    "r, p"
   ]
  },
  {
   "cell_type": "code",
   "execution_count": 227,
   "metadata": {},
   "outputs": [
    {
     "data": {
      "text/plain": [
       "(0.14179656483912037, 0.39577205345136346)"
      ]
     },
     "execution_count": 227,
     "metadata": {},
     "output_type": "execute_result"
    }
   ],
   "source": [
    "r, p = scipy.stats.pearsonr(run_big5_valid['avg_num_running'], run_big5_valid['big5-n_post'])\n",
    "r, p"
   ]
  },
  {
   "cell_type": "markdown",
   "metadata": {},
   "source": [
    "#### 1.7) # running + GPA\n",
    "not significant"
   ]
  },
  {
   "cell_type": "code",
   "execution_count": 228,
   "metadata": {},
   "outputs": [],
   "source": [
    "run_gpa_valid = df[['uid', 'avg_num_activities', 'avg_num_running', \n",
    "                    'gpa_all', 'gpa_13s', 'cs_65']].dropna()"
   ]
  },
  {
   "cell_type": "code",
   "execution_count": 229,
   "metadata": {},
   "outputs": [
    {
     "data": {
      "text/plain": [
       "(-0.028345170015547864, 0.8818017534312977)"
      ]
     },
     "execution_count": 229,
     "metadata": {},
     "output_type": "execute_result"
    }
   ],
   "source": [
    "r, p = scipy.stats.pearsonr(run_gpa_valid['avg_num_activities'], run_gpa_valid['gpa_all'])\n",
    "r, p"
   ]
  },
  {
   "cell_type": "code",
   "execution_count": 230,
   "metadata": {},
   "outputs": [
    {
     "data": {
      "text/plain": [
       "(-0.06948445185802728, 0.7152219077455737)"
      ]
     },
     "execution_count": 230,
     "metadata": {},
     "output_type": "execute_result"
    }
   ],
   "source": [
    "r, p = scipy.stats.pearsonr(run_gpa_valid['avg_num_activities'], run_gpa_valid['gpa_13s'])\n",
    "r, p"
   ]
  },
  {
   "cell_type": "code",
   "execution_count": 231,
   "metadata": {},
   "outputs": [
    {
     "data": {
      "text/plain": [
       "(0.18218068165716264, 0.335276304894662)"
      ]
     },
     "execution_count": 231,
     "metadata": {},
     "output_type": "execute_result"
    }
   ],
   "source": [
    "r, p = scipy.stats.pearsonr(run_gpa_valid['avg_num_activities'], run_gpa_valid['cs_65'])\n",
    "r, p"
   ]
  },
  {
   "cell_type": "code",
   "execution_count": 232,
   "metadata": {},
   "outputs": [
    {
     "data": {
      "text/plain": [
       "(0.32843516039862425, 0.07639408287793785)"
      ]
     },
     "execution_count": 232,
     "metadata": {},
     "output_type": "execute_result"
    }
   ],
   "source": [
    "r, p = scipy.stats.pearsonr(run_gpa_valid['avg_num_running'], run_gpa_valid['gpa_all'])\n",
    "r, p"
   ]
  },
  {
   "cell_type": "code",
   "execution_count": 233,
   "metadata": {},
   "outputs": [
    {
     "data": {
      "text/plain": [
       "(0.1264739764553849, 0.5054279111147543)"
      ]
     },
     "execution_count": 233,
     "metadata": {},
     "output_type": "execute_result"
    }
   ],
   "source": [
    "r, p = scipy.stats.pearsonr(run_gpa_valid['avg_num_running'], run_gpa_valid['gpa_13s'])\n",
    "r, p"
   ]
  },
  {
   "cell_type": "code",
   "execution_count": 234,
   "metadata": {
    "scrolled": true
   },
   "outputs": [
    {
     "data": {
      "text/plain": [
       "(0.2674741949205507, 0.15301756694789886)"
      ]
     },
     "execution_count": 234,
     "metadata": {},
     "output_type": "execute_result"
    }
   ],
   "source": [
    "r, p = scipy.stats.pearsonr(run_gpa_valid['avg_num_running'], run_gpa_valid['cs_65'])\n",
    "r, p"
   ]
  },
  {
   "cell_type": "code",
   "execution_count": 235,
   "metadata": {},
   "outputs": [
    {
     "data": {
      "text/html": [
       "<div>\n",
       "<style scoped>\n",
       "    .dataframe tbody tr th:only-of-type {\n",
       "        vertical-align: middle;\n",
       "    }\n",
       "\n",
       "    .dataframe tbody tr th {\n",
       "        vertical-align: top;\n",
       "    }\n",
       "\n",
       "    .dataframe thead th {\n",
       "        text-align: right;\n",
       "    }\n",
       "</style>\n",
       "<table border=\"1\" class=\"dataframe\">\n",
       "  <thead>\n",
       "    <tr style=\"text-align: right;\">\n",
       "      <th></th>\n",
       "      <th>sig1</th>\n",
       "      <th>sig2</th>\n",
       "      <th>r</th>\n",
       "      <th>p</th>\n",
       "    </tr>\n",
       "  </thead>\n",
       "  <tbody>\n",
       "    <tr>\n",
       "      <th>0</th>\n",
       "      <td>avg_bt</td>\n",
       "      <td>phq-9_post</td>\n",
       "      <td>-0.363</td>\n",
       "      <td>0.025</td>\n",
       "    </tr>\n",
       "    <tr>\n",
       "      <th>1</th>\n",
       "      <td>avg_bt</td>\n",
       "      <td>big5-a_pre</td>\n",
       "      <td>-0.324</td>\n",
       "      <td>0.047</td>\n",
       "    </tr>\n",
       "    <tr>\n",
       "      <th>2</th>\n",
       "      <td>avg_bt</td>\n",
       "      <td>gpa_13s</td>\n",
       "      <td>0.447</td>\n",
       "      <td>0.048</td>\n",
       "    </tr>\n",
       "    <tr>\n",
       "      <th>3</th>\n",
       "      <td>avg_dist</td>\n",
       "      <td>gpa_13s</td>\n",
       "      <td>-0.516</td>\n",
       "      <td>0.004</td>\n",
       "    </tr>\n",
       "    <tr>\n",
       "      <th>4</th>\n",
       "      <td>avg_dist</td>\n",
       "      <td>cs_65</td>\n",
       "      <td>-0.515</td>\n",
       "      <td>0.004</td>\n",
       "    </tr>\n",
       "    <tr>\n",
       "      <th>5</th>\n",
       "      <td>locations</td>\n",
       "      <td>phq-9_post</td>\n",
       "      <td>-0.335</td>\n",
       "      <td>0.040</td>\n",
       "    </tr>\n",
       "    <tr>\n",
       "      <th>6</th>\n",
       "      <td>avg_num_activities</td>\n",
       "      <td>phq-9_pre</td>\n",
       "      <td>0.623</td>\n",
       "      <td>0.000</td>\n",
       "    </tr>\n",
       "    <tr>\n",
       "      <th>7</th>\n",
       "      <td>avg_num_activities</td>\n",
       "      <td>phq-9_post</td>\n",
       "      <td>0.459</td>\n",
       "      <td>0.004</td>\n",
       "    </tr>\n",
       "    <tr>\n",
       "      <th>8</th>\n",
       "      <td>avg_num_running</td>\n",
       "      <td>phq-9_pre</td>\n",
       "      <td>0.459</td>\n",
       "      <td>0.004</td>\n",
       "    </tr>\n",
       "    <tr>\n",
       "      <th>9</th>\n",
       "      <td>avg_num_activities</td>\n",
       "      <td>lon_post</td>\n",
       "      <td>0.350</td>\n",
       "      <td>0.034</td>\n",
       "    </tr>\n",
       "    <tr>\n",
       "      <th>10</th>\n",
       "      <td>avg_num_activities</td>\n",
       "      <td>pss_pre</td>\n",
       "      <td>0.416</td>\n",
       "      <td>0.008</td>\n",
       "    </tr>\n",
       "    <tr>\n",
       "      <th>11</th>\n",
       "      <td>avg_num_activities</td>\n",
       "      <td>pss_post</td>\n",
       "      <td>0.366</td>\n",
       "      <td>0.022</td>\n",
       "    </tr>\n",
       "  </tbody>\n",
       "</table>\n",
       "</div>"
      ],
      "text/plain": [
       "                  sig1        sig2      r      p\n",
       "0               avg_bt  phq-9_post -0.363  0.025\n",
       "1               avg_bt  big5-a_pre -0.324  0.047\n",
       "2               avg_bt     gpa_13s  0.447  0.048\n",
       "3             avg_dist     gpa_13s -0.516  0.004\n",
       "4             avg_dist       cs_65 -0.515  0.004\n",
       "5            locations  phq-9_post -0.335  0.040\n",
       "6   avg_num_activities   phq-9_pre  0.623  0.000\n",
       "7   avg_num_activities  phq-9_post  0.459  0.004\n",
       "8      avg_num_running   phq-9_pre  0.459  0.004\n",
       "9   avg_num_activities    lon_post  0.350  0.034\n",
       "10  avg_num_activities     pss_pre  0.416  0.008\n",
       "11  avg_num_activities    pss_post  0.366  0.022"
      ]
     },
     "execution_count": 235,
     "metadata": {},
     "output_type": "execute_result"
    }
   ],
   "source": [
    "sig_corr"
   ]
  },
  {
   "cell_type": "markdown",
   "metadata": {},
   "source": [
    "#### correlations summary\n",
    "|Feature|Scale|r|p|\n",
    "|:---|:---|---:|--:|\n",
    "|**average # of bluetooth devices**|depression|-0.363|0.025|\n",
    "||agreeableness|-0.324|0.047|\n",
    "||GPA (spring term)|0.447|0.048|\n",
    "|**average traveled distance**|GPA (spring term)|-0.516|0.004|\n",
    "|**# of location clusters**|depression|-0.335|0.040|\n",
    "|**# of running applications**|depression|0.623|0.001|\n",
    "||loneliness|0.350|0.034|\n",
    "||stress|0.416|0.008|\n"
   ]
  },
  {
   "cell_type": "markdown",
   "metadata": {},
   "source": [
    "### 2) App categories"
   ]
  },
  {
   "cell_type": "code",
   "execution_count": 237,
   "metadata": {},
   "outputs": [],
   "source": [
    "import requests\n",
    "from bs4 import BeautifulSoup\n",
    "\n",
    "def get_html(url):\n",
    "    html = \"\"\n",
    "    response = requests.get(url)\n",
    "    if response.status_code == 200:\n",
    "        html = response.text\n",
    "    return html\n",
    "\n",
    "GOOGLE_URL = \"https://play.google.com/store/apps/details?id=\";\n",
    "\n",
    "# social = ['Communication', 'Social', 'Dating']\n",
    "# engagement = ['Tools', 'Travel & Local', 'Productivity', 'Food & Drink', 'Libraries & Demo',\n",
    "#               'Health & Fitness', 'Finance', 'Personalization', 'Weather', 'Lifestyle',\n",
    "#               'Casual', 'Board', 'Strategy', 'Sports', 'Business', 'Maps & Navigation']\n",
    "# entertainment = ['Video Players & Editors', 'News & Magazines', 'Education', \n",
    "#                  'Music & Audio', 'Photography', 'Entertainment', 'Books & Reference',\n",
    "#                  'Puzzle', 'Arcade', 'Shopping', 'Word', 'Simulation', 'Action', 'Racing',\n",
    "#                  'Adventure', 'Role Playing', 'Card']\n",
    "# user_cat_nums = {}  # {uid: df of time & number of apps in each category}\n",
    "# user_cat_increase = {}  # {uid: df of time & increase in number of apps in each category}\n",
    "# categories = {}  # save categories of packages in order not to send requests too many times\n",
    "# # get total num activities, num running for each day\n",
    "# for key, value in app_data.items():\n",
    "#     curr_timestamp = None\n",
    "#     cat_nums = {}\n",
    "    \n",
    "#     for i in value.index:\n",
    "#         row_topActivity = value.at[i, 'RUNNING_TASKS_topActivity_mPackage']\n",
    "#         row_timestamp = value.at[i, 'timestamp']\n",
    "\n",
    "#         category = ''\n",
    "#         cat = -1\n",
    "#         if row_topActivity in categories:\n",
    "#             category = categories[row_topActivity]\n",
    "#         else:\n",
    "#             html = get_html(GOOGLE_URL + row_topActivity)\n",
    "#             soup = BeautifulSoup(html, 'html.parser')\n",
    "#             tags = soup.findAll('a', attrs={'itemprop': 'genre'})\n",
    "\n",
    "#             if tags:\n",
    "#                 for tag in tags:  # must be only one tag in tags\n",
    "#                     categories[row_topActivity] = tag.text\n",
    "#                     category = tag.text\n",
    "#             else:\n",
    "#                 categories[row_topActivity] = ''  # if no category in playstore, save as '' so it \n",
    "#                                                   # doesn't look for category anymore\n",
    "\n",
    "#         if category in social:\n",
    "#             cat = 0  # social\n",
    "#         elif category in engagement:\n",
    "#             cat = 1  # engagement\n",
    "#         elif category in entertainment:\n",
    "#             cat = 2  # entertainment\n",
    "#         elif category == '':\n",
    "#             pass\n",
    "#         else:\n",
    "#             print(category)\n",
    "#             print(row_topActivity)\n",
    "\n",
    "#         if row_timestamp == curr_timestamp:\n",
    "#             if cat == 0:\n",
    "#                 cat_nums[row_timestamp][0] += 1\n",
    "#             elif cat == 1:\n",
    "#                 cat_nums[row_timestamp][1] += 1\n",
    "#             elif cat == 2:\n",
    "#                 cat_nums[row_timestamp][2] += 1\n",
    "#         else:\n",
    "#             if cat == 0:\n",
    "#                 cat_nums[row_timestamp] = [row_timestamp, 1, 0, 0]\n",
    "#             elif cat == 1:\n",
    "#                 cat_nums[row_timestamp] = [row_timestamp, 0, 1, 0]\n",
    "#             elif cat == 2:\n",
    "#                 cat_nums[row_timestamp] = [row_timestamp, 0, 0, 1]\n",
    "#             elif cat == -1:\n",
    "#                 cat_nums[row_timestamp] = [row_timestamp, 0, 0, 0]\n",
    "#         curr_timestamp = row_timestamp\n",
    "\n",
    "#     cat_nums_df = pd.DataFrame.from_dict(cat_nums, columns = ['timestamp', 'social', \n",
    "#                                                               'engagement', 'entertainment'], \n",
    "#                                          orient='index').sort_values(by='timestamp') \\\n",
    "#                                                         .reset_index(drop=True)\n",
    "#     user_cat_nums[key] = cat_nums_df\n",
    "\n",
    "#     # get increase of each category\n",
    "#     cat_increase_df = cat_nums_df.copy()\n",
    "#     first = True\n",
    "#     for i in cat_increase_df.index:\n",
    "#         if first:\n",
    "#             first = False\n",
    "#             cat_increase_df.loc[i] = [0, 0, 0, 0]\n",
    "#         else:\n",
    "#             term = cat_nums_df.iat[i, 0] - cat_nums_df.iat[i-1, 0]\n",
    "#             soc = cat_nums_df.iat[i, 1] - cat_nums_df.iat[i-1, 1]\n",
    "#             eng = cat_nums_df.iat[i, 2] - cat_nums_df.iat[i-1, 2]\n",
    "#             ent = cat_nums_df.iat[i, 3] - cat_nums_df.iat[i-1, 3]\n",
    "#             cat_increase_df.iat[i, 0] = term\n",
    "#             cat_increase_df.iat[i, 1] = max(soc, 0) * 1000000 / term  # divide by time interval\n",
    "#             cat_increase_df.iat[i, 2] = max(eng, 0) * 1000000 / term\n",
    "#             cat_increase_df.iat[i, 3] = max(ent, 0) * 1000000 / term\n",
    "            \n",
    "#     user_cat_increase[key] = cat_increase_df"
   ]
  },
  {
   "cell_type": "code",
   "execution_count": 238,
   "metadata": {},
   "outputs": [
    {
     "name": "stdout",
     "output_type": "stream",
     "text": [
      "Google\n",
      "Gmail\n",
      "Hangouts\n",
      "Samsung One UI Home\n"
     ]
    }
   ],
   "source": [
    "# get app name from package name\n",
    "app_names = {}  # save app names of packages in order not to send requests too many times\n",
    "for key, value in app_data.items():\n",
    "    \n",
    "#     for i in value.index:\n",
    "    row_topActivity = value.at[0, 'RUNNING_TASKS_topActivity_mPackage']\n",
    "    row_timestamp = value.at[0, 'timestamp']\n",
    "\n",
    "    app_name = ''\n",
    "\n",
    "    if row_topActivity in app_names:\n",
    "        app_name = app_names[row_topActivity]\n",
    "    else:\n",
    "        html = get_html(GOOGLE_URL + row_topActivity)\n",
    "        soup = BeautifulSoup(html, 'html.parser')\n",
    "        tags = soup.findAll('h1', attrs={'itemprop': 'name'})\n",
    "\n",
    "        if tags:\n",
    "            for tag in tags:  # must be only one tag in tags\n",
    "                print(tag.text)\n",
    "                app_names[row_topActivity] = tag.text\n",
    "                app_name = tag.text\n",
    "        else:\n",
    "            app_names[row_topActivity] = ''  # if no category in playstore, save as '' so it \n",
    "                                              # doesn't look for category anymore"
   ]
  },
  {
   "cell_type": "code",
   "execution_count": null,
   "metadata": {},
   "outputs": [],
   "source": [
    "# get mean of increased apps for each category\n",
    "app_cat = []\n",
    "for key, value in user_cat_increase.items():\n",
    "    app_cat += [[key, round(value['social'].mean(), 3), round(value['engagement'].mean(), 3), \n",
    "                 round(value['entertainment'].mean(), 3)]]\n",
    "app_cat_df = pd.DataFrame(app_cat, columns=['uid', 'social', 'engagement', 'entertainment'])"
   ]
  },
  {
   "cell_type": "code",
   "execution_count": null,
   "metadata": {},
   "outputs": [],
   "source": [
    "app_cat_df"
   ]
  },
  {
   "cell_type": "code",
   "execution_count": null,
   "metadata": {},
   "outputs": [],
   "source": [
    "app_cat_df = app_cat_df.sort_values(by='uid').reset_index(drop=True)\n",
    "app_cat_df.head()"
   ]
  },
  {
   "cell_type": "code",
   "execution_count": null,
   "metadata": {},
   "outputs": [],
   "source": [
    "# merge\n",
    "df = pd.merge(df, app_cat_df, how='outer').sort_values(by='uid').reset_index(drop=True)\n",
    "df.head()"
   ]
  },
  {
   "cell_type": "markdown",
   "metadata": {},
   "source": [
    "#### 2.1) app category + phq\n",
    "pre, entertainment만 significant (r=0.363, p=0.025)"
   ]
  },
  {
   "cell_type": "code",
   "execution_count": null,
   "metadata": {},
   "outputs": [],
   "source": [
    "app_phq_valid = df[['uid', 'social', 'engagement', \n",
    "                    'entertainment', 'phq-9_pre', 'phq-9_post']].dropna()"
   ]
  },
  {
   "cell_type": "code",
   "execution_count": null,
   "metadata": {},
   "outputs": [],
   "source": [
    "r, p = scipy.stats.pearsonr(app_phq_valid['social'], app_phq_valid['phq-9_pre'])\n",
    "r, p"
   ]
  },
  {
   "cell_type": "code",
   "execution_count": null,
   "metadata": {},
   "outputs": [],
   "source": [
    "r, p = scipy.stats.pearsonr(app_phq_valid['engagement'], app_phq_valid['phq-9_pre'])\n",
    "r, p"
   ]
  },
  {
   "cell_type": "code",
   "execution_count": null,
   "metadata": {},
   "outputs": [],
   "source": [
    "r, p = scipy.stats.pearsonr(app_phq_valid['entertainment'], app_phq_valid['phq-9_pre'])\n",
    "r, p  # significant"
   ]
  },
  {
   "cell_type": "code",
   "execution_count": null,
   "metadata": {},
   "outputs": [],
   "source": [
    "r, p = scipy.stats.pearsonr(app_phq_valid['social'], app_phq_valid['phq-9_post'])\n",
    "r, p"
   ]
  },
  {
   "cell_type": "code",
   "execution_count": null,
   "metadata": {},
   "outputs": [],
   "source": [
    "r, p = scipy.stats.pearsonr(app_phq_valid['engagement'], app_phq_valid['phq-9_post'])\n",
    "r, p"
   ]
  },
  {
   "cell_type": "code",
   "execution_count": null,
   "metadata": {},
   "outputs": [],
   "source": [
    "r, p = scipy.stats.pearsonr(app_phq_valid['entertainment'], app_phq_valid['phq-9_post'])\n",
    "r, p"
   ]
  },
  {
   "cell_type": "code",
   "execution_count": null,
   "metadata": {},
   "outputs": [],
   "source": [
    "# save significant associations in a dataframe (-> export as csv file)\n",
    "sig_arr = [['entertainment', 'phq-9_pre', 0.363, 0.025]]\n",
    "sig_corr = sig_corr.append(pd.DataFrame(sig_arr, columns=['sig1', 'sig2', 'r', 'p']))\n",
    "sig_corr.to_csv('sig_corr.csv')"
   ]
  },
  {
   "cell_type": "markdown",
   "metadata": {},
   "source": [
    "#### 2.2) app category + flourishing\n",
    "entertainment, pre만 significant (r=-0.341, p=0.048)"
   ]
  },
  {
   "cell_type": "code",
   "execution_count": null,
   "metadata": {},
   "outputs": [],
   "source": [
    "valid_df = df[['uid', 'social', 'engagement', \n",
    "                    'entertainment', 'fl_pre', 'fl_post']].dropna()"
   ]
  },
  {
   "cell_type": "code",
   "execution_count": null,
   "metadata": {},
   "outputs": [],
   "source": [
    "r, p = scipy.stats.pearsonr(valid_df['social'], valid_df['fl_pre'])\n",
    "r, p"
   ]
  },
  {
   "cell_type": "code",
   "execution_count": null,
   "metadata": {},
   "outputs": [],
   "source": [
    "r, p = scipy.stats.pearsonr(valid_df['engagement'], valid_df['fl_pre'])\n",
    "r, p"
   ]
  },
  {
   "cell_type": "code",
   "execution_count": null,
   "metadata": {},
   "outputs": [],
   "source": [
    "r, p = scipy.stats.pearsonr(valid_df['entertainment'], valid_df['fl_pre'])\n",
    "r, p  # significant"
   ]
  },
  {
   "cell_type": "code",
   "execution_count": null,
   "metadata": {},
   "outputs": [],
   "source": [
    "r, p = scipy.stats.pearsonr(valid_df['social'], valid_df['fl_post'])\n",
    "r, p"
   ]
  },
  {
   "cell_type": "code",
   "execution_count": null,
   "metadata": {},
   "outputs": [],
   "source": [
    "r, p = scipy.stats.pearsonr(valid_df['engagement'], valid_df['fl_post'])\n",
    "r, p"
   ]
  },
  {
   "cell_type": "code",
   "execution_count": null,
   "metadata": {},
   "outputs": [],
   "source": [
    "r, p = scipy.stats.pearsonr(valid_df['entertainment'], valid_df['fl_post'])\n",
    "r, p"
   ]
  },
  {
   "cell_type": "code",
   "execution_count": null,
   "metadata": {},
   "outputs": [],
   "source": [
    "# save significant associations in a dataframe (-> export as csv file)\n",
    "sig_arr = [['entertainment', 'fl_pre', -0.341, 0.048]]\n",
    "sig_corr = sig_corr.append(pd.DataFrame(sig_arr, columns=['sig1', 'sig2', 'r', 'p']))\n",
    "sig_corr.to_csv('sig_corr.csv')"
   ]
  },
  {
   "cell_type": "markdown",
   "metadata": {},
   "source": [
    "#### 2.3) app category + loneliness\n",
    "not significant"
   ]
  },
  {
   "cell_type": "code",
   "execution_count": null,
   "metadata": {},
   "outputs": [],
   "source": [
    "valid_df = df[['uid', 'social', 'engagement', \n",
    "                    'entertainment', 'lon_pre', 'lon_post']].dropna()"
   ]
  },
  {
   "cell_type": "code",
   "execution_count": null,
   "metadata": {},
   "outputs": [],
   "source": [
    "r, p = scipy.stats.pearsonr(valid_df['social'], valid_df['lon_pre'])\n",
    "r, p"
   ]
  },
  {
   "cell_type": "code",
   "execution_count": null,
   "metadata": {},
   "outputs": [],
   "source": [
    "r, p = scipy.stats.pearsonr(valid_df['engagement'], valid_df['lon_pre'])\n",
    "r, p"
   ]
  },
  {
   "cell_type": "code",
   "execution_count": null,
   "metadata": {},
   "outputs": [],
   "source": [
    "r, p = scipy.stats.pearsonr(valid_df['entertainment'], valid_df['lon_pre'])\n",
    "r, p"
   ]
  },
  {
   "cell_type": "code",
   "execution_count": null,
   "metadata": {},
   "outputs": [],
   "source": [
    "r, p = scipy.stats.pearsonr(valid_df['social'], valid_df['lon_post'])\n",
    "r, p"
   ]
  },
  {
   "cell_type": "code",
   "execution_count": null,
   "metadata": {},
   "outputs": [],
   "source": [
    "r, p = scipy.stats.pearsonr(valid_df['engagement'], valid_df['lon_post'])\n",
    "r, p"
   ]
  },
  {
   "cell_type": "code",
   "execution_count": null,
   "metadata": {},
   "outputs": [],
   "source": [
    "r, p = scipy.stats.pearsonr(valid_df['entertainment'], valid_df['lon_post'])\n",
    "r, p"
   ]
  },
  {
   "cell_type": "markdown",
   "metadata": {},
   "source": [
    "#### 2.4) app category + PANAS\n",
    "entertainment, positive (pre)만 significant (r=0.201, p=0.227)"
   ]
  },
  {
   "cell_type": "code",
   "execution_count": null,
   "metadata": {},
   "outputs": [],
   "source": [
    "valid_df = df[['uid', 'social', 'engagement', \n",
    "               'entertainment', 'panas-pos_pre', 'panas-pos_post', \n",
    "               'panas-neg_pre', 'panas-neg_post']].dropna()"
   ]
  },
  {
   "cell_type": "code",
   "execution_count": null,
   "metadata": {},
   "outputs": [],
   "source": [
    "r, p = scipy.stats.pearsonr(valid_df['social'], valid_df['panas-pos_pre'])\n",
    "r, p"
   ]
  },
  {
   "cell_type": "code",
   "execution_count": null,
   "metadata": {},
   "outputs": [],
   "source": [
    "r, p = scipy.stats.pearsonr(valid_df['engagement'], valid_df['panas-pos_pre'])\n",
    "r, p"
   ]
  },
  {
   "cell_type": "code",
   "execution_count": null,
   "metadata": {},
   "outputs": [],
   "source": [
    "r, p = scipy.stats.pearsonr(valid_df['entertainment'], valid_df['panas-pos_pre'])\n",
    "r, p  # significant"
   ]
  },
  {
   "cell_type": "code",
   "execution_count": null,
   "metadata": {},
   "outputs": [],
   "source": [
    "r, p = scipy.stats.pearsonr(valid_df['social'], valid_df['panas-pos_post'])\n",
    "r, p"
   ]
  },
  {
   "cell_type": "code",
   "execution_count": null,
   "metadata": {},
   "outputs": [],
   "source": [
    "r, p = scipy.stats.pearsonr(valid_df['engagement'], valid_df['panas-pos_post'])\n",
    "r, p"
   ]
  },
  {
   "cell_type": "code",
   "execution_count": null,
   "metadata": {},
   "outputs": [],
   "source": [
    "r, p = scipy.stats.pearsonr(valid_df['entertainment'], valid_df['panas-pos_post'])\n",
    "r, p"
   ]
  },
  {
   "cell_type": "code",
   "execution_count": null,
   "metadata": {},
   "outputs": [],
   "source": [
    "r, p = scipy.stats.pearsonr(valid_df['social'], valid_df['panas-neg_pre'])\n",
    "r, p"
   ]
  },
  {
   "cell_type": "code",
   "execution_count": null,
   "metadata": {},
   "outputs": [],
   "source": [
    "r, p = scipy.stats.pearsonr(valid_df['engagement'], valid_df['panas-neg_pre'])\n",
    "r, p"
   ]
  },
  {
   "cell_type": "code",
   "execution_count": null,
   "metadata": {},
   "outputs": [],
   "source": [
    "r, p = scipy.stats.pearsonr(valid_df['entertainment'], valid_df['panas-neg_pre'])\n",
    "r, p"
   ]
  },
  {
   "cell_type": "code",
   "execution_count": null,
   "metadata": {},
   "outputs": [],
   "source": [
    "r, p = scipy.stats.pearsonr(valid_df['social'], valid_df['panas-neg_post'])\n",
    "r, p"
   ]
  },
  {
   "cell_type": "code",
   "execution_count": null,
   "metadata": {},
   "outputs": [],
   "source": [
    "r, p = scipy.stats.pearsonr(valid_df['engagement'], valid_df['panas-neg_post'])\n",
    "r, p"
   ]
  },
  {
   "cell_type": "code",
   "execution_count": null,
   "metadata": {},
   "outputs": [],
   "source": [
    "r, p = scipy.stats.pearsonr(valid_df['entertainment'], valid_df['panas-neg_post'])\n",
    "r, p"
   ]
  },
  {
   "cell_type": "code",
   "execution_count": null,
   "metadata": {},
   "outputs": [],
   "source": [
    "# save significant associations in a dataframe (-> export as csv file)\n",
    "sig_arr = [['entertainment', 'panas-pos_pre', 0.201, 0.227]]\n",
    "sig_corr = sig_corr.append(pd.DataFrame(sig_arr, columns=['sig1', 'sig2', 'r', 'p']))\n",
    "sig_corr.to_csv('sig_corr.csv')"
   ]
  },
  {
   "cell_type": "markdown",
   "metadata": {},
   "source": [
    "#### 2.5) app category + Big Five\n",
    "not significant"
   ]
  },
  {
   "cell_type": "code",
   "execution_count": null,
   "metadata": {},
   "outputs": [],
   "source": [
    "valid_df = df[['uid', 'social', 'engagement', \n",
    "               'entertainment', 'big5-o_pre', 'big5-o_post', 'big5-c_pre', 'big5-c_post',\n",
    "               'big5-e_pre', 'big5-e_post', 'big5-a_pre', 'big5-a_post', 'big5-n_pre',\n",
    "               'big5-n_post']].dropna()"
   ]
  },
  {
   "cell_type": "code",
   "execution_count": null,
   "metadata": {},
   "outputs": [],
   "source": [
    "r, p = scipy.stats.pearsonr(valid_df['social'], valid_df['big5-o_pre'])\n",
    "r, p"
   ]
  },
  {
   "cell_type": "code",
   "execution_count": null,
   "metadata": {},
   "outputs": [],
   "source": [
    "r, p = scipy.stats.pearsonr(valid_df['engagement'], valid_df['big5-o_pre'])\n",
    "r, p"
   ]
  },
  {
   "cell_type": "code",
   "execution_count": null,
   "metadata": {},
   "outputs": [],
   "source": [
    "r, p = scipy.stats.pearsonr(valid_df['entertainment'], valid_df['big5-o_pre'])\n",
    "r, p"
   ]
  },
  {
   "cell_type": "code",
   "execution_count": null,
   "metadata": {},
   "outputs": [],
   "source": [
    "r, p = scipy.stats.pearsonr(valid_df['social'], valid_df['big5-o_post'])\n",
    "r, p"
   ]
  },
  {
   "cell_type": "code",
   "execution_count": null,
   "metadata": {},
   "outputs": [],
   "source": [
    "r, p = scipy.stats.pearsonr(valid_df['engagement'], valid_df['big5-o_post'])\n",
    "r, p"
   ]
  },
  {
   "cell_type": "code",
   "execution_count": null,
   "metadata": {},
   "outputs": [],
   "source": [
    "r, p = scipy.stats.pearsonr(valid_df['entertainment'], valid_df['big5-o_post'])\n",
    "r, p"
   ]
  },
  {
   "cell_type": "code",
   "execution_count": null,
   "metadata": {},
   "outputs": [],
   "source": [
    "r, p = scipy.stats.pearsonr(valid_df['social'], valid_df['big5-c_pre'])\n",
    "r, p"
   ]
  },
  {
   "cell_type": "code",
   "execution_count": null,
   "metadata": {},
   "outputs": [],
   "source": [
    "r, p = scipy.stats.pearsonr(valid_df['engagement'], valid_df['big5-c_pre'])\n",
    "r, p"
   ]
  },
  {
   "cell_type": "code",
   "execution_count": null,
   "metadata": {},
   "outputs": [],
   "source": [
    "r, p = scipy.stats.pearsonr(valid_df['entertainment'], valid_df['big5-c_pre'])\n",
    "r, p"
   ]
  },
  {
   "cell_type": "code",
   "execution_count": null,
   "metadata": {},
   "outputs": [],
   "source": [
    "r, p = scipy.stats.pearsonr(valid_df['social'], valid_df['big5-c_post'])\n",
    "r, p"
   ]
  },
  {
   "cell_type": "code",
   "execution_count": null,
   "metadata": {},
   "outputs": [],
   "source": [
    "r, p = scipy.stats.pearsonr(valid_df['engagement'], valid_df['big5-c_post'])\n",
    "r, p"
   ]
  },
  {
   "cell_type": "code",
   "execution_count": null,
   "metadata": {},
   "outputs": [],
   "source": [
    "r, p = scipy.stats.pearsonr(valid_df['entertainment'], valid_df['big5-c_post'])\n",
    "r, p"
   ]
  },
  {
   "cell_type": "code",
   "execution_count": null,
   "metadata": {},
   "outputs": [],
   "source": [
    "r, p = scipy.stats.pearsonr(valid_df['social'], valid_df['big5-e_pre'])\n",
    "r, p"
   ]
  },
  {
   "cell_type": "code",
   "execution_count": null,
   "metadata": {},
   "outputs": [],
   "source": [
    "r, p = scipy.stats.pearsonr(valid_df['engagement'], valid_df['big5-e_pre'])\n",
    "r, p"
   ]
  },
  {
   "cell_type": "code",
   "execution_count": null,
   "metadata": {},
   "outputs": [],
   "source": [
    "r, p = scipy.stats.pearsonr(valid_df['entertainment'], valid_df['big5-e_pre'])\n",
    "r, p"
   ]
  },
  {
   "cell_type": "code",
   "execution_count": null,
   "metadata": {},
   "outputs": [],
   "source": [
    "r, p = scipy.stats.pearsonr(valid_df['social'], valid_df['big5-e_post'])\n",
    "r, p"
   ]
  },
  {
   "cell_type": "code",
   "execution_count": null,
   "metadata": {},
   "outputs": [],
   "source": [
    "r, p = scipy.stats.pearsonr(valid_df['engagement'], valid_df['big5-e_post'])\n",
    "r, p"
   ]
  },
  {
   "cell_type": "code",
   "execution_count": null,
   "metadata": {},
   "outputs": [],
   "source": [
    "r, p = scipy.stats.pearsonr(valid_df['entertainment'], valid_df['big5-e_post'])\n",
    "r, p"
   ]
  },
  {
   "cell_type": "code",
   "execution_count": null,
   "metadata": {},
   "outputs": [],
   "source": [
    "r, p = scipy.stats.pearsonr(valid_df['social'], valid_df['big5-a_pre'])\n",
    "r, p"
   ]
  },
  {
   "cell_type": "code",
   "execution_count": null,
   "metadata": {},
   "outputs": [],
   "source": [
    "r, p = scipy.stats.pearsonr(valid_df['engagement'], valid_df['big5-a_pre'])\n",
    "r, p"
   ]
  },
  {
   "cell_type": "code",
   "execution_count": null,
   "metadata": {},
   "outputs": [],
   "source": [
    "r, p = scipy.stats.pearsonr(valid_df['entertainment'], valid_df['big5-a_pre'])\n",
    "r, p"
   ]
  },
  {
   "cell_type": "code",
   "execution_count": null,
   "metadata": {},
   "outputs": [],
   "source": [
    "r, p = scipy.stats.pearsonr(valid_df['social'], valid_df['big5-a_post'])\n",
    "r, p"
   ]
  },
  {
   "cell_type": "code",
   "execution_count": null,
   "metadata": {},
   "outputs": [],
   "source": [
    "r, p = scipy.stats.pearsonr(valid_df['engagement'], valid_df['big5-a_post'])\n",
    "r, p"
   ]
  },
  {
   "cell_type": "code",
   "execution_count": null,
   "metadata": {},
   "outputs": [],
   "source": [
    "r, p = scipy.stats.pearsonr(valid_df['entertainment'], valid_df['big5-a_post'])\n",
    "r, p"
   ]
  },
  {
   "cell_type": "code",
   "execution_count": null,
   "metadata": {},
   "outputs": [],
   "source": [
    "r, p = scipy.stats.pearsonr(valid_df['social'], valid_df['big5-n_pre'])\n",
    "r, p"
   ]
  },
  {
   "cell_type": "code",
   "execution_count": null,
   "metadata": {},
   "outputs": [],
   "source": [
    "r, p = scipy.stats.pearsonr(valid_df['engagement'], valid_df['big5-n_pre'])\n",
    "r, p"
   ]
  },
  {
   "cell_type": "code",
   "execution_count": null,
   "metadata": {},
   "outputs": [],
   "source": [
    "r, p = scipy.stats.pearsonr(valid_df['entertainment'], valid_df['big5-n_pre'])\n",
    "r, p"
   ]
  },
  {
   "cell_type": "code",
   "execution_count": null,
   "metadata": {},
   "outputs": [],
   "source": [
    "r, p = scipy.stats.pearsonr(valid_df['social'], valid_df['big5-n_post'])\n",
    "r, p"
   ]
  },
  {
   "cell_type": "code",
   "execution_count": null,
   "metadata": {},
   "outputs": [],
   "source": [
    "r, p = scipy.stats.pearsonr(valid_df['engagement'], valid_df['big5-n_post'])\n",
    "r, p"
   ]
  },
  {
   "cell_type": "code",
   "execution_count": null,
   "metadata": {},
   "outputs": [],
   "source": [
    "r, p = scipy.stats.pearsonr(valid_df['entertainment'], valid_df['big5-n_post'])\n",
    "r, p"
   ]
  },
  {
   "cell_type": "markdown",
   "metadata": {},
   "source": [
    "#### 2.6) app category + stress\n",
    "not significant"
   ]
  },
  {
   "cell_type": "code",
   "execution_count": null,
   "metadata": {},
   "outputs": [],
   "source": [
    "valid_df = df[['uid', 'social', 'engagement', \n",
    "               'entertainment', 'pss_pre', 'pss_post']].dropna()"
   ]
  },
  {
   "cell_type": "code",
   "execution_count": null,
   "metadata": {},
   "outputs": [],
   "source": [
    "r, p = scipy.stats.pearsonr(valid_df['social'], valid_df['pss_pre'])\n",
    "r, p"
   ]
  },
  {
   "cell_type": "code",
   "execution_count": null,
   "metadata": {},
   "outputs": [],
   "source": [
    "r, p = scipy.stats.pearsonr(valid_df['engagement'], valid_df['pss_pre'])\n",
    "r, p"
   ]
  },
  {
   "cell_type": "code",
   "execution_count": null,
   "metadata": {},
   "outputs": [],
   "source": [
    "r, p = scipy.stats.pearsonr(valid_df['entertainment'], valid_df['pss_pre'])\n",
    "r, p"
   ]
  },
  {
   "cell_type": "code",
   "execution_count": null,
   "metadata": {},
   "outputs": [],
   "source": [
    "r, p = scipy.stats.pearsonr(valid_df['social'], valid_df['pss_post'])\n",
    "r, p"
   ]
  },
  {
   "cell_type": "code",
   "execution_count": null,
   "metadata": {},
   "outputs": [],
   "source": [
    "r, p = scipy.stats.pearsonr(valid_df['engagement'], valid_df['pss_post'])\n",
    "r, p"
   ]
  },
  {
   "cell_type": "code",
   "execution_count": null,
   "metadata": {},
   "outputs": [],
   "source": [
    "r, p = scipy.stats.pearsonr(valid_df['entertainment'], valid_df['pss_post'])\n",
    "r, p"
   ]
  },
  {
   "cell_type": "markdown",
   "metadata": {},
   "source": [
    "#### 2.7) app category + GPA\n",
    "not significant"
   ]
  },
  {
   "cell_type": "code",
   "execution_count": null,
   "metadata": {},
   "outputs": [],
   "source": [
    "valid_df = df[['uid', 'social', 'engagement', \n",
    "               'entertainment', 'gpa_all', 'gpa_13s', 'cs_65']].dropna()"
   ]
  },
  {
   "cell_type": "code",
   "execution_count": null,
   "metadata": {},
   "outputs": [],
   "source": [
    "r, p = scipy.stats.pearsonr(valid_df['social'], valid_df['gpa_all'])\n",
    "r, p"
   ]
  },
  {
   "cell_type": "code",
   "execution_count": null,
   "metadata": {},
   "outputs": [],
   "source": [
    "r, p = scipy.stats.pearsonr(valid_df['engagement'], valid_df['gpa_all'])\n",
    "r, p"
   ]
  },
  {
   "cell_type": "code",
   "execution_count": null,
   "metadata": {},
   "outputs": [],
   "source": [
    "r, p = scipy.stats.pearsonr(valid_df['entertainment'], valid_df['gpa_all'])\n",
    "r, p"
   ]
  },
  {
   "cell_type": "code",
   "execution_count": null,
   "metadata": {},
   "outputs": [],
   "source": [
    "r, p = scipy.stats.pearsonr(valid_df['social'], valid_df['gpa_13s'])\n",
    "r, p"
   ]
  },
  {
   "cell_type": "code",
   "execution_count": null,
   "metadata": {},
   "outputs": [],
   "source": [
    "r, p = scipy.stats.pearsonr(valid_df['engagement'], valid_df['gpa_13s'])\n",
    "r, p"
   ]
  },
  {
   "cell_type": "code",
   "execution_count": null,
   "metadata": {},
   "outputs": [],
   "source": [
    "r, p = scipy.stats.pearsonr(valid_df['entertainment'], valid_df['gpa_13s'])\n",
    "r, p"
   ]
  },
  {
   "cell_type": "code",
   "execution_count": null,
   "metadata": {},
   "outputs": [],
   "source": [
    "r, p = scipy.stats.pearsonr(valid_df['social'], valid_df['cs_65'])\n",
    "r, p"
   ]
  },
  {
   "cell_type": "code",
   "execution_count": null,
   "metadata": {},
   "outputs": [],
   "source": [
    "r, p = scipy.stats.pearsonr(valid_df['engagement'], valid_df['cs_65'])\n",
    "r, p"
   ]
  },
  {
   "cell_type": "code",
   "execution_count": null,
   "metadata": {},
   "outputs": [],
   "source": [
    "r, p = scipy.stats.pearsonr(valid_df['entertainment'], valid_df['cs_65'])\n",
    "r, p"
   ]
  },
  {
   "cell_type": "markdown",
   "metadata": {},
   "source": []
  },
  {
   "cell_type": "code",
   "execution_count": null,
   "metadata": {},
   "outputs": [],
   "source": []
  },
  {
   "cell_type": "code",
   "execution_count": null,
   "metadata": {},
   "outputs": [],
   "source": []
  },
  {
   "cell_type": "code",
   "execution_count": null,
   "metadata": {},
   "outputs": [],
   "source": []
  },
  {
   "cell_type": "code",
   "execution_count": null,
   "metadata": {},
   "outputs": [],
   "source": []
  },
  {
   "cell_type": "code",
   "execution_count": null,
   "metadata": {},
   "outputs": [],
   "source": []
  },
  {
   "cell_type": "code",
   "execution_count": null,
   "metadata": {},
   "outputs": [],
   "source": []
  },
  {
   "cell_type": "code",
   "execution_count": null,
   "metadata": {},
   "outputs": [],
   "source": []
  },
  {
   "cell_type": "markdown",
   "metadata": {},
   "source": [
    "## Light\n"
   ]
  },
  {
   "cell_type": "code",
   "execution_count": null,
   "metadata": {},
   "outputs": [],
   "source": [
    "# import light data\n",
    "path = '//data/dopameter/student_life/dataset/dataset/sensing/dark/*.csv'\n",
    "light_data = {}\n",
    "for file_name in glob.glob(bt_path):\n",
    "    f = open(file_name, 'r')\n",
    "    uid = int(re.search(r'\\d+', file_name).group())  # user id\n",
    "    light_data[uid] = pd.read_csv(f)  # dict {uid: light dataframe}"
   ]
  },
  {
   "cell_type": "code",
   "execution_count": null,
   "metadata": {},
   "outputs": [],
   "source": []
  },
  {
   "cell_type": "code",
   "execution_count": null,
   "metadata": {},
   "outputs": [],
   "source": []
  },
  {
   "cell_type": "code",
   "execution_count": null,
   "metadata": {},
   "outputs": [],
   "source": []
  },
  {
   "cell_type": "code",
   "execution_count": null,
   "metadata": {},
   "outputs": [],
   "source": []
  },
  {
   "cell_type": "code",
   "execution_count": null,
   "metadata": {},
   "outputs": [],
   "source": []
  },
  {
   "cell_type": "code",
   "execution_count": null,
   "metadata": {},
   "outputs": [],
   "source": []
  },
  {
   "cell_type": "code",
   "execution_count": null,
   "metadata": {},
   "outputs": [],
   "source": []
  },
  {
   "cell_type": "code",
   "execution_count": null,
   "metadata": {},
   "outputs": [],
   "source": []
  },
  {
   "cell_type": "code",
   "execution_count": null,
   "metadata": {},
   "outputs": [],
   "source": []
  },
  {
   "cell_type": "code",
   "execution_count": null,
   "metadata": {},
   "outputs": [],
   "source": []
  },
  {
   "cell_type": "code",
   "execution_count": null,
   "metadata": {},
   "outputs": [],
   "source": []
  },
  {
   "cell_type": "code",
   "execution_count": null,
   "metadata": {},
   "outputs": [],
   "source": []
  },
  {
   "cell_type": "code",
   "execution_count": null,
   "metadata": {},
   "outputs": [],
   "source": []
  },
  {
   "cell_type": "code",
   "execution_count": null,
   "metadata": {},
   "outputs": [],
   "source": []
  },
  {
   "cell_type": "code",
   "execution_count": null,
   "metadata": {},
   "outputs": [],
   "source": []
  },
  {
   "cell_type": "code",
   "execution_count": null,
   "metadata": {},
   "outputs": [],
   "source": [
    "df.to_csv('user_data.csv')"
   ]
  },
  {
   "cell_type": "code",
   "execution_count": null,
   "metadata": {},
   "outputs": [],
   "source": []
  }
 ],
 "metadata": {
  "kernelspec": {
   "display_name": "Python (venv)",
   "language": "python",
   "name": "venv"
  },
  "language_info": {
   "codemirror_mode": {
    "name": "ipython",
    "version": 3
   },
   "file_extension": ".py",
   "mimetype": "text/x-python",
   "name": "python",
   "nbconvert_exporter": "python",
   "pygments_lexer": "ipython3",
   "version": "3.7.7"
  }
 },
 "nbformat": 4,
 "nbformat_minor": 4
}
